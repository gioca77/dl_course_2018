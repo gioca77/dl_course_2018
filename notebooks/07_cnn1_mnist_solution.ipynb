{
 "cells": [
  {
   "cell_type": "markdown",
   "metadata": {},
   "source": [
    "# Using CNN  on a small MNIST data set\n",
    "\n",
    "In this script we build a small CNN with 1 convolutional layer and 1 dense layer. Like in the experiments with the fully connected NN with MNIST that we performed last time, we use again a small data with only 2400 images in the training data set so that the NN can be trained on the CPU."
   ]
  },
  {
   "cell_type": "code",
   "execution_count": 1,
   "metadata": {},
   "outputs": [],
   "source": [
    "#!pip3 install sklearn ##for docker users "
   ]
  },
  {
   "cell_type": "code",
   "execution_count": 2,
   "metadata": {
    "scrolled": true
   },
   "outputs": [
    {
     "name": "stderr",
     "output_type": "stream",
     "text": [
      "Using TensorFlow backend.\n"
     ]
    },
    {
     "name": "stdout",
     "output_type": "stream",
     "text": [
      "Keras 2.2.4 TF 1.13.0-rc1 Python sys.version_info(major=3, minor=5, micro=2, releaselevel='final', serial=0)\n"
     ]
    }
   ],
   "source": [
    "%matplotlib inline\n",
    "\n",
    "import matplotlib.pyplot as plt\n",
    "import matplotlib.image as imgplot\n",
    "import numpy as np\n",
    "import pandas as pd\n",
    "from sklearn.metrics import confusion_matrix\n",
    "from IPython.display import SVG\n",
    "from keras.utils.vis_utils import model_to_dot\n",
    "\n",
    "import time\n",
    "import tensorflow as tf\n",
    "tf.set_random_seed(1)\n",
    "\n",
    "from keras.models import Sequential\n",
    "from keras.layers import Dense, Activation, Dropout, BatchNormalization\n",
    "from keras.layers import Convolution2D, MaxPooling2D, Flatten\n",
    "import keras\n",
    "import sys\n",
    "print (\"Keras {} TF {} Python {}\".format(keras.__version__, tf.__version__, sys.version_info))"
   ]
  },
  {
   "cell_type": "code",
   "execution_count": 3,
   "metadata": {},
   "outputs": [],
   "source": [
    "from keras.datasets import mnist\n",
    "(x_train, y_train), (x_test, y_test) = mnist.load_data()\n",
    "X_train=x_train[0:2400]\n",
    "Y_train=y_train[0:2400]\n",
    "\n",
    "X_val=x_train[2400:3000]\n",
    "Y_val=y_train[2400:3000]\n",
    "\n",
    "X_test=x_test[0:1000]\n",
    "Y_test=y_test[0:1000]\n",
    "\n",
    "del x_train, y_train, x_test, y_test\n"
   ]
  },
  {
   "cell_type": "code",
   "execution_count": 4,
   "metadata": {},
   "outputs": [
    {
     "name": "stdout",
     "output_type": "stream",
     "text": [
      "(2400, 28, 28, 1)\n",
      "(600, 28, 28, 1)\n",
      "(1000, 28, 28, 1)\n"
     ]
    }
   ],
   "source": [
    "X_train=np.reshape(X_train, (2400,28,28,1))\n",
    "X_val=np.reshape(X_val, (600,28,28,1))\n",
    "X_test=np.reshape(X_test, (1000,28,28,1))\n",
    "\n",
    "print(X_train.shape)\n",
    "print(X_val.shape)\n",
    "print(X_test.shape)"
   ]
  },
  {
   "cell_type": "code",
   "execution_count": 5,
   "metadata": {},
   "outputs": [
    {
     "data": {
      "text/plain": [
       "<matplotlib.image.AxesImage at 0x7f9815c29c50>"
      ]
     },
     "execution_count": 5,
     "metadata": {},
     "output_type": "execute_result"
    },
    {
     "data": {
      "image/png": "[encoded data removed]",
      "text/plain": [
       "<Figure size 432x288 with 1 Axes>"
      ]
     },
     "metadata": {
      "needs_background": "light"
     },
     "output_type": "display_data"
    }
   ],
   "source": [
    "plt.imshow(X_train[13,:,:,0],cmap=\"gray\")"
   ]
  },
  {
   "cell_type": "code",
   "execution_count": 6,
   "metadata": {},
   "outputs": [
    {
     "data": {
      "text/html": [
       "<div>\n",
       "<style scoped>\n",
       "    .dataframe tbody tr th:only-of-type {\n",
       "        vertical-align: middle;\n",
       "    }\n",
       "\n",
       "    .dataframe tbody tr th {\n",
       "        vertical-align: top;\n",
       "    }\n",
       "\n",
       "    .dataframe thead th {\n",
       "        text-align: right;\n",
       "    }\n",
       "</style>\n",
       "<table border=\"1\" class=\"dataframe\">\n",
       "  <thead>\n",
       "    <tr style=\"text-align: right;\">\n",
       "      <th></th>\n",
       "      <th>train_label</th>\n",
       "      <th>#train_examples</th>\n",
       "      <th>val_label</th>\n",
       "      <th>#val_examples</th>\n",
       "      <th>test_label</th>\n",
       "      <th>#test_examples</th>\n",
       "    </tr>\n",
       "  </thead>\n",
       "  <tbody>\n",
       "    <tr>\n",
       "      <th>0</th>\n",
       "      <td>0</td>\n",
       "      <td>225</td>\n",
       "      <td>0</td>\n",
       "      <td>60</td>\n",
       "      <td>0</td>\n",
       "      <td>85</td>\n",
       "    </tr>\n",
       "    <tr>\n",
       "      <th>1</th>\n",
       "      <td>1</td>\n",
       "      <td>265</td>\n",
       "      <td>1</td>\n",
       "      <td>74</td>\n",
       "      <td>1</td>\n",
       "      <td>126</td>\n",
       "    </tr>\n",
       "    <tr>\n",
       "      <th>2</th>\n",
       "      <td>2</td>\n",
       "      <td>238</td>\n",
       "      <td>2</td>\n",
       "      <td>61</td>\n",
       "      <td>2</td>\n",
       "      <td>116</td>\n",
       "    </tr>\n",
       "    <tr>\n",
       "      <th>3</th>\n",
       "      <td>3</td>\n",
       "      <td>231</td>\n",
       "      <td>3</td>\n",
       "      <td>64</td>\n",
       "      <td>3</td>\n",
       "      <td>107</td>\n",
       "    </tr>\n",
       "    <tr>\n",
       "      <th>4</th>\n",
       "      <td>4</td>\n",
       "      <td>263</td>\n",
       "      <td>4</td>\n",
       "      <td>62</td>\n",
       "      <td>4</td>\n",
       "      <td>110</td>\n",
       "    </tr>\n",
       "    <tr>\n",
       "      <th>5</th>\n",
       "      <td>5</td>\n",
       "      <td>219</td>\n",
       "      <td>5</td>\n",
       "      <td>55</td>\n",
       "      <td>5</td>\n",
       "      <td>87</td>\n",
       "    </tr>\n",
       "    <tr>\n",
       "      <th>6</th>\n",
       "      <td>6</td>\n",
       "      <td>243</td>\n",
       "      <td>6</td>\n",
       "      <td>63</td>\n",
       "      <td>6</td>\n",
       "      <td>87</td>\n",
       "    </tr>\n",
       "    <tr>\n",
       "      <th>7</th>\n",
       "      <td>7</td>\n",
       "      <td>265</td>\n",
       "      <td>7</td>\n",
       "      <td>64</td>\n",
       "      <td>7</td>\n",
       "      <td>99</td>\n",
       "    </tr>\n",
       "    <tr>\n",
       "      <th>8</th>\n",
       "      <td>8</td>\n",
       "      <td>213</td>\n",
       "      <td>8</td>\n",
       "      <td>48</td>\n",
       "      <td>8</td>\n",
       "      <td>89</td>\n",
       "    </tr>\n",
       "    <tr>\n",
       "      <th>9</th>\n",
       "      <td>9</td>\n",
       "      <td>238</td>\n",
       "      <td>9</td>\n",
       "      <td>49</td>\n",
       "      <td>9</td>\n",
       "      <td>94</td>\n",
       "    </tr>\n",
       "  </tbody>\n",
       "</table>\n",
       "</div>"
      ],
      "text/plain": [
       "   train_label  #train_examples  val_label  #val_examples  test_label  \\\n",
       "0            0              225          0             60           0   \n",
       "1            1              265          1             74           1   \n",
       "2            2              238          2             61           2   \n",
       "3            3              231          3             64           3   \n",
       "4            4              263          4             62           4   \n",
       "5            5              219          5             55           5   \n",
       "6            6              243          6             63           6   \n",
       "7            7              265          7             64           7   \n",
       "8            8              213          8             48           8   \n",
       "9            9              238          9             49           9   \n",
       "\n",
       "   #test_examples  \n",
       "0              85  \n",
       "1             126  \n",
       "2             116  \n",
       "3             107  \n",
       "4             110  \n",
       "5              87  \n",
       "6              87  \n",
       "7              99  \n",
       "8              89  \n",
       "9              94  "
      ]
     },
     "execution_count": 6,
     "metadata": {},
     "output_type": "execute_result"
    }
   ],
   "source": [
    "pd.DataFrame(np.hstack((np.transpose(np.unique(Y_train,return_counts=True)),\n",
    "                        np.transpose(np.unique(Y_val,return_counts=True)),\n",
    "                        np.transpose(np.unique(Y_test,return_counts=True)))),\n",
    "                        columns=[\"train_label\",\"#train_examples\",\n",
    "                                 \"val_label\",\"#val_examples\",\n",
    "                                 \"test_label\",\"#test_examples\"])"
   ]
  },
  {
   "cell_type": "code",
   "execution_count": 7,
   "metadata": {},
   "outputs": [
    {
     "name": "stdout",
     "output_type": "stream",
     "text": [
      "class label\n",
      "[5 0 4 1 9]\n",
      "class label in OneHot encodig\n",
      "[[0. 0. 0. 0. 0. 1. 0. 0. 0. 0.]\n",
      " [1. 0. 0. 0. 0. 0. 0. 0. 0. 0.]\n",
      " [0. 0. 0. 0. 1. 0. 0. 0. 0. 0.]\n",
      " [0. 1. 0. 0. 0. 0. 0. 0. 0. 0.]\n",
      " [0. 0. 0. 0. 0. 0. 0. 0. 0. 1.]]\n"
     ]
    }
   ],
   "source": [
    "def convertToOneHot(vector, num_classes=None):\n",
    "    result = np.zeros((len(vector), num_classes), dtype='float32')\n",
    "    result[np.arange(len(vector)), vector] = 1\n",
    "    return result\n",
    "print(\"class label\")\n",
    "print(Y_train[0:5])\n",
    "print(\"class label in OneHot encodig\")\n",
    "print(convertToOneHot(Y_train[0:5], 10))"
   ]
  },
  {
   "cell_type": "code",
   "execution_count": 8,
   "metadata": {},
   "outputs": [
    {
     "name": "stdout",
     "output_type": "stream",
     "text": [
      "(2400, 10)\n",
      "(600, 10)\n"
     ]
    }
   ],
   "source": [
    "Y_train=convertToOneHot(Y_train,num_classes=10)\n",
    "print(Y_train.shape)\n",
    "Y_val=convertToOneHot(Y_val,num_classes=10)\n",
    "print(Y_val.shape)"
   ]
  },
  {
   "cell_type": "markdown",
   "metadata": {},
   "source": [
    "## CNN without standardizing the data \n"
   ]
  },
  {
   "cell_type": "code",
   "execution_count": 9,
   "metadata": {},
   "outputs": [],
   "source": [
    "## here is the code to center and standardize the data\n",
    "## lets try what happens without centering...\n",
    "#X_mean = np.mean( X_train, axis = 0)\n",
    "#X_std = np.std( X_train, axis = 0)\n",
    "\n",
    "#X_train = (X_train - X_mean ) / (X_std + 0.0001)\n",
    "#X_val = (X_val - X_mean ) / (X_std + 0.0001)"
   ]
  },
  {
   "cell_type": "code",
   "execution_count": 10,
   "metadata": {},
   "outputs": [
    {
     "name": "stdout",
     "output_type": "stream",
     "text": [
      "WARNING:tensorflow:From /usr/local/lib/python3.5/dist-packages/tensorflow/python/framework/op_def_library.py:263: colocate_with (from tensorflow.python.framework.ops) is deprecated and will be removed in a future version.\n",
      "Instructions for updating:\n",
      "Colocations handled automatically by placer.\n"
     ]
    }
   ],
   "source": [
    "### First model with a convolutional layer\n",
    "name = 'cnn1'\n",
    "model = Sequential()\n",
    "\n",
    "model.add(Convolution2D(32, (3, 3), padding='same', input_shape=(28, 28, 1)))\n",
    "model.add(Activation('relu'))\n",
    "\n",
    "model.add(Flatten())\n",
    "\n",
    "model.add(Dense(10))\n",
    "model.add(Activation('softmax'))\n",
    "\n",
    "model.compile(loss='categorical_crossentropy',\n",
    "              optimizer='adam',\n",
    "              metrics=['accuracy'])"
   ]
  },
  {
   "cell_type": "code",
   "execution_count": 11,
   "metadata": {},
   "outputs": [
    {
     "name": "stdout",
     "output_type": "stream",
     "text": [
      "_________________________________________________________________\n",
      "Layer (type)                 Output Shape              Param #   \n",
      "=================================================================\n",
      "conv2d_1 (Conv2D)            (None, 28, 28, 32)        320       \n",
      "_________________________________________________________________\n",
      "activation_1 (Activation)    (None, 28, 28, 32)        0         \n",
      "_________________________________________________________________\n",
      "flatten_1 (Flatten)          (None, 25088)             0         \n",
      "_________________________________________________________________\n",
      "dense_1 (Dense)              (None, 10)                250890    \n",
      "_________________________________________________________________\n",
      "activation_2 (Activation)    (None, 10)                0         \n",
      "=================================================================\n",
      "Total params: 251,210\n",
      "Trainable params: 251,210\n",
      "Non-trainable params: 0\n",
      "_________________________________________________________________\n"
     ]
    }
   ],
   "source": [
    "model.summary()"
   ]
  },
  {
   "cell_type": "code",
   "execution_count": 12,
   "metadata": {},
   "outputs": [
    {
     "data": {
      "image/svg+xml": [
       "<svg height=\"460pt\" viewBox=\"0.00 0.00 409.00 460.00\" width=\"409pt\" xmlns=\"http://www.w3.org/2000/svg\" xmlns:xlink=\"http://www.w3.org/1999/xlink\">\n",
       "<g class=\"graph\" id=\"graph0\" transform=\"scale(1 1) rotate(0) translate(4 456)\">\n",
       "<title>G</title>\n",
       "<polygon fill=\"white\" points=\"-4,4 -4,-456 405,-456 405,4 -4,4\" stroke=\"none\"/>\n",
       "<!-- 140291176669368 -->\n",
       "<g class=\"node\" id=\"node1\"><title>140291176669368</title>\n",
       "<polygon fill=\"none\" points=\"18,-332.5 18,-378.5 383,-378.5 383,-332.5 18,-332.5\" stroke=\"black\"/>\n",
       "<text font-family=\"Times,serif\" font-size=\"14.00\" text-anchor=\"middle\" x=\"93.5\" y=\"-351.8\">conv2d_1: Conv2D</text>\n",
       "<polyline fill=\"none\" points=\"169,-332.5 169,-378.5 \" stroke=\"black\"/>\n",
       "<text font-family=\"Times,serif\" font-size=\"14.00\" text-anchor=\"middle\" x=\"203\" y=\"-363.3\">input:</text>\n",
       "<polyline fill=\"none\" points=\"169,-355.5 237,-355.5 \" stroke=\"black\"/>\n",
       "<text font-family=\"Times,serif\" font-size=\"14.00\" text-anchor=\"middle\" x=\"203\" y=\"-340.3\">output:</text>\n",
       "<polyline fill=\"none\" points=\"237,-332.5 237,-378.5 \" stroke=\"black\"/>\n",
       "<text font-family=\"Times,serif\" font-size=\"14.00\" text-anchor=\"middle\" x=\"310\" y=\"-363.3\">(None, 28, 28, 1)</text>\n",
       "<polyline fill=\"none\" points=\"237,-355.5 383,-355.5 \" stroke=\"black\"/>\n",
       "<text font-family=\"Times,serif\" font-size=\"14.00\" text-anchor=\"middle\" x=\"310\" y=\"-340.3\">(None, 28, 28, 32)</text>\n",
       "</g>\n",
       "<!-- 140291176669256 -->\n",
       "<g class=\"node\" id=\"node2\"><title>140291176669256</title>\n",
       "<polygon fill=\"none\" points=\"-2.84217e-14,-249.5 -2.84217e-14,-295.5 401,-295.5 401,-249.5 -2.84217e-14,-249.5\" stroke=\"black\"/>\n",
       "<text font-family=\"Times,serif\" font-size=\"14.00\" text-anchor=\"middle\" x=\"93.5\" y=\"-268.8\">activation_1: Activation</text>\n",
       "<polyline fill=\"none\" points=\"187,-249.5 187,-295.5 \" stroke=\"black\"/>\n",
       "<text font-family=\"Times,serif\" font-size=\"14.00\" text-anchor=\"middle\" x=\"221\" y=\"-280.3\">input:</text>\n",
       "<polyline fill=\"none\" points=\"187,-272.5 255,-272.5 \" stroke=\"black\"/>\n",
       "<text font-family=\"Times,serif\" font-size=\"14.00\" text-anchor=\"middle\" x=\"221\" y=\"-257.3\">output:</text>\n",
       "<polyline fill=\"none\" points=\"255,-249.5 255,-295.5 \" stroke=\"black\"/>\n",
       "<text font-family=\"Times,serif\" font-size=\"14.00\" text-anchor=\"middle\" x=\"328\" y=\"-280.3\">(None, 28, 28, 32)</text>\n",
       "<polyline fill=\"none\" points=\"255,-272.5 401,-272.5 \" stroke=\"black\"/>\n",
       "<text font-family=\"Times,serif\" font-size=\"14.00\" text-anchor=\"middle\" x=\"328\" y=\"-257.3\">(None, 28, 28, 32)</text>\n",
       "</g>\n",
       "<!-- 140291176669368&#45;&gt;140291176669256 -->\n",
       "<g class=\"edge\" id=\"edge2\"><title>140291176669368-&gt;140291176669256</title>\n",
       "<path d=\"M200.5,-332.366C200.5,-324.152 200.5,-314.658 200.5,-305.725\" fill=\"none\" stroke=\"black\"/>\n",
       "<polygon fill=\"black\" points=\"204,-305.607 200.5,-295.607 197,-305.607 204,-305.607\" stroke=\"black\"/>\n",
       "</g>\n",
       "<!-- 140291176672504 -->\n",
       "<g class=\"node\" id=\"node3\"><title>140291176672504</title>\n",
       "<polygon fill=\"none\" points=\"23.5,-166.5 23.5,-212.5 377.5,-212.5 377.5,-166.5 23.5,-166.5\" stroke=\"black\"/>\n",
       "<text font-family=\"Times,serif\" font-size=\"14.00\" text-anchor=\"middle\" x=\"93.5\" y=\"-185.8\">flatten_1: Flatten</text>\n",
       "<polyline fill=\"none\" points=\"163.5,-166.5 163.5,-212.5 \" stroke=\"black\"/>\n",
       "<text font-family=\"Times,serif\" font-size=\"14.00\" text-anchor=\"middle\" x=\"197.5\" y=\"-197.3\">input:</text>\n",
       "<polyline fill=\"none\" points=\"163.5,-189.5 231.5,-189.5 \" stroke=\"black\"/>\n",
       "<text font-family=\"Times,serif\" font-size=\"14.00\" text-anchor=\"middle\" x=\"197.5\" y=\"-174.3\">output:</text>\n",
       "<polyline fill=\"none\" points=\"231.5,-166.5 231.5,-212.5 \" stroke=\"black\"/>\n",
       "<text font-family=\"Times,serif\" font-size=\"14.00\" text-anchor=\"middle\" x=\"304.5\" y=\"-197.3\">(None, 28, 28, 32)</text>\n",
       "<polyline fill=\"none\" points=\"231.5,-189.5 377.5,-189.5 \" stroke=\"black\"/>\n",
       "<text font-family=\"Times,serif\" font-size=\"14.00\" text-anchor=\"middle\" x=\"304.5\" y=\"-174.3\">(None, 25088)</text>\n",
       "</g>\n",
       "<!-- 140291176669256&#45;&gt;140291176672504 -->\n",
       "<g class=\"edge\" id=\"edge3\"><title>140291176669256-&gt;140291176672504</title>\n",
       "<path d=\"M200.5,-249.366C200.5,-241.152 200.5,-231.658 200.5,-222.725\" fill=\"none\" stroke=\"black\"/>\n",
       "<polygon fill=\"black\" points=\"204,-222.607 200.5,-212.607 197,-222.607 204,-222.607\" stroke=\"black\"/>\n",
       "</g>\n",
       "<!-- 140291176672728 -->\n",
       "<g class=\"node\" id=\"node4\"><title>140291176672728</title>\n",
       "<polygon fill=\"none\" points=\"43,-83.5 43,-129.5 358,-129.5 358,-83.5 43,-83.5\" stroke=\"black\"/>\n",
       "<text font-family=\"Times,serif\" font-size=\"14.00\" text-anchor=\"middle\" x=\"107\" y=\"-102.8\">dense_1: Dense</text>\n",
       "<polyline fill=\"none\" points=\"171,-83.5 171,-129.5 \" stroke=\"black\"/>\n",
       "<text font-family=\"Times,serif\" font-size=\"14.00\" text-anchor=\"middle\" x=\"205\" y=\"-114.3\">input:</text>\n",
       "<polyline fill=\"none\" points=\"171,-106.5 239,-106.5 \" stroke=\"black\"/>\n",
       "<text font-family=\"Times,serif\" font-size=\"14.00\" text-anchor=\"middle\" x=\"205\" y=\"-91.3\">output:</text>\n",
       "<polyline fill=\"none\" points=\"239,-83.5 239,-129.5 \" stroke=\"black\"/>\n",
       "<text font-family=\"Times,serif\" font-size=\"14.00\" text-anchor=\"middle\" x=\"298.5\" y=\"-114.3\">(None, 25088)</text>\n",
       "<polyline fill=\"none\" points=\"239,-106.5 358,-106.5 \" stroke=\"black\"/>\n",
       "<text font-family=\"Times,serif\" font-size=\"14.00\" text-anchor=\"middle\" x=\"298.5\" y=\"-91.3\">(None, 10)</text>\n",
       "</g>\n",
       "<!-- 140291176672504&#45;&gt;140291176672728 -->\n",
       "<g class=\"edge\" id=\"edge4\"><title>140291176672504-&gt;140291176672728</title>\n",
       "<path d=\"M200.5,-166.366C200.5,-158.152 200.5,-148.658 200.5,-139.725\" fill=\"none\" stroke=\"black\"/>\n",
       "<polygon fill=\"black\" points=\"204,-139.607 200.5,-129.607 197,-139.607 204,-139.607\" stroke=\"black\"/>\n",
       "</g>\n",
       "<!-- 140291167590048 -->\n",
       "<g class=\"node\" id=\"node5\"><title>140291167590048</title>\n",
       "<polygon fill=\"none\" points=\"27,-0.5 27,-46.5 374,-46.5 374,-0.5 27,-0.5\" stroke=\"black\"/>\n",
       "<text font-family=\"Times,serif\" font-size=\"14.00\" text-anchor=\"middle\" x=\"120.5\" y=\"-19.8\">activation_2: Activation</text>\n",
       "<polyline fill=\"none\" points=\"214,-0.5 214,-46.5 \" stroke=\"black\"/>\n",
       "<text font-family=\"Times,serif\" font-size=\"14.00\" text-anchor=\"middle\" x=\"248\" y=\"-31.3\">input:</text>\n",
       "<polyline fill=\"none\" points=\"214,-23.5 282,-23.5 \" stroke=\"black\"/>\n",
       "<text font-family=\"Times,serif\" font-size=\"14.00\" text-anchor=\"middle\" x=\"248\" y=\"-8.3\">output:</text>\n",
       "<polyline fill=\"none\" points=\"282,-0.5 282,-46.5 \" stroke=\"black\"/>\n",
       "<text font-family=\"Times,serif\" font-size=\"14.00\" text-anchor=\"middle\" x=\"328\" y=\"-31.3\">(None, 10)</text>\n",
       "<polyline fill=\"none\" points=\"282,-23.5 374,-23.5 \" stroke=\"black\"/>\n",
       "<text font-family=\"Times,serif\" font-size=\"14.00\" text-anchor=\"middle\" x=\"328\" y=\"-8.3\">(None, 10)</text>\n",
       "</g>\n",
       "<!-- 140291176672728&#45;&gt;140291167590048 -->\n",
       "<g class=\"edge\" id=\"edge5\"><title>140291176672728-&gt;140291167590048</title>\n",
       "<path d=\"M200.5,-83.3664C200.5,-75.1516 200.5,-65.6579 200.5,-56.7252\" fill=\"none\" stroke=\"black\"/>\n",
       "<polygon fill=\"black\" points=\"204,-56.6068 200.5,-46.6068 197,-56.6069 204,-56.6068\" stroke=\"black\"/>\n",
       "</g>\n",
       "<!-- 140291176672448 -->\n",
       "<g class=\"node\" id=\"node6\"><title>140291176672448</title>\n",
       "<polygon fill=\"none\" points=\"124.5,-415.5 124.5,-451.5 276.5,-451.5 276.5,-415.5 124.5,-415.5\" stroke=\"black\"/>\n",
       "<text font-family=\"Times,serif\" font-size=\"14.00\" text-anchor=\"middle\" x=\"200.5\" y=\"-429.8\">140291176672448</text>\n",
       "</g>\n",
       "<!-- 140291176672448&#45;&gt;140291176669368 -->\n",
       "<g class=\"edge\" id=\"edge1\"><title>140291176672448-&gt;140291176669368</title>\n",
       "<path d=\"M200.5,-415.254C200.5,-407.363 200.5,-397.749 200.5,-388.602\" fill=\"none\" stroke=\"black\"/>\n",
       "<polygon fill=\"black\" points=\"204,-388.591 200.5,-378.591 197,-388.591 204,-388.591\" stroke=\"black\"/>\n",
       "</g>\n",
       "</g>\n",
       "</svg>"
      ],
      "text/plain": [
       "<IPython.core.display.SVG object>"
      ]
     },
     "execution_count": 12,
     "metadata": {},
     "output_type": "execute_result"
    }
   ],
   "source": [
    "SVG(model_to_dot(model,show_shapes=True).create(prog='dot', format='svg'))\n"
   ]
  },
  {
   "cell_type": "code",
   "execution_count": 13,
   "metadata": {},
   "outputs": [
    {
     "name": "stdout",
     "output_type": "stream",
     "text": [
      "2400/2400 [==============================] - 1s 224us/step\n"
     ]
    },
    {
     "data": {
      "text/plain": [
       "[12.489727846781413, 0.12416666666666666]"
      ]
     },
     "execution_count": 13,
     "metadata": {},
     "output_type": "execute_result"
    }
   ],
   "source": [
    "model.evaluate(X_train,Y_train)"
   ]
  },
  {
   "cell_type": "code",
   "execution_count": 14,
   "metadata": {},
   "outputs": [],
   "source": [
    "tensorboard = keras.callbacks.TensorBoard(\n",
    "        log_dir='tensorboard/mnist/' + name + '/', \n",
    "        write_graph=True,\n",
    "        histogram_freq=0)"
   ]
  },
  {
   "cell_type": "code",
   "execution_count": 15,
   "metadata": {},
   "outputs": [
    {
     "name": "stdout",
     "output_type": "stream",
     "text": [
      "WARNING:tensorflow:From /usr/local/lib/python3.5/dist-packages/tensorflow/python/ops/math_ops.py:3066: to_int32 (from tensorflow.python.ops.math_ops) is deprecated and will be removed in a future version.\n",
      "Instructions for updating:\n",
      "Use tf.cast instead.\n",
      "Train on 2400 samples, validate on 600 samples\n",
      "Epoch 1/30\n",
      " - 1s - loss: 8.5466 - acc: 0.4504 - val_loss: 7.0565 - val_acc: 0.5583\n",
      "Epoch 2/30\n",
      " - 1s - loss: 7.3640 - acc: 0.5379 - val_loss: 6.6675 - val_acc: 0.5817\n",
      "Epoch 3/30\n",
      " - 1s - loss: 7.2562 - acc: 0.5433 - val_loss: 7.0498 - val_acc: 0.5550\n",
      "Epoch 4/30\n",
      " - 1s - loss: 7.1763 - acc: 0.5517 - val_loss: 6.8523 - val_acc: 0.5667\n",
      "Epoch 5/30\n",
      " - 1s - loss: 6.8591 - acc: 0.5708 - val_loss: 6.5374 - val_acc: 0.5900\n",
      "Epoch 6/30\n",
      " - 1s - loss: 6.6724 - acc: 0.5821 - val_loss: 6.5952 - val_acc: 0.5867\n",
      "Epoch 7/30\n",
      " - 1s - loss: 6.2067 - acc: 0.6087 - val_loss: 5.7970 - val_acc: 0.6367\n",
      "Epoch 8/30\n",
      " - 1s - loss: 6.0027 - acc: 0.6225 - val_loss: 5.9280 - val_acc: 0.6250\n",
      "Epoch 9/30\n",
      " - 1s - loss: 5.7196 - acc: 0.6392 - val_loss: 5.9969 - val_acc: 0.6267\n",
      "Epoch 10/30\n",
      " - 1s - loss: 5.5893 - acc: 0.6496 - val_loss: 5.6219 - val_acc: 0.6467\n",
      "Epoch 11/30\n",
      " - 1s - loss: 5.3454 - acc: 0.6646 - val_loss: 5.4964 - val_acc: 0.6550\n",
      "Epoch 12/30\n",
      " - 1s - loss: 5.3104 - acc: 0.6675 - val_loss: 5.5849 - val_acc: 0.6417\n",
      "Epoch 13/30\n",
      " - 1s - loss: 4.8340 - acc: 0.6950 - val_loss: 3.9369 - val_acc: 0.7483\n",
      "Epoch 14/30\n",
      " - 1s - loss: 3.9149 - acc: 0.7529 - val_loss: 3.8714 - val_acc: 0.7467\n",
      "Epoch 15/30\n",
      " - 2s - loss: 3.8795 - acc: 0.7546 - val_loss: 4.2500 - val_acc: 0.7267\n",
      "Epoch 16/30\n",
      " - 1s - loss: 3.7686 - acc: 0.7600 - val_loss: 4.1795 - val_acc: 0.7367\n",
      "Epoch 17/30\n",
      " - 1s - loss: 3.6455 - acc: 0.7704 - val_loss: 4.0085 - val_acc: 0.7467\n",
      "Epoch 18/30\n",
      " - 1s - loss: 3.5847 - acc: 0.7738 - val_loss: 3.9382 - val_acc: 0.7483\n",
      "Epoch 19/30\n",
      " - 1s - loss: 3.5212 - acc: 0.7796 - val_loss: 3.9522 - val_acc: 0.7483\n",
      "Epoch 20/30\n",
      " - 1s - loss: 3.4863 - acc: 0.7817 - val_loss: 3.7434 - val_acc: 0.7617\n",
      "Epoch 21/30\n",
      " - 2s - loss: 3.4558 - acc: 0.7833 - val_loss: 3.8471 - val_acc: 0.7583\n",
      "Epoch 22/30\n",
      " - 1s - loss: 3.4585 - acc: 0.7846 - val_loss: 3.7698 - val_acc: 0.7617\n",
      "Epoch 23/30\n",
      " - 1s - loss: 3.4433 - acc: 0.7858 - val_loss: 3.8569 - val_acc: 0.7533\n",
      "Epoch 24/30\n",
      " - 1s - loss: 3.4337 - acc: 0.7850 - val_loss: 3.9416 - val_acc: 0.7483\n",
      "Epoch 25/30\n",
      " - 1s - loss: 3.4006 - acc: 0.7888 - val_loss: 3.7391 - val_acc: 0.7633\n",
      "Epoch 26/30\n",
      " - 1s - loss: 3.3924 - acc: 0.7892 - val_loss: 3.6928 - val_acc: 0.7650\n",
      "Epoch 27/30\n",
      " - 1s - loss: 3.3613 - acc: 0.7904 - val_loss: 3.6918 - val_acc: 0.7650\n",
      "Epoch 28/30\n",
      " - 1s - loss: 3.3595 - acc: 0.7913 - val_loss: 3.7684 - val_acc: 0.7617\n",
      "Epoch 29/30\n",
      " - 1s - loss: 3.3499 - acc: 0.7917 - val_loss: 3.7835 - val_acc: 0.7567\n",
      "Epoch 30/30\n",
      " - 1s - loss: 3.3470 - acc: 0.7917 - val_loss: 3.7076 - val_acc: 0.7600\n"
     ]
    }
   ],
   "source": [
    "history=model.fit(X_train, Y_train, \n",
    "                  batch_size=128, \n",
    "                  epochs=30,\n",
    "                  verbose=2, \n",
    "                  validation_data=(X_val, Y_val),\n",
    "                  callbacks=[tensorboard])"
   ]
  },
  {
   "cell_type": "code",
   "execution_count": 16,
   "metadata": {},
   "outputs": [
    {
     "data": {
      "image/png": "[encoded data removed]",
      "text/plain": [
       "<Figure size 432x288 with 1 Axes>"
      ]
     },
     "metadata": {
      "needs_background": "light"
     },
     "output_type": "display_data"
    },
    {
     "data": {
      "image/png": "[encoded data removed]",
      "text/plain": [
       "<Figure size 432x288 with 1 Axes>"
      ]
     },
     "metadata": {
      "needs_background": "light"
     },
     "output_type": "display_data"
    }
   ],
   "source": [
    "# summarize history for accuracy\n",
    "plt.plot(history.history['acc'])\n",
    "plt.plot(history.history['val_acc'])\n",
    "plt.title('model accuracy')\n",
    "plt.ylabel('accuracy')\n",
    "plt.xlabel('epoch')\n",
    "plt.legend(['train', 'valid'], loc='lower right')\n",
    "plt.show()\n",
    "plt.plot(history.history['loss'])\n",
    "plt.plot(history.history['val_loss'])\n",
    "plt.title('model loss')\n",
    "plt.ylabel('loss')\n",
    "plt.xlabel('epoch')\n",
    "plt.legend(['train', 'valid'], loc='upper right')\n",
    "plt.show()"
   ]
  },
  {
   "cell_type": "markdown",
   "metadata": {},
   "source": [
    "## Prediction on the test set\n"
   ]
  },
  {
   "cell_type": "code",
   "execution_count": 17,
   "metadata": {},
   "outputs": [
    {
     "name": "stdout",
     "output_type": "stream",
     "text": [
      "[[ 83   0   0   0   0   1   1   0   0   0]\n",
      " [  0 121   0   1   1   1   1   1   0   0]\n",
      " [  8   5   0  75   4   0   9  13   0   2]\n",
      " [  1   0   0  93   0   8   2   2   0   1]\n",
      " [  0   1   0   0 102   0   2   0   0   5]\n",
      " [  1   0   0   1   1  80   2   0   0   2]\n",
      " [  2   0   0   0   1   1  83   0   0   0]\n",
      " [  1   0   0   5   0   1   0  89   0   3]\n",
      " [  4  11   0  33   5  13   3  11   0   9]\n",
      " [  0   0   0   4   4   0   0   2   0  84]]\n",
      "Acc =  0.735\n"
     ]
    }
   ],
   "source": [
    "pred=model.predict(X_test)\n",
    "print(confusion_matrix(Y_test,np.argmax(pred,axis=1)))\n",
    "print(\"Acc = \" ,np.sum(Y_test==np.argmax(pred,axis=1))/len(pred))"
   ]
  },
  {
   "cell_type": "code",
   "execution_count": 18,
   "metadata": {},
   "outputs": [],
   "source": [
    "del model"
   ]
  },
  {
   "cell_type": "markdown",
   "metadata": {},
   "source": [
    "## CNN with standardizing the data \n"
   ]
  },
  {
   "cell_type": "code",
   "execution_count": 19,
   "metadata": {},
   "outputs": [],
   "source": [
    "## here is the code to center and standardize the data\n",
    "X_mean = np.mean( X_train, axis = 0)\n",
    "X_std = np.std( X_train, axis = 0)\n",
    "\n",
    "X_train_norm = np.array((X_train - X_mean ) / (X_std + 0.0001),dtype=\"float32\")\n",
    "X_val_norm = np.array((X_val - X_mean ) / (X_std + 0.0001),dtype=\"float32\")"
   ]
  },
  {
   "cell_type": "code",
   "execution_count": 20,
   "metadata": {},
   "outputs": [],
   "source": [
    "### First model with a convolutional layer\n",
    "name = 'cnn1_norm'\n",
    "model = Sequential()\n",
    "\n",
    "model.add(Convolution2D(32, (3, 3), padding='same', input_shape=(28, 28, 1)))\n",
    "model.add(Activation('relu'))\n",
    "\n",
    "model.add(Flatten())\n",
    "\n",
    "model.add(Dense(10))\n",
    "model.add(Activation('softmax'))\n",
    "\n",
    "model.compile(loss='categorical_crossentropy',\n",
    "              optimizer='adam',\n",
    "              metrics=['accuracy'])"
   ]
  },
  {
   "cell_type": "code",
   "execution_count": 21,
   "metadata": {},
   "outputs": [
    {
     "data": {
      "image/svg+xml": [
       "<svg height=\"460pt\" viewBox=\"0.00 0.00 409.00 460.00\" width=\"409pt\" xmlns=\"http://www.w3.org/2000/svg\" xmlns:xlink=\"http://www.w3.org/1999/xlink\">\n",
       "<g class=\"graph\" id=\"graph0\" transform=\"scale(1 1) rotate(0) translate(4 456)\">\n",
       "<title>G</title>\n",
       "<polygon fill=\"white\" points=\"-4,4 -4,-456 405,-456 405,4 -4,4\" stroke=\"none\"/>\n",
       "<!-- 140291176525776 -->\n",
       "<g class=\"node\" id=\"node1\"><title>140291176525776</title>\n",
       "<polygon fill=\"none\" points=\"18,-332.5 18,-378.5 383,-378.5 383,-332.5 18,-332.5\" stroke=\"black\"/>\n",
       "<text font-family=\"Times,serif\" font-size=\"14.00\" text-anchor=\"middle\" x=\"93.5\" y=\"-351.8\">conv2d_2: Conv2D</text>\n",
       "<polyline fill=\"none\" points=\"169,-332.5 169,-378.5 \" stroke=\"black\"/>\n",
       "<text font-family=\"Times,serif\" font-size=\"14.00\" text-anchor=\"middle\" x=\"203\" y=\"-363.3\">input:</text>\n",
       "<polyline fill=\"none\" points=\"169,-355.5 237,-355.5 \" stroke=\"black\"/>\n",
       "<text font-family=\"Times,serif\" font-size=\"14.00\" text-anchor=\"middle\" x=\"203\" y=\"-340.3\">output:</text>\n",
       "<polyline fill=\"none\" points=\"237,-332.5 237,-378.5 \" stroke=\"black\"/>\n",
       "<text font-family=\"Times,serif\" font-size=\"14.00\" text-anchor=\"middle\" x=\"310\" y=\"-363.3\">(None, 28, 28, 1)</text>\n",
       "<polyline fill=\"none\" points=\"237,-355.5 383,-355.5 \" stroke=\"black\"/>\n",
       "<text font-family=\"Times,serif\" font-size=\"14.00\" text-anchor=\"middle\" x=\"310\" y=\"-340.3\">(None, 28, 28, 32)</text>\n",
       "</g>\n",
       "<!-- 140290425324040 -->\n",
       "<g class=\"node\" id=\"node2\"><title>140290425324040</title>\n",
       "<polygon fill=\"none\" points=\"-2.84217e-14,-249.5 -2.84217e-14,-295.5 401,-295.5 401,-249.5 -2.84217e-14,-249.5\" stroke=\"black\"/>\n",
       "<text font-family=\"Times,serif\" font-size=\"14.00\" text-anchor=\"middle\" x=\"93.5\" y=\"-268.8\">activation_3: Activation</text>\n",
       "<polyline fill=\"none\" points=\"187,-249.5 187,-295.5 \" stroke=\"black\"/>\n",
       "<text font-family=\"Times,serif\" font-size=\"14.00\" text-anchor=\"middle\" x=\"221\" y=\"-280.3\">input:</text>\n",
       "<polyline fill=\"none\" points=\"187,-272.5 255,-272.5 \" stroke=\"black\"/>\n",
       "<text font-family=\"Times,serif\" font-size=\"14.00\" text-anchor=\"middle\" x=\"221\" y=\"-257.3\">output:</text>\n",
       "<polyline fill=\"none\" points=\"255,-249.5 255,-295.5 \" stroke=\"black\"/>\n",
       "<text font-family=\"Times,serif\" font-size=\"14.00\" text-anchor=\"middle\" x=\"328\" y=\"-280.3\">(None, 28, 28, 32)</text>\n",
       "<polyline fill=\"none\" points=\"255,-272.5 401,-272.5 \" stroke=\"black\"/>\n",
       "<text font-family=\"Times,serif\" font-size=\"14.00\" text-anchor=\"middle\" x=\"328\" y=\"-257.3\">(None, 28, 28, 32)</text>\n",
       "</g>\n",
       "<!-- 140291176525776&#45;&gt;140290425324040 -->\n",
       "<g class=\"edge\" id=\"edge2\"><title>140291176525776-&gt;140290425324040</title>\n",
       "<path d=\"M200.5,-332.366C200.5,-324.152 200.5,-314.658 200.5,-305.725\" fill=\"none\" stroke=\"black\"/>\n",
       "<polygon fill=\"black\" points=\"204,-305.607 200.5,-295.607 197,-305.607 204,-305.607\" stroke=\"black\"/>\n",
       "</g>\n",
       "<!-- 140290425323928 -->\n",
       "<g class=\"node\" id=\"node3\"><title>140290425323928</title>\n",
       "<polygon fill=\"none\" points=\"23.5,-166.5 23.5,-212.5 377.5,-212.5 377.5,-166.5 23.5,-166.5\" stroke=\"black\"/>\n",
       "<text font-family=\"Times,serif\" font-size=\"14.00\" text-anchor=\"middle\" x=\"93.5\" y=\"-185.8\">flatten_2: Flatten</text>\n",
       "<polyline fill=\"none\" points=\"163.5,-166.5 163.5,-212.5 \" stroke=\"black\"/>\n",
       "<text font-family=\"Times,serif\" font-size=\"14.00\" text-anchor=\"middle\" x=\"197.5\" y=\"-197.3\">input:</text>\n",
       "<polyline fill=\"none\" points=\"163.5,-189.5 231.5,-189.5 \" stroke=\"black\"/>\n",
       "<text font-family=\"Times,serif\" font-size=\"14.00\" text-anchor=\"middle\" x=\"197.5\" y=\"-174.3\">output:</text>\n",
       "<polyline fill=\"none\" points=\"231.5,-166.5 231.5,-212.5 \" stroke=\"black\"/>\n",
       "<text font-family=\"Times,serif\" font-size=\"14.00\" text-anchor=\"middle\" x=\"304.5\" y=\"-197.3\">(None, 28, 28, 32)</text>\n",
       "<polyline fill=\"none\" points=\"231.5,-189.5 377.5,-189.5 \" stroke=\"black\"/>\n",
       "<text font-family=\"Times,serif\" font-size=\"14.00\" text-anchor=\"middle\" x=\"304.5\" y=\"-174.3\">(None, 25088)</text>\n",
       "</g>\n",
       "<!-- 140290425324040&#45;&gt;140290425323928 -->\n",
       "<g class=\"edge\" id=\"edge3\"><title>140290425324040-&gt;140290425323928</title>\n",
       "<path d=\"M200.5,-249.366C200.5,-241.152 200.5,-231.658 200.5,-222.725\" fill=\"none\" stroke=\"black\"/>\n",
       "<polygon fill=\"black\" points=\"204,-222.607 200.5,-212.607 197,-222.607 204,-222.607\" stroke=\"black\"/>\n",
       "</g>\n",
       "<!-- 140290425324376 -->\n",
       "<g class=\"node\" id=\"node4\"><title>140290425324376</title>\n",
       "<polygon fill=\"none\" points=\"43,-83.5 43,-129.5 358,-129.5 358,-83.5 43,-83.5\" stroke=\"black\"/>\n",
       "<text font-family=\"Times,serif\" font-size=\"14.00\" text-anchor=\"middle\" x=\"107\" y=\"-102.8\">dense_2: Dense</text>\n",
       "<polyline fill=\"none\" points=\"171,-83.5 171,-129.5 \" stroke=\"black\"/>\n",
       "<text font-family=\"Times,serif\" font-size=\"14.00\" text-anchor=\"middle\" x=\"205\" y=\"-114.3\">input:</text>\n",
       "<polyline fill=\"none\" points=\"171,-106.5 239,-106.5 \" stroke=\"black\"/>\n",
       "<text font-family=\"Times,serif\" font-size=\"14.00\" text-anchor=\"middle\" x=\"205\" y=\"-91.3\">output:</text>\n",
       "<polyline fill=\"none\" points=\"239,-83.5 239,-129.5 \" stroke=\"black\"/>\n",
       "<text font-family=\"Times,serif\" font-size=\"14.00\" text-anchor=\"middle\" x=\"298.5\" y=\"-114.3\">(None, 25088)</text>\n",
       "<polyline fill=\"none\" points=\"239,-106.5 358,-106.5 \" stroke=\"black\"/>\n",
       "<text font-family=\"Times,serif\" font-size=\"14.00\" text-anchor=\"middle\" x=\"298.5\" y=\"-91.3\">(None, 10)</text>\n",
       "</g>\n",
       "<!-- 140290425323928&#45;&gt;140290425324376 -->\n",
       "<g class=\"edge\" id=\"edge4\"><title>140290425323928-&gt;140290425324376</title>\n",
       "<path d=\"M200.5,-166.366C200.5,-158.152 200.5,-148.658 200.5,-139.725\" fill=\"none\" stroke=\"black\"/>\n",
       "<polygon fill=\"black\" points=\"204,-139.607 200.5,-129.607 197,-139.607 204,-139.607\" stroke=\"black\"/>\n",
       "</g>\n",
       "<!-- 140290416033864 -->\n",
       "<g class=\"node\" id=\"node5\"><title>140290416033864</title>\n",
       "<polygon fill=\"none\" points=\"27,-0.5 27,-46.5 374,-46.5 374,-0.5 27,-0.5\" stroke=\"black\"/>\n",
       "<text font-family=\"Times,serif\" font-size=\"14.00\" text-anchor=\"middle\" x=\"120.5\" y=\"-19.8\">activation_4: Activation</text>\n",
       "<polyline fill=\"none\" points=\"214,-0.5 214,-46.5 \" stroke=\"black\"/>\n",
       "<text font-family=\"Times,serif\" font-size=\"14.00\" text-anchor=\"middle\" x=\"248\" y=\"-31.3\">input:</text>\n",
       "<polyline fill=\"none\" points=\"214,-23.5 282,-23.5 \" stroke=\"black\"/>\n",
       "<text font-family=\"Times,serif\" font-size=\"14.00\" text-anchor=\"middle\" x=\"248\" y=\"-8.3\">output:</text>\n",
       "<polyline fill=\"none\" points=\"282,-0.5 282,-46.5 \" stroke=\"black\"/>\n",
       "<text font-family=\"Times,serif\" font-size=\"14.00\" text-anchor=\"middle\" x=\"328\" y=\"-31.3\">(None, 10)</text>\n",
       "<polyline fill=\"none\" points=\"282,-23.5 374,-23.5 \" stroke=\"black\"/>\n",
       "<text font-family=\"Times,serif\" font-size=\"14.00\" text-anchor=\"middle\" x=\"328\" y=\"-8.3\">(None, 10)</text>\n",
       "</g>\n",
       "<!-- 140290425324376&#45;&gt;140290416033864 -->\n",
       "<g class=\"edge\" id=\"edge5\"><title>140290425324376-&gt;140290416033864</title>\n",
       "<path d=\"M200.5,-83.3664C200.5,-75.1516 200.5,-65.6579 200.5,-56.7252\" fill=\"none\" stroke=\"black\"/>\n",
       "<polygon fill=\"black\" points=\"204,-56.6068 200.5,-46.6068 197,-56.6069 204,-56.6068\" stroke=\"black\"/>\n",
       "</g>\n",
       "<!-- 140290425324096 -->\n",
       "<g class=\"node\" id=\"node6\"><title>140290425324096</title>\n",
       "<polygon fill=\"none\" points=\"124.5,-415.5 124.5,-451.5 276.5,-451.5 276.5,-415.5 124.5,-415.5\" stroke=\"black\"/>\n",
       "<text font-family=\"Times,serif\" font-size=\"14.00\" text-anchor=\"middle\" x=\"200.5\" y=\"-429.8\">140290425324096</text>\n",
       "</g>\n",
       "<!-- 140290425324096&#45;&gt;140291176525776 -->\n",
       "<g class=\"edge\" id=\"edge1\"><title>140290425324096-&gt;140291176525776</title>\n",
       "<path d=\"M200.5,-415.254C200.5,-407.363 200.5,-397.749 200.5,-388.602\" fill=\"none\" stroke=\"black\"/>\n",
       "<polygon fill=\"black\" points=\"204,-388.591 200.5,-378.591 197,-388.591 204,-388.591\" stroke=\"black\"/>\n",
       "</g>\n",
       "</g>\n",
       "</svg>"
      ],
      "text/plain": [
       "<IPython.core.display.SVG object>"
      ]
     },
     "execution_count": 21,
     "metadata": {},
     "output_type": "execute_result"
    }
   ],
   "source": [
    "SVG(model_to_dot(model,show_shapes=True,).create(prog='dot', format='svg'))"
   ]
  },
  {
   "cell_type": "code",
   "execution_count": 22,
   "metadata": {},
   "outputs": [
    {
     "name": "stdout",
     "output_type": "stream",
     "text": [
      "2400/2400 [==============================] - 1s 299us/step\n"
     ]
    },
    {
     "data": {
      "text/plain": [
       "[2.3420405769348145, 0.06708333333333333]"
      ]
     },
     "execution_count": 22,
     "metadata": {},
     "output_type": "execute_result"
    }
   ],
   "source": [
    "model.evaluate(X_train_norm,Y_train)"
   ]
  },
  {
   "cell_type": "code",
   "execution_count": 23,
   "metadata": {},
   "outputs": [],
   "source": [
    "tensorboard = keras.callbacks.TensorBoard(\n",
    "        log_dir='tensorboard/mnist/' + name + '/', \n",
    "        write_graph=True,\n",
    "        histogram_freq=0)"
   ]
  },
  {
   "cell_type": "code",
   "execution_count": 24,
   "metadata": {},
   "outputs": [
    {
     "name": "stdout",
     "output_type": "stream",
     "text": [
      "Train on 2400 samples, validate on 600 samples\n",
      "Epoch 1/30\n",
      " - 1s - loss: 0.9192 - acc: 0.7221 - val_loss: 0.5437 - val_acc: 0.8733\n",
      "Epoch 2/30\n",
      " - 1s - loss: 0.3044 - acc: 0.9075 - val_loss: 0.4643 - val_acc: 0.8983\n",
      "Epoch 3/30\n",
      " - 1s - loss: 0.1972 - acc: 0.9487 - val_loss: 0.4473 - val_acc: 0.8917\n",
      "Epoch 4/30\n",
      " - 1s - loss: 0.1420 - acc: 0.9654 - val_loss: 0.4365 - val_acc: 0.9167\n",
      "Epoch 5/30\n",
      " - 1s - loss: 0.1017 - acc: 0.9746 - val_loss: 0.4534 - val_acc: 0.9150\n",
      "Epoch 6/30\n",
      " - 1s - loss: 0.0720 - acc: 0.9850 - val_loss: 0.4327 - val_acc: 0.9217\n",
      "Epoch 7/30\n",
      " - 1s - loss: 0.0529 - acc: 0.9892 - val_loss: 0.4299 - val_acc: 0.9250\n",
      "Epoch 8/30\n",
      " - 1s - loss: 0.0390 - acc: 0.9942 - val_loss: 0.4396 - val_acc: 0.9250\n",
      "Epoch 9/30\n",
      " - 1s - loss: 0.0288 - acc: 0.9967 - val_loss: 0.4410 - val_acc: 0.9233\n",
      "Epoch 10/30\n",
      " - 1s - loss: 0.0208 - acc: 0.9988 - val_loss: 0.4412 - val_acc: 0.9250\n",
      "Epoch 11/30\n",
      " - 1s - loss: 0.0167 - acc: 0.9992 - val_loss: 0.4419 - val_acc: 0.9283\n",
      "Epoch 12/30\n",
      " - 1s - loss: 0.0117 - acc: 1.0000 - val_loss: 0.4644 - val_acc: 0.9167\n",
      "Epoch 13/30\n",
      " - 1s - loss: 0.0096 - acc: 1.0000 - val_loss: 0.4520 - val_acc: 0.9300\n",
      "Epoch 14/30\n",
      " - 1s - loss: 0.0079 - acc: 1.0000 - val_loss: 0.4557 - val_acc: 0.9267\n",
      "Epoch 15/30\n",
      " - 1s - loss: 0.0069 - acc: 1.0000 - val_loss: 0.4670 - val_acc: 0.9267\n",
      "Epoch 16/30\n",
      " - 1s - loss: 0.0059 - acc: 1.0000 - val_loss: 0.4646 - val_acc: 0.9283\n",
      "Epoch 17/30\n",
      " - 1s - loss: 0.0049 - acc: 1.0000 - val_loss: 0.4636 - val_acc: 0.9300\n",
      "Epoch 18/30\n",
      " - 1s - loss: 0.0044 - acc: 1.0000 - val_loss: 0.4714 - val_acc: 0.9267\n",
      "Epoch 19/30\n",
      " - 1s - loss: 0.0038 - acc: 1.0000 - val_loss: 0.4767 - val_acc: 0.9267\n",
      "Epoch 20/30\n",
      " - 1s - loss: 0.0035 - acc: 1.0000 - val_loss: 0.4739 - val_acc: 0.9283\n",
      "Epoch 21/30\n",
      " - 1s - loss: 0.0031 - acc: 1.0000 - val_loss: 0.4847 - val_acc: 0.9250\n",
      "Epoch 22/30\n",
      " - 1s - loss: 0.0028 - acc: 1.0000 - val_loss: 0.4832 - val_acc: 0.9250\n",
      "Epoch 23/30\n",
      " - 1s - loss: 0.0025 - acc: 1.0000 - val_loss: 0.4861 - val_acc: 0.9283\n",
      "Epoch 24/30\n",
      " - 1s - loss: 0.0024 - acc: 1.0000 - val_loss: 0.4863 - val_acc: 0.9250\n",
      "Epoch 25/30\n",
      " - 1s - loss: 0.0021 - acc: 1.0000 - val_loss: 0.4913 - val_acc: 0.9267\n",
      "Epoch 26/30\n",
      " - 1s - loss: 0.0020 - acc: 1.0000 - val_loss: 0.4921 - val_acc: 0.9250\n",
      "Epoch 27/30\n",
      " - 1s - loss: 0.0018 - acc: 1.0000 - val_loss: 0.4943 - val_acc: 0.9283\n",
      "Epoch 28/30\n",
      " - 1s - loss: 0.0017 - acc: 1.0000 - val_loss: 0.4967 - val_acc: 0.9267\n",
      "Epoch 29/30\n",
      " - 1s - loss: 0.0016 - acc: 1.0000 - val_loss: 0.4988 - val_acc: 0.9267\n",
      "Epoch 30/30\n",
      " - 1s - loss: 0.0015 - acc: 1.0000 - val_loss: 0.5002 - val_acc: 0.9267\n"
     ]
    }
   ],
   "source": [
    "history=model.fit(X_train_norm, Y_train, \n",
    "                  batch_size=128, \n",
    "                  epochs=30,\n",
    "                  verbose=2, \n",
    "                  validation_data=(X_val_norm, Y_val),\n",
    "                  callbacks=[tensorboard])"
   ]
  },
  {
   "cell_type": "code",
   "execution_count": 25,
   "metadata": {},
   "outputs": [
    {
     "data": {
      "image/png": "[encoded data removed]",
      "text/plain": [
       "<Figure size 432x288 with 1 Axes>"
      ]
     },
     "metadata": {
      "needs_background": "light"
     },
     "output_type": "display_data"
    },
    {
     "data": {
      "image/png": "[encoded data removed]",
      "text/plain": [
       "<Figure size 432x288 with 1 Axes>"
      ]
     },
     "metadata": {
      "needs_background": "light"
     },
     "output_type": "display_data"
    }
   ],
   "source": [
    "# summarize history for accuracy\n",
    "plt.plot(history.history['acc'])\n",
    "plt.plot(history.history['val_acc'])\n",
    "plt.title('model accuracy')\n",
    "plt.ylabel('accuracy')\n",
    "plt.xlabel('epoch')\n",
    "plt.legend(['train', 'valid'], loc='lower right')\n",
    "plt.show()\n",
    "plt.plot(history.history['loss'])\n",
    "plt.plot(history.history['val_loss'])\n",
    "plt.title('model loss')\n",
    "plt.ylabel('loss')\n",
    "plt.xlabel('epoch')\n",
    "plt.legend(['train', 'valid'], loc='upper right')\n",
    "plt.show()"
   ]
  },
  {
   "cell_type": "markdown",
   "metadata": {},
   "source": [
    "## Prediction on the normalized test set\n"
   ]
  },
  {
   "cell_type": "code",
   "execution_count": 26,
   "metadata": {},
   "outputs": [
    {
     "name": "stdout",
     "output_type": "stream",
     "text": [
      "[[ 83   0   1   0   0   0   1   0   0   0]\n",
      " [  0 124   0   1   0   0   1   0   0   0]\n",
      " [  0   0 103   2   0   0   0   4   4   3]\n",
      " [  1   0   0  91   2   6   1   2   2   2]\n",
      " [  1   1   1   0 102   0   1   0   0   4]\n",
      " [  1   0   1   1   1  77   1   1   2   2]\n",
      " [  2   0   1   0   1   4  79   0   0   0]\n",
      " [  0   3   2   2   0   1   0  89   0   2]\n",
      " [  2   0   3   2   4   0   0   2  76   0]\n",
      " [  0   0   1   0   1   0   0   3   0  89]]\n",
      "Acc =  0.913\n"
     ]
    }
   ],
   "source": [
    "X_test_norm = np.array((X_test - X_mean ) / (X_std + 0.0001),dtype=\"float32\")\n",
    "pred=model.predict(X_test_norm)\n",
    "print(confusion_matrix(Y_test,np.argmax(pred,axis=1)))\n",
    "print(\"Acc = \" ,np.sum(Y_test==np.argmax(pred,axis=1))/len(pred))"
   ]
  },
  {
   "cell_type": "code",
   "execution_count": 27,
   "metadata": {},
   "outputs": [],
   "source": [
    "#!tensorboard --logdir=tensorboard/tensorboard/mnist/"
   ]
  },
  {
   "cell_type": "code",
   "execution_count": null,
   "metadata": {},
   "outputs": [],
   "source": []
  }
 ],
 "metadata": {
  "kernelspec": {
   "display_name": "Python 3",
   "language": "python",
   "name": "python3"
  },
  "language_info": {
   "codemirror_mode": {
    "name": "ipython",
    "version": 3
   },
   "file_extension": ".py",
   "mimetype": "text/x-python",
   "name": "python",
   "nbconvert_exporter": "python",
   "pygments_lexer": "ipython3",
   "version": "3.5.2"
  }
 },
 "nbformat": 4,
 "nbformat_minor": 1
}
