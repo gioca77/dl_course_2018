{
  "nbformat": 4,
  "nbformat_minor": 0,
  "metadata": {
    "colab": {
      "name": "12_LSTM_vs_1DConv_solution.ipynb",
      "version": "0.3.2",
      "provenance": []
    },
    "kernelspec": {
      "display_name": "Python 3",
      "language": "python",
      "name": "python3"
    }
  },
  "cells": [
    {
      "metadata": {
        "colab_type": "text",
        "id": "kcB3r4vJpatQ"
      },
      "cell_type": "markdown",
      "source": [
        "## Prediction of time series with different neural networks architectures\n",
        "\n",
        "In this notebook we will use different network architectures to predict the next steps for a time series. We compare 1D convolutional networks with and without didilation rate and LSTMs. We predict the time series for longer times than we trained them on and compare the results of the different architectures. The goal is to capture the long term dependencies of the time series."
      ]
    },
    {
      "metadata": {
        "colab_type": "code",
        "id": "geSS6viBpatT",
        "colab": {}
      },
      "cell_type": "code",
      "source": [
        "# load required libraries:\n",
        "import numpy as np\n",
        "import matplotlib.pyplot as plt\n",
        "import h5py\n",
        "%matplotlib inline\n",
        "\n",
        "import keras \n",
        "from keras.models import Sequential\n",
        "from keras.layers import Dense, Lambda, Convolution1D,LSTM, SimpleRNN\n"
      ],
      "execution_count": 0,
      "outputs": []
    },
    {
      "metadata": {
        "colab_type": "text",
        "id": "82ZRKcWopate"
      },
      "cell_type": "markdown",
      "source": [
        "### Simulate some data\n",
        "\n",
        "In the next cell we generate train and validation data. We multiply a fast sine wave with a slower sine wave and add a bit random noise. The goal is to learn from the past of time series and predict the next 10 steps and later even more than \"only\"  10 steps."
      ]
    },
    {
      "metadata": {
        "colab_type": "code",
        "id": "OlA9Vabapatf",
        "colab": {}
      },
      "cell_type": "code",
      "source": [
        "np.random.seed(1) # Fixing the seed, so data generation is always the same\n",
        "seq_length = 128  # Sequence length used for training\n",
        "look_ahead =  10  # The number of data points the model should predict \n",
        "\n",
        "\n",
        "def gen_data(size=1000, noise=0.1,seq_length=128,look_ahead=10): # We create 1000 observations of the process\n",
        "  s = seq_length + look_ahead\n",
        "  d = np.zeros((size, s,1))\n",
        "  for i in range(size):\n",
        "    start = np.random.uniform(0, 2*np.pi) # Random start point\n",
        "    d[i,:,0] = np.sin(start + np.linspace(0, 20*np.pi, s)) * np.sin(start + np.linspace(0, np.pi, s)) + np.random.normal(0,noise,s)\n",
        "  return d[:,0:seq_length], d[:,seq_length:s]\n",
        "\n",
        "\n",
        "X,Y = gen_data()\n",
        "for i in range(1):\n",
        "  plt.figure(num=None, figsize=(13,5))  \n",
        "  plt.plot(range(0, seq_length),X[i,:,0],'b-')\n",
        "  plt.plot(range(seq_length, seq_length + look_ahead),Y[i,:,0],'b-',color='orange')\n",
        "\n",
        "plt.show()\n",
        "print('The training data X is the blue line and we want to forecast the next 10 steps Y, the orange line.')"
      ],
      "execution_count": 0,
      "outputs": []
    },
    {
      "metadata": {
        "colab_type": "code",
        "id": "Zad2itQSpatl",
        "colab": {}
      },
      "cell_type": "code",
      "source": [
        "# process:fast sine wave * slow sine wave + random noise\n",
        "start = np.random.uniform(0, 2*np.pi) # Random start point\n",
        "s=128+10\n",
        "plt.figure(figsize=(13,5))  \n",
        "plt.plot(np.sin(start + np.linspace(0, 20*np.pi, s)))\n",
        "plt.show()\n",
        "plt.figure(figsize=(13,5))  \n",
        "plt.plot(np.sin(start + np.linspace(0, np.pi, s)))\n",
        "plt.show()\n",
        "plt.figure(figsize=(13,5))  \n",
        "plt.plot(np.sin(start + np.linspace(0, 20*np.pi, s))*np.sin(start + np.linspace(0, np.pi, s)))\n",
        "plt.show()\n",
        "plt.figure(figsize=(13,5))  \n",
        "plt.plot(np.sin(start + np.linspace(0, 20*np.pi, s))*np.sin(start + np.linspace(0, np.pi, s))+np.random.normal(0,0.1,s))\n",
        "plt.show()\n"
      ],
      "execution_count": 0,
      "outputs": []
    },
    {
      "metadata": {
        "colab_type": "code",
        "id": "zWlpYlGrpatr",
        "colab": {}
      },
      "cell_type": "code",
      "source": [
        "print(X.shape)\n",
        "print(Y.shape)"
      ],
      "execution_count": 0,
      "outputs": []
    },
    {
      "metadata": {
        "colab_type": "text",
        "id": "YbHIUaw3paty"
      },
      "cell_type": "markdown",
      "source": [
        "### 1D Convolution without dilation rate"
      ]
    },
    {
      "metadata": {
        "colab_type": "text",
        "id": "M8xZadZfp_z_"
      },
      "cell_type": "markdown",
      "source": [
        "Here we define a Neural network with 1D convolutions and \"causal\" padding, in a later step we will also use a dilation rate."
      ]
    },
    {
      "metadata": {
        "colab_type": "code",
        "id": "eicNaym0patz",
        "colab": {}
      },
      "cell_type": "code",
      "source": [
        "def slice(x, slice_length):\n",
        "    return x[:,-slice_length:,:]\n",
        "  \n",
        "model_1Dconv = Sequential()\n",
        "ks = 5\n",
        "model_1Dconv.add(Convolution1D(filters=32, kernel_size=ks, padding='causal', input_shape=(128, 1)))\n",
        "model_1Dconv.add(Convolution1D(filters=32, kernel_size=ks, padding='causal'))\n",
        "model_1Dconv.add(Convolution1D(filters=32, kernel_size=ks, padding='causal'))\n",
        "model_1Dconv.add(Convolution1D(filters=32, kernel_size=ks, padding='causal'))\n",
        "model_1Dconv.add(Dense(1))\n",
        "model_1Dconv.add(Lambda(slice, arguments={'slice_length':look_ahead}))\n",
        "\n",
        "model_1Dconv.compile(optimizer='adam', loss='mean_squared_error')\n",
        "model_1Dconv.summary()\n"
      ],
      "execution_count": 0,
      "outputs": []
    },
    {
      "metadata": {
        "colab_type": "code",
        "id": "q0yAb86Npat6",
        "scrolled": true,
        "colab": {}
      },
      "cell_type": "code",
      "source": [
        "history = model_1Dconv.fit(X[0:800], Y[0:800],\n",
        "                    epochs=100,\n",
        "                    batch_size=128,\n",
        "                    validation_data=(X[800:1000],Y[800:1000]),\n",
        "                    verbose=1)"
      ],
      "execution_count": 0,
      "outputs": []
    },
    {
      "metadata": {
        "colab_type": "code",
        "id": "5pjw6R4XpauA",
        "colab": {}
      },
      "cell_type": "code",
      "source": [
        "plt.plot(history.history['loss'])\n",
        "plt.plot(history.history['val_loss'])\n",
        "\n",
        "plt.xlabel('Epoch')\n",
        "plt.ylabel('Mean Absolute Error Loss')\n",
        "plt.title('Loss Over Time')\n",
        "plt.legend(['Train','Valid'])"
      ],
      "execution_count": 0,
      "outputs": []
    },
    {
      "metadata": {
        "colab_type": "text",
        "id": "_cR-davRpauF"
      },
      "cell_type": "markdown",
      "source": [
        "Now we want to use the trained model to predict for the next 10 steps, remember that is what the model was trained on.  \n",
        "In addition,  we want to predict for longer than just 10 steps, we will  just predict the next 10 steps and take the predictions as new \"true\" observations and feed these values into the model, when we do that we can predict for any length we want. In the next cell we will predict the next 10 and 80 steps."
      ]
    },
    {
      "metadata": {
        "colab_type": "code",
        "id": "l3jEUp5FpauG",
        "colab": {}
      },
      "cell_type": "code",
      "source": [
        "### predict for 10 steps\n",
        "i=950\n",
        "steps = 1\n",
        "pred = np.empty(0)\n",
        "data = X[i:i+1]\n",
        "model = model_1Dconv\n",
        "\n",
        "for j in range(0,steps):\n",
        "  res = model.predict(data)[0]\n",
        "  res = res.reshape(10)\n",
        "  data=(np.concatenate((data[0:1].reshape(128),res)))\n",
        "  data=data[-128:]\n",
        "  data=data.reshape((1,128,1))\n",
        "  #data=data.reshape(1,128+(j)*10,1)[-128:]\n",
        "  pred=np.append(pred,res)\n",
        "data=X[i:i+1]  \n",
        "plt.figure(num=None, figsize=(13,5))\n",
        "plt.plot(range(0,128),np.concatenate((data[0:1].reshape(128),pred))[0:128],color='blue')\n",
        "plt.plot(range(128,128+steps*10),np.concatenate((data[0:1].reshape(128),pred))[128:128+steps*10],color='orange')\n",
        "plt.axvline(x=128)\n",
        "\n",
        "### predict for 80 steps\n",
        "i=950\n",
        "steps = 8\n",
        "pred = np.empty(0)\n",
        "data = X[i:i+1]\n",
        "model = model_1Dconv\n",
        "\n",
        "for j in range(0,steps):\n",
        "  res = model.predict(data)[0]\n",
        "  res = res.reshape(10)\n",
        "  data=(np.concatenate((data[0:1].reshape(128),res)))\n",
        "  data=data[-128:]\n",
        "  data=data.reshape((1,128,1))\n",
        "  #data=data.reshape(1,128+(j)*10,1)[-128:]\n",
        "  pred=np.append(pred,res)\n",
        "data=X[i:i+1]  \n",
        "plt.figure(num=None, figsize=(13,5))\n",
        "plt.plot(range(0,128),np.concatenate((data[0:1].reshape(128),pred))[0:128],color='blue')\n",
        "plt.plot(range(128,128+steps*10),np.concatenate((data[0:1].reshape(128),pred))[128:128+steps*10],color='orange')\n",
        "plt.axvline(x=128)\n",
        "\n"
      ],
      "execution_count": 0,
      "outputs": []
    },
    {
      "metadata": {
        "colab_type": "text",
        "id": "gii40ZQqs-DJ"
      },
      "cell_type": "markdown",
      "source": [
        "### 1D Convolution with dilation rate\n"
      ]
    },
    {
      "metadata": {
        "colab_type": "text",
        "id": "KG-10GeCsi_s"
      },
      "cell_type": "markdown",
      "source": [
        "Here we define a Neural network with 1D convolutions and \"causal\" padding, this time with dilation rate, so we are able to look back longer in time."
      ]
    },
    {
      "metadata": {
        "colab_type": "code",
        "id": "BJb7Akn8pauM",
        "colab": {}
      },
      "cell_type": "code",
      "source": [
        "\n",
        "model_1Dconv_w_d = Sequential()\n",
        "ks = 5\n",
        "##################################################\n",
        "###### your code here#############################\n",
        "\n",
        "model_1Dconv_w_d.add(Convolution1D())\n",
        "model_1Dconv_w_d.add(Convolution1D())\n",
        "model_1Dconv_w_d.add(Convolution1D())\n",
        "model_1Dconv_w_d.add(Convolution1D())\n",
        "model_1Dconv_w_d.add(Dense(1))\n",
        "model_1Dconv_w_d.add(Lambda(slice, arguments={'slice_length':look_ahead}))\n",
        "\n",
        "###### end of your code ##########################\n",
        "##################################################\n",
        "\n",
        "model_1Dconv_w_d.compile(optimizer='adam', loss='mean_squared_error')\n",
        "model_1Dconv_w_d.summary()"
      ],
      "execution_count": 0,
      "outputs": []
    },
    {
      "metadata": {
        "colab_type": "code",
        "id": "TiZRwd73pauQ",
        "colab": {}
      },
      "cell_type": "code",
      "source": [
        "history = model_1Dconv_w_d.fit(X[0:800], Y[0:800],\n",
        "                    epochs=100,\n",
        "                    batch_size=128,\n",
        "                    validation_data=(X[800:1000],Y[800:1000]),\n",
        "                    verbose=1)"
      ],
      "execution_count": 0,
      "outputs": []
    },
    {
      "metadata": {
        "colab_type": "code",
        "id": "hUmeQM33paua",
        "colab": {}
      },
      "cell_type": "code",
      "source": [
        "plt.plot(history.history['loss'])\n",
        "plt.plot(history.history['val_loss'])\n",
        "\n",
        "plt.xlabel('Epoch')\n",
        "plt.ylabel('Mean Absolute Error Loss')\n",
        "plt.title('Loss Over Time')\n",
        "plt.legend(['Train','Valid'])"
      ],
      "execution_count": 0,
      "outputs": []
    },
    {
      "metadata": {
        "colab_type": "code",
        "id": "o7KT3mGXpauf",
        "colab": {}
      },
      "cell_type": "code",
      "source": [
        "### predict for 10 steps\n",
        "i=950\n",
        "steps = 1\n",
        "pred = np.empty(0)\n",
        "data = X[i:i+1]\n",
        "model = model_1Dconv_w_d\n",
        "\n",
        "for j in range(0,steps):\n",
        "  res = model.predict(data)[0]\n",
        "  res = res.reshape(10)\n",
        "  data=(np.concatenate((data[0:1].reshape(128),res)))\n",
        "  data=data[-128:]\n",
        "  data=data.reshape((1,128,1))\n",
        "  #data=data.reshape(1,128+(j)*10,1)[-128:]\n",
        "  pred=np.append(pred,res)\n",
        "data=X[i:i+1]  \n",
        "plt.figure(num=None, figsize=(13,5))\n",
        "plt.plot(range(0,128),np.concatenate((data[0:1].reshape(128),pred))[0:128],color='blue')\n",
        "plt.plot(range(128,128+steps*10),np.concatenate((data[0:1].reshape(128),pred))[128:128+steps*10],color='orange')\n",
        "plt.axvline(x=128)\n",
        "\n",
        "### predict for 80 steps\n",
        "i=950\n",
        "steps = 8\n",
        "pred = np.empty(0)\n",
        "data = X[i:i+1]\n",
        "model = model_1Dconv_w_d\n",
        "\n",
        "for j in range(0,steps):\n",
        "  res = model.predict(data)[0]\n",
        "  res = res.reshape(10)\n",
        "  data=(np.concatenate((data[0:1].reshape(128),res)))\n",
        "  data=data[-128:]\n",
        "  data=data.reshape((1,128,1))\n",
        "  #data=data.reshape(1,128+(j)*10,1)[-128:]\n",
        "  pred=np.append(pred,res)\n",
        "data=X[i:i+1]  \n",
        "plt.figure(num=None, figsize=(13,5))\n",
        "plt.plot(range(0,128),np.concatenate((data[0:1].reshape(128),pred))[0:128],color='blue')\n",
        "plt.plot(range(128,128+steps*10),np.concatenate((data[0:1].reshape(128),pred))[128:128+steps*10],color='orange')\n",
        "plt.axvline(x=128)\n",
        "\n"
      ],
      "execution_count": 0,
      "outputs": []
    },
    {
      "metadata": {
        "colab_type": "text",
        "id": "Qmwo6fh9pauo"
      },
      "cell_type": "markdown",
      "source": [
        "### Simple RNN\n",
        "\n",
        "Now, let's use a RNN cell to see if we are able to learn the data generating process. We will use a hidden state size of 12."
      ]
    },
    {
      "metadata": {
        "colab_type": "code",
        "id": "CePyVbYvpauq",
        "colab": {}
      },
      "cell_type": "code",
      "source": [
        "model_simple_RNN = Sequential()\n",
        "\n",
        "model_simple_RNN.add(SimpleRNN(12,return_sequences=True,input_shape=(128,1)))\n",
        "model_simple_RNN.add((Dense(1)))\n",
        "model_simple_RNN.add(Lambda(slice, arguments={'slice_length':look_ahead}))\n",
        "\n",
        "model_simple_RNN.summary()\n",
        "model_simple_RNN.compile(optimizer='adam', loss='mean_squared_error')\n"
      ],
      "execution_count": 0,
      "outputs": []
    },
    {
      "metadata": {
        "colab_type": "code",
        "id": "xEMXvx4ypauz",
        "scrolled": true,
        "colab": {}
      },
      "cell_type": "code",
      "source": [
        "history = model_simple_RNN.fit(X[0:800], Y[0:800],\n",
        "                    epochs=500,\n",
        "                    batch_size=128,\n",
        "                    validation_data=(X[800:1000],Y[800:1000]),\n",
        "                    verbose=0)"
      ],
      "execution_count": 0,
      "outputs": []
    },
    {
      "metadata": {
        "colab_type": "code",
        "id": "h_tT86jIx023",
        "colab": {}
      },
      "cell_type": "code",
      "source": [
        "plt.plot(history.history['loss'])\n",
        "plt.plot(history.history['val_loss'])\n",
        "\n",
        "plt.xlabel('Epoch')\n",
        "plt.ylabel('Mean Absolute Error Loss')\n",
        "plt.title('Loss Over Time')\n",
        "plt.legend(['Train','Valid'])"
      ],
      "execution_count": 0,
      "outputs": []
    },
    {
      "metadata": {
        "colab_type": "code",
        "id": "Vzw-s0PkyF76",
        "colab": {}
      },
      "cell_type": "code",
      "source": [
        "### predict for 10 steps\n",
        "i=950\n",
        "steps = 1\n",
        "pred = np.empty(0)\n",
        "data = X[i:i+1]\n",
        "model = model_simple_RNN\n",
        "\n",
        "for j in range(0,steps):\n",
        "  res = model.predict(data)[0]\n",
        "  res = res.reshape(10)\n",
        "  data=(np.concatenate((data[0:1].reshape(128),res)))\n",
        "  data=data[-128:]\n",
        "  data=data.reshape((1,128,1))\n",
        "  #data=data.reshape(1,128+(j)*10,1)[-128:]\n",
        "  pred=np.append(pred,res)\n",
        "data=X[i:i+1]  \n",
        "plt.figure(num=None, figsize=(13,5))\n",
        "plt.plot(range(0,128),np.concatenate((data[0:1].reshape(128),pred))[0:128],color='blue')\n",
        "plt.plot(range(128,128+steps*10),np.concatenate((data[0:1].reshape(128),pred))[128:128+steps*10],color='orange')\n",
        "plt.axvline(x=128)\n",
        "\n",
        "### predict for 80 steps\n",
        "i=950\n",
        "steps = 8\n",
        "pred = np.empty(0)\n",
        "data = X[i:i+1]\n",
        "model = model_simple_RNN\n",
        "\n",
        "for j in range(0,steps):\n",
        "  res = model.predict(data)[0]\n",
        "  res = res.reshape(10)\n",
        "  data=(np.concatenate((data[0:1].reshape(128),res)))\n",
        "  data=data[-128:]\n",
        "  data=data.reshape((1,128,1))\n",
        "  #data=data.reshape(1,128+(j)*10,1)[-128:]\n",
        "  pred=np.append(pred,res)\n",
        "data=X[i:i+1]  \n",
        "plt.figure(num=None, figsize=(13,5))\n",
        "plt.plot(range(0,128),np.concatenate((data[0:1].reshape(128),pred))[0:128],color='blue')\n",
        "plt.plot(range(128,128+steps*10),np.concatenate((data[0:1].reshape(128),pred))[128:128+steps*10],color='orange')\n",
        "plt.axvline(x=128)\n",
        "\n"
      ],
      "execution_count": 0,
      "outputs": []
    },
    {
      "metadata": {
        "colab_type": "text",
        "id": "qQbwZ-XD8GPn"
      },
      "cell_type": "markdown",
      "source": [
        "### LSTM Cell\n",
        "\n",
        "Let's use a more complex LSTM cell to and see if it works better than the RNN cell,  we again use a hidden state size of 12."
      ]
    },
    {
      "metadata": {
        "colab_type": "code",
        "id": "aoTqSYfx8AY0",
        "colab": {}
      },
      "cell_type": "code",
      "source": [
        "model_LSTM = Sequential()\n",
        "\n",
        "###### your code here#############################\n",
        "\n",
        "model_LSTM.add()\n",
        "\n",
        "###### end of your code ##########################\n",
        "\n",
        "model_LSTM.add((Dense(1)))\n",
        "model_LSTM.add(Lambda(slice, arguments={'slice_length':look_ahead}))\n",
        "\n",
        "model_LSTM.summary()\n",
        "model_LSTM.compile(optimizer='adam', loss='mean_squared_error')\n"
      ],
      "execution_count": 0,
      "outputs": []
    },
    {
      "metadata": {
        "colab_type": "text",
        "id": "OaAcSDrfpauy"
      },
      "cell_type": "markdown",
      "source": [
        "#### To train the LSTM model takes some time, so we just load a trained model after 500 epochs"
      ]
    },
    {
      "metadata": {
        "colab_type": "code",
        "id": "PZrDdjqa8mle",
        "scrolled": true,
        "colab": {}
      },
      "cell_type": "code",
      "source": [
        "#history = model_LSTM.fit(X[0:800], Y[0:800],\n",
        "#                    epochs=500,\n",
        "#                    batch_size=128,\n",
        "#                    validation_data=(X[800:1000],Y[800:1000]),\n",
        "#                    verbose=0)"
      ],
      "execution_count": 0,
      "outputs": []
    },
    {
      "metadata": {
        "colab_type": "code",
        "id": "yGXgvJMB8mlk",
        "colab": {}
      },
      "cell_type": "code",
      "source": [
        "#plt.plot(history.history['loss'])\n",
        "#plt.plot(history.history['val_loss'])\n",
        "#\n",
        "#plt.xlabel('Epoch')\n",
        "#plt.ylabel('Mean Absolute Error Loss')\n",
        "#plt.title('Loss Over Time')\n",
        "#plt.legend(['Train','Valid'])"
      ],
      "execution_count": 0,
      "outputs": []
    },
    {
      "metadata": {
        "colab_type": "code",
        "id": "TxPQTR2spau8",
        "colab": {}
      },
      "cell_type": "code",
      "source": [
        "#model_LSTM.save('../data/models/lstm_model_500_epochs.hdf5')  "
      ],
      "execution_count": 0,
      "outputs": []
    },
    {
      "metadata": {
        "colab_type": "code",
        "id": "TehnvmwIpavE",
        "colab": {}
      },
      "cell_type": "code",
      "source": [
        "# we load the trained lstm model \n",
        "from keras.models import load_model\n",
        "model_LSTM = load_model('../data/models/lstm_model_500_epochs.hdf5')\n",
        "model_LSTM.summary()"
      ],
      "execution_count": 0,
      "outputs": []
    },
    {
      "metadata": {
        "id": "82x8bbg4g5l8",
        "colab_type": "code",
        "colab": {}
      },
      "cell_type": "code",
      "source": [
        "model_LSTM.evaluate(X[0:800], Y[0:800])"
      ],
      "execution_count": 0,
      "outputs": []
    },
    {
      "metadata": {
        "colab_type": "code",
        "id": "cA8jyqN98wd5",
        "colab": {}
      },
      "cell_type": "code",
      "source": [
        "### predict for 10 steps\n",
        "i=950\n",
        "steps = 1\n",
        "pred = np.empty(0)\n",
        "data = X[i:i+1]\n",
        "model = model_LSTM\n",
        "\n",
        "for j in range(0,steps):\n",
        "  res = model.predict(data)[0]\n",
        "  res = res.reshape(10)\n",
        "  data=(np.concatenate((data[0:1].reshape(128),res)))\n",
        "  data=data[-128:]\n",
        "  data=data.reshape((1,128,1))\n",
        "  #data=data.reshape(1,128+(j)*10,1)[-128:]\n",
        "  pred=np.append(pred,res)\n",
        "data=X[i:i+1]  \n",
        "plt.figure(num=None, figsize=(13,5))\n",
        "plt.plot(range(0,128),np.concatenate((data[0:1].reshape(128),pred))[0:128],color='blue')\n",
        "plt.plot(range(128,128+steps*10),np.concatenate((data[0:1].reshape(128),pred))[128:128+steps*10],color='orange')\n",
        "plt.axvline(x=128)\n",
        "\n",
        "### predict for 80 steps\n",
        "i=950\n",
        "steps = 8\n",
        "pred = np.empty(0)\n",
        "data = X[i:i+1]\n",
        "model = model_LSTM\n",
        "\n",
        "for j in range(0,steps):\n",
        "  res = model.predict(data)[0]\n",
        "  res = res.reshape(10)\n",
        "  data=(np.concatenate((data[0:1].reshape(128),res)))\n",
        "  data=data[-128:]\n",
        "  data=data.reshape((1,128,1))\n",
        "  #data=data.reshape(1,128+(j)*10,1)[-128:]\n",
        "  pred=np.append(pred,res)\n",
        "data=X[i:i+1]  \n",
        "plt.figure(num=None, figsize=(13,5))\n",
        "plt.plot(range(0,128),np.concatenate((data[0:1].reshape(128),pred))[0:128],color='blue')\n",
        "plt.plot(range(128,128+steps*10),np.concatenate((data[0:1].reshape(128),pred))[128:128+steps*10],color='orange')\n",
        "plt.axvline(x=128)\n",
        "\n"
      ],
      "execution_count": 0,
      "outputs": []
    },
    {
      "metadata": {
        "colab_type": "text",
        "id": "Cfw9zWVBpavN"
      },
      "cell_type": "markdown",
      "source": [
        "### Compare all models for very long predictions (800 timesteps)"
      ]
    },
    {
      "metadata": {
        "colab_type": "code",
        "id": "b4YsyWwppavQ",
        "colab": {}
      },
      "cell_type": "code",
      "source": [
        "i=950\n",
        "steps = 80\n",
        "pred = np.empty(0)\n",
        "data = X[i:i+1]\n",
        "model = model_1Dconv\n",
        "\n",
        "for j in range(0,steps):\n",
        "  res = model.predict(data)[0]\n",
        "  res = res.reshape(10)\n",
        "  data=(np.concatenate((data[0:1].reshape(128),res)))\n",
        "  data=data[-128:]\n",
        "  data=data.reshape((1,128,1))\n",
        "  #data=data.reshape(1,128+(j)*10,1)[-128:]\n",
        "  pred=np.append(pred,res)\n",
        "data=X[i:i+1]  \n",
        "plt.figure(num=None, figsize=(13,5))\n",
        "plt.plot(range(0,128),np.concatenate((data[0:1].reshape(128),pred))[0:128],color='blue')\n",
        "plt.plot(range(128,128+steps*10),np.concatenate((data[0:1].reshape(128),pred))[128:128+steps*10],color='orange')\n",
        "plt.axvline(x=128)\n",
        "plt.title(\"model_1Dconv\")\n",
        "\n",
        "i=950\n",
        "steps = 80\n",
        "pred = np.empty(0)\n",
        "data = X[i:i+1]\n",
        "model = model_1Dconv_w_d\n",
        "\n",
        "for j in range(0,steps):\n",
        "  res = model.predict(data)[0]\n",
        "  res = res.reshape(10)\n",
        "  data=(np.concatenate((data[0:1].reshape(128),res)))\n",
        "  data=data[-128:]\n",
        "  data=data.reshape((1,128,1))\n",
        "  #data=data.reshape(1,128+(j)*10,1)[-128:]\n",
        "  pred=np.append(pred,res)\n",
        "data=X[i:i+1]  \n",
        "plt.figure(num=None, figsize=(13,5))\n",
        "plt.plot(range(0,128),np.concatenate((data[0:1].reshape(128),pred))[0:128],color='blue')\n",
        "plt.plot(range(128,128+steps*10),np.concatenate((data[0:1].reshape(128),pred))[128:128+steps*10],color='orange')\n",
        "plt.axvline(x=128)\n",
        "plt.title(\"model_1Dconv_w_d\")\n",
        "\n",
        "i=950\n",
        "steps = 80\n",
        "pred = np.empty(0)\n",
        "data = X[i:i+1]\n",
        "model = model_simple_RNN\n",
        "\n",
        "for j in range(0,steps):\n",
        "  res = model.predict(data)[0]\n",
        "  res = res.reshape(10)\n",
        "  data=(np.concatenate((data[0:1].reshape(128),res)))\n",
        "  data=data[-128:]\n",
        "  data=data.reshape((1,128,1))\n",
        "  #data=data.reshape(1,128+(j)*10,1)[-128:]\n",
        "  pred=np.append(pred,res)\n",
        "data=X[i:i+1]  \n",
        "plt.figure(num=None, figsize=(13,5))\n",
        "plt.plot(range(0,128),np.concatenate((data[0:1].reshape(128),pred))[0:128],color='blue')\n",
        "plt.plot(range(128,128+steps*10),np.concatenate((data[0:1].reshape(128),pred))[128:128+steps*10],color='orange')\n",
        "plt.axvline(x=128)\n",
        "plt.title(\"model_simple_RNN\")\n",
        "\n",
        "i=950\n",
        "steps = 80\n",
        "pred = np.empty(0)\n",
        "data = X[i:i+1]\n",
        "model = model_LSTM\n",
        "\n",
        "for j in range(0,steps):\n",
        "  res = model.predict(data)[0]\n",
        "  res = res.reshape(10)\n",
        "  data=(np.concatenate((data[0:1].reshape(128),res)))\n",
        "  data=data[-128:]\n",
        "  data=data.reshape((1,128,1))\n",
        "  #data=data.reshape(1,128+(j)*10,1)[-128:]\n",
        "  pred=np.append(pred,res)\n",
        "data=X[i:i+1]  \n",
        "plt.figure(num=None, figsize=(13,5))\n",
        "plt.plot(range(0,128),np.concatenate((data[0:1].reshape(128),pred))[0:128],color='blue')\n",
        "plt.plot(range(128,128+steps*10),np.concatenate((data[0:1].reshape(128),pred))[128:128+steps*10],color='orange')\n",
        "plt.axvline(x=128)\n",
        "plt.title(\"model_LSTM\")\n"
      ],
      "execution_count": 0,
      "outputs": []
    },
    {
      "metadata": {
        "colab_type": "code",
        "id": "LACl1Ww2pavU",
        "colab": {}
      },
      "cell_type": "code",
      "source": [
        ""
      ],
      "execution_count": 0,
      "outputs": []
    }
  ]
}