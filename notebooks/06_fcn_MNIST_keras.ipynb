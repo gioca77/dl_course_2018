{
 "cells": [
  {
   "cell_type": "markdown",
   "metadata": {},
   "source": [
    "# Tricks of the trade TF/Keras [small dataset]\n",
    "\n",
    "In this script we build a small multilayer perceptron with two hidden layers having 500 and 50 neurons each for classifying the MNIST database of handwritten digits using Keras. It uses a small data set so that it can be trained on the CPU.\n",
    "\n",
    "Below are several experiments."
   ]
  },
  {
   "cell_type": "code",
   "execution_count": 1,
   "metadata": {
    "scrolled": true
   },
   "outputs": [
    {
     "name": "stdout",
     "output_type": "stream",
     "text": [
      "Keras 2.2.4 TF 1.13.0-rc1 Python sys.version_info(major=3, minor=5, micro=2, releaselevel='final', serial=0)\n",
      "(4000, 1, 28, 28) (4000,) 28\n"
     ]
    },
    {
     "name": "stderr",
     "output_type": "stream",
     "text": [
      "Using TensorFlow backend.\n"
     ]
    }
   ],
   "source": [
    "%matplotlib inline\n",
    "import matplotlib.pyplot as plt\n",
    "import matplotlib.image as imgplot\n",
    "import numpy as np\n",
    "import time\n",
    "import tensorflow as tf\n",
    "tf.set_random_seed(1)\n",
    "\n",
    "from keras.models import Sequential\n",
    "from keras.layers import Dense, Activation, Dropout, BatchNormalization\n",
    "from keras import backend as K\n",
    "import keras\n",
    "import sys\n",
    "print (\"Keras {} TF {} Python {}\".format(keras.__version__, tf.__version__, sys.version_info))\n",
    "\n",
    "# To be compatible with python3 and python2\n",
    "try:\n",
    "    import cPickle as pickle\n",
    "except ImportError:\n",
    "    import pickle\n",
    "import gzip\n",
    "\n",
    "with gzip.open('../data/mnist_4000.pkl.gz', 'rb') as f:\n",
    "    if sys.version_info.major > 2:\n",
    "        (X,y) = pickle.load(f, encoding='latin1')\n",
    "    else:\n",
    "        (X,y) = pickle.load(f)\n",
    "PIXELS = len(X[0,0,0,:])\n",
    "\n",
    "print(X.shape, y.shape, PIXELS) #As read\n",
    "# We need to reshape for the MLP\n",
    "X = X.reshape([4000, 784])\n",
    "np.shape(X)\n",
    "\n",
    "# Taken from http://stackoverflow.com/questions/29831489/numpy-1-hot-array\n",
    "def convertToOneHot(vector, num_classes=None):\n",
    "    result = np.zeros((len(vector), num_classes), dtype='int32')\n",
    "    result[np.arange(len(vector)), vector] = 1\n",
    "    return result"
   ]
  },
  {
   "cell_type": "markdown",
   "metadata": {},
   "source": [
    "### Suggestions for the experiment\n",
    "\n",
    "Let the experiments run for 100 epochs. You might need to restart the kernel so that namings of the layers are the same\n",
    "\n",
    "* with init zero \n",
    "* with sigmoid activation \n",
    "* with ReLU activation\n",
    "* with dropout (p=0.3)\n",
    "* with batch-normalization and dropout"
   ]
  },
  {
   "cell_type": "code",
   "execution_count": 2,
   "metadata": {},
   "outputs": [
    {
     "name": "stdout",
     "output_type": "stream",
     "text": [
      "WARNING:tensorflow:From /usr/local/lib/python3.5/dist-packages/tensorflow/python/framework/op_def_library.py:263: colocate_with (from tensorflow.python.framework.ops) is deprecated and will be removed in a future version.\n",
      "Instructions for updating:\n",
      "Colocations handled automatically by placer.\n"
     ]
    }
   ],
   "source": [
    "### First model with all zeros\n",
    "name = 'sigmoid_init0'\n",
    "model = Sequential()\n",
    "model.add(Dense(500, batch_input_shape=(None, 784), kernel_initializer='zero'))\n",
    "model.add(Activation('sigmoid'))\n",
    "\n",
    "model.add(Dense(50,kernel_initializer='zero'))\n",
    "model.add(Activation('sigmoid'))\n",
    "\n",
    "model.add(Dense(10, activation='softmax',kernel_initializer='zero'))\n",
    "model.compile(loss='categorical_crossentropy',\n",
    "              optimizer='adadelta',\n",
    "              metrics=['accuracy'])"
   ]
  },
  {
   "cell_type": "code",
   "execution_count": 3,
   "metadata": {},
   "outputs": [
    {
     "name": "stdout",
     "output_type": "stream",
     "text": [
      "_________________________________________________________________\n",
      "Layer (type)                 Output Shape              Param #   \n",
      "=================================================================\n",
      "dense_1 (Dense)              (None, 500)               392500    \n",
      "_________________________________________________________________\n",
      "activation_1 (Activation)    (None, 500)               0         \n",
      "_________________________________________________________________\n",
      "dense_2 (Dense)              (None, 50)                25050     \n",
      "_________________________________________________________________\n",
      "activation_2 (Activation)    (None, 50)                0         \n",
      "_________________________________________________________________\n",
      "dense_3 (Dense)              (None, 10)                510       \n",
      "=================================================================\n",
      "Total params: 418,060\n",
      "Trainable params: 418,060\n",
      "Non-trainable params: 0\n",
      "_________________________________________________________________\n"
     ]
    }
   ],
   "source": [
    "model.summary()"
   ]
  },
  {
   "cell_type": "markdown",
   "metadata": {},
   "source": [
    "### Untrained model\n"
   ]
  },
  {
   "cell_type": "code",
   "execution_count": 4,
   "metadata": {},
   "outputs": [
    {
     "data": {
      "text/plain": [
       "2.3025850929940455"
      ]
     },
     "execution_count": 4,
     "metadata": {},
     "output_type": "execute_result"
    }
   ],
   "source": [
    "-np.log(0.1)"
   ]
  },
  {
   "cell_type": "code",
   "execution_count": 5,
   "metadata": {},
   "outputs": [
    {
     "name": "stdout",
     "output_type": "stream",
     "text": [
      "2000/2000 [==============================] - 0s 94us/step\n"
     ]
    },
    {
     "data": {
      "text/plain": [
       "[2.3025851249694824, 0.0955]"
      ]
     },
     "execution_count": 5,
     "metadata": {},
     "output_type": "execute_result"
    }
   ],
   "source": [
    "model.evaluate(X[0:2000], convertToOneHot(y[0:2000],10))"
   ]
  },
  {
   "cell_type": "code",
   "execution_count": 6,
   "metadata": {},
   "outputs": [
    {
     "data": {
      "text/plain": [
       "array([0, 0, 0, 0, 0, 0, 0, 0, 0, 0])"
      ]
     },
     "execution_count": 6,
     "metadata": {},
     "output_type": "execute_result"
    }
   ],
   "source": [
    "model.predict_classes(X[0:10])"
   ]
  },
  {
   "cell_type": "markdown",
   "metadata": {},
   "source": [
    "## Training"
   ]
  },
  {
   "cell_type": "code",
   "execution_count": 7,
   "metadata": {
    "scrolled": true
   },
   "outputs": [
    {
     "name": "stdout",
     "output_type": "stream",
     "text": [
      "WARNING:tensorflow:From /usr/local/lib/python3.5/dist-packages/tensorflow/python/ops/math_ops.py:3066: to_int32 (from tensorflow.python.ops.math_ops) is deprecated and will be removed in a future version.\n",
      "Instructions for updating:\n",
      "Use tf.cast instead.\n",
      "Train on 2400 samples, validate on 600 samples\n",
      "Epoch 1/50\n",
      " - 0s - loss: 2.3040 - acc: 0.0942 - val_loss: 2.3012 - val_acc: 0.1033\n",
      "Epoch 2/50\n",
      " - 0s - loss: 2.3027 - acc: 0.1087 - val_loss: 2.2990 - val_acc: 0.1067\n",
      "Epoch 3/50\n",
      " - 0s - loss: 2.3023 - acc: 0.1046 - val_loss: 2.2999 - val_acc: 0.1033\n",
      "Epoch 4/50\n",
      " - 0s - loss: 2.3032 - acc: 0.1021 - val_loss: 2.3002 - val_acc: 0.1233\n",
      "Epoch 5/50\n",
      " - 0s - loss: 2.3029 - acc: 0.1067 - val_loss: 2.2976 - val_acc: 0.1067\n",
      "Epoch 6/50\n",
      " - 0s - loss: 2.3038 - acc: 0.0958 - val_loss: 2.2986 - val_acc: 0.1233\n",
      "Epoch 7/50\n",
      " - 0s - loss: 2.3030 - acc: 0.1121 - val_loss: 2.3010 - val_acc: 0.1067\n",
      "Epoch 8/50\n",
      " - 0s - loss: 2.3030 - acc: 0.1033 - val_loss: 2.2991 - val_acc: 0.1067\n",
      "Epoch 9/50\n",
      " - 0s - loss: 2.3034 - acc: 0.1008 - val_loss: 2.2990 - val_acc: 0.1067\n",
      "Epoch 10/50\n",
      " - 0s - loss: 2.3028 - acc: 0.1062 - val_loss: 2.2990 - val_acc: 0.1067\n",
      "Epoch 11/50\n",
      " - 0s - loss: 2.3028 - acc: 0.1096 - val_loss: 2.2985 - val_acc: 0.1067\n",
      "Epoch 12/50\n",
      " - 0s - loss: 2.3018 - acc: 0.1087 - val_loss: 2.2989 - val_acc: 0.1067\n",
      "Epoch 13/50\n",
      " - 0s - loss: 2.3027 - acc: 0.1021 - val_loss: 2.2985 - val_acc: 0.1067\n",
      "Epoch 14/50\n",
      " - 0s - loss: 2.3028 - acc: 0.1025 - val_loss: 2.2986 - val_acc: 0.1033\n",
      "Epoch 15/50\n",
      " - 0s - loss: 2.3017 - acc: 0.1133 - val_loss: 2.2997 - val_acc: 0.1233\n",
      "Epoch 16/50\n",
      " - 0s - loss: 2.3024 - acc: 0.1113 - val_loss: 2.3007 - val_acc: 0.1033\n",
      "Epoch 17/50\n",
      " - 0s - loss: 2.3016 - acc: 0.1121 - val_loss: 2.2985 - val_acc: 0.1233\n",
      "Epoch 18/50\n",
      " - 0s - loss: 2.3024 - acc: 0.1017 - val_loss: 2.2989 - val_acc: 0.1233\n",
      "Epoch 19/50\n",
      " - 0s - loss: 2.3012 - acc: 0.1083 - val_loss: 2.2986 - val_acc: 0.1067\n",
      "Epoch 20/50\n",
      " - 0s - loss: 2.3025 - acc: 0.1037 - val_loss: 2.3004 - val_acc: 0.1033\n",
      "Epoch 21/50\n",
      " - 0s - loss: 2.3022 - acc: 0.1004 - val_loss: 2.2995 - val_acc: 0.1067\n",
      "Epoch 22/50\n",
      " - 0s - loss: 2.3014 - acc: 0.1000 - val_loss: 2.2991 - val_acc: 0.1067\n",
      "Epoch 23/50\n",
      " - 0s - loss: 2.3015 - acc: 0.1083 - val_loss: 2.2984 - val_acc: 0.1233\n",
      "Epoch 24/50\n",
      " - 0s - loss: 2.3008 - acc: 0.1117 - val_loss: 2.2991 - val_acc: 0.1033\n",
      "Epoch 25/50\n",
      " - 0s - loss: 2.3010 - acc: 0.1058 - val_loss: 2.2978 - val_acc: 0.1233\n",
      "Epoch 26/50\n",
      " - 0s - loss: 2.3003 - acc: 0.1004 - val_loss: 2.2984 - val_acc: 0.1233\n",
      "Epoch 27/50\n",
      " - 0s - loss: 2.2993 - acc: 0.0975 - val_loss: 2.2976 - val_acc: 0.1233\n",
      "Epoch 28/50\n",
      " - 0s - loss: 2.2985 - acc: 0.0971 - val_loss: 2.2965 - val_acc: 0.1233\n",
      "Epoch 29/50\n",
      " - 0s - loss: 2.2968 - acc: 0.1054 - val_loss: 2.2946 - val_acc: 0.1067\n",
      "Epoch 30/50\n",
      " - 0s - loss: 2.2940 - acc: 0.1046 - val_loss: 2.2916 - val_acc: 0.1067\n",
      "Epoch 31/50\n",
      " - 0s - loss: 2.2890 - acc: 0.1067 - val_loss: 2.2863 - val_acc: 0.1067\n",
      "Epoch 32/50\n",
      " - 0s - loss: 2.2816 - acc: 0.1104 - val_loss: 2.2775 - val_acc: 0.1067\n",
      "Epoch 33/50\n",
      " - 0s - loss: 2.2699 - acc: 0.1104 - val_loss: 2.2640 - val_acc: 0.1067\n",
      "Epoch 34/50\n",
      " - 0s - loss: 2.2525 - acc: 0.1104 - val_loss: 2.2436 - val_acc: 0.1067\n",
      "Epoch 35/50\n",
      " - 0s - loss: 2.2278 - acc: 0.1104 - val_loss: 2.2157 - val_acc: 0.1067\n",
      "Epoch 36/50\n",
      " - 0s - loss: 2.1948 - acc: 0.1171 - val_loss: 2.1801 - val_acc: 0.1250\n",
      "Epoch 37/50\n",
      " - 0s - loss: 2.1553 - acc: 0.1492 - val_loss: 2.1409 - val_acc: 0.1567\n",
      "Epoch 38/50\n",
      " - 0s - loss: 2.1153 - acc: 0.1750 - val_loss: 2.1037 - val_acc: 0.1817\n",
      "Epoch 39/50\n",
      " - 0s - loss: 2.0781 - acc: 0.1917 - val_loss: 2.0715 - val_acc: 0.1950\n",
      "Epoch 40/50\n",
      " - 0s - loss: 2.0465 - acc: 0.1992 - val_loss: 2.0445 - val_acc: 0.2083\n",
      "Epoch 41/50\n",
      " - 0s - loss: 2.0194 - acc: 0.2067 - val_loss: 2.0217 - val_acc: 0.2100\n",
      "Epoch 42/50\n",
      " - 0s - loss: 1.9961 - acc: 0.2088 - val_loss: 2.0019 - val_acc: 0.2083\n",
      "Epoch 43/50\n",
      " - 0s - loss: 1.9759 - acc: 0.2125 - val_loss: 1.9848 - val_acc: 0.2100\n",
      "Epoch 44/50\n",
      " - 0s - loss: 1.9587 - acc: 0.2133 - val_loss: 1.9693 - val_acc: 0.2150\n",
      "Epoch 45/50\n",
      " - 0s - loss: 1.9432 - acc: 0.2183 - val_loss: 1.9561 - val_acc: 0.2167\n",
      "Epoch 46/50\n",
      " - 0s - loss: 1.9292 - acc: 0.2221 - val_loss: 1.9432 - val_acc: 0.2167\n",
      "Epoch 47/50\n",
      " - 0s - loss: 1.9166 - acc: 0.2233 - val_loss: 1.9321 - val_acc: 0.2167\n",
      "Epoch 48/50\n",
      " - 0s - loss: 1.9054 - acc: 0.2288 - val_loss: 1.9219 - val_acc: 0.2250\n",
      "Epoch 49/50\n",
      " - 0s - loss: 1.8945 - acc: 0.2317 - val_loss: 1.9123 - val_acc: 0.2250\n",
      "Epoch 50/50\n",
      " - 0s - loss: 1.8843 - acc: 0.2337 - val_loss: 1.9036 - val_acc: 0.2317\n"
     ]
    }
   ],
   "source": [
    "tensorboard = keras.callbacks.TensorBoard(\n",
    "    log_dir='tensorboard/mnist_small/' + name + '/', \n",
    "    write_graph=True,\n",
    "    histogram_freq=1\n",
    ")\n",
    "history = model.fit(X[0:2400], \n",
    "          convertToOneHot(y[0:2400],10), \n",
    "          epochs=50, \n",
    "          batch_size=128, \n",
    "          callbacks=[tensorboard],\n",
    "          validation_data=[X[2400:3000], convertToOneHot(y[2400:3000],10)], verbose=2)\n",
    "K.clear_session()\n"
   ]
  },
  {
   "cell_type": "code",
   "execution_count": 8,
   "metadata": {},
   "outputs": [
    {
     "data": {
      "image/png": "[encoded data removed]",
      "text/plain": [
       "<Figure size 432x288 with 1 Axes>"
      ]
     },
     "metadata": {
      "needs_background": "light"
     },
     "output_type": "display_data"
    }
   ],
   "source": [
    "plt.plot(history.history['acc'])\n",
    "plt.plot(history.history['val_acc'])\n",
    "plt.title('model accuracy')\n",
    "plt.ylabel('accuracy')\n",
    "plt.xlabel('epoch')\n",
    "plt.legend(['train acc', 'test acc'], loc='lower right')\n",
    "plt.show()"
   ]
  },
  {
   "cell_type": "code",
   "execution_count": 9,
   "metadata": {},
   "outputs": [
    {
     "data": {
      "image/png": "[encoded data removed]",
      "text/plain": [
       "<Figure size 432x288 with 1 Axes>"
      ]
     },
     "metadata": {
      "needs_background": "light"
     },
     "output_type": "display_data"
    }
   ],
   "source": [
    "plt.plot(history.history['loss'])\n",
    "plt.plot(history.history['val_loss'])\n",
    "plt.title('model loss')\n",
    "plt.ylabel('loss')\n",
    "plt.xlabel('epoch')\n",
    "plt.legend(['train loss', 'test loss'], loc='upper right')\n",
    "plt.show()"
   ]
  },
  {
   "cell_type": "code",
   "execution_count": null,
   "metadata": {},
   "outputs": [],
   "source": [
    "!tensorboard --logdir=tensorboard/mnist_small/"
   ]
  }
 ],
 "metadata": {
  "kernelspec": {
   "display_name": "Python 3",
   "language": "python",
   "name": "python3"
  },
  "language_info": {
   "codemirror_mode": {
    "name": "ipython",
    "version": 3
   },
   "file_extension": ".py",
   "mimetype": "text/x-python",
   "name": "python",
   "nbconvert_exporter": "python",
   "pygments_lexer": "ipython3",
   "version": "3.5.2"
  }
 },
 "nbformat": 4,
 "nbformat_minor": 1
}
