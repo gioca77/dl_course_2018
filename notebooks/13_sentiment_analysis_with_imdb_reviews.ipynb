{
  "nbformat": 4,
  "nbformat_minor": 0,
  "metadata": {
    "colab": {
      "name": "13_sentiment_analysis_with_imdb_reviews_solution.ipynb",
      "version": "0.3.2",
      "provenance": []
    },
    "kernelspec": {
      "display_name": "Python 3",
      "language": "python",
      "name": "python3"
    }
  },
  "cells": [
    {
      "metadata": {
        "id": "lj0kayjfOfdv",
        "colab_type": "text"
      },
      "cell_type": "markdown",
      "source": [
        "## Sentiment analysis with imdb reviews\n",
        "\n",
        "In this notebook we work with the IMDb dataset, it is a binary sentiment analysis dataset consisting of 50,000 reviews from the Internet Movie Database (IMDb) labeled as positive (1) or negative (0). The dataset contains an even number of positive and negative reviews. Only highly polarizing reviews are considered. A negative review has a score ≤ 4 out of 10, and a positive review has a score ≥ 7 out of 10. We will apply a very simple preprocessing to the textreviews and then train a baseline randomforest on bag of words features. We will compare the results of the bag of word randomforest with a neural network performace where we learn a  dense word-embedding for each word and then classify it to either positive (1) or negative (0). Finally we will use an inception-like architecture with 1D convolutions and globalpooling and see if we can improve the performace. You can test the trained network on new reviews from the internet or by writting your own review for a movie you like or don't like."
      ]
    },
    {
      "metadata": {
        "id": "T30znDyfOfdz",
        "colab_type": "code",
        "colab": {}
      },
      "cell_type": "code",
      "source": [
        "import numpy as np\n",
        "import pandas as pd\n",
        "import matplotlib.pyplot as plt\n",
        "import re\n",
        "%matplotlib inline"
      ],
      "execution_count": 0,
      "outputs": []
    },
    {
      "metadata": {
        "id": "rwiaITdXOfd7",
        "colab_type": "code",
        "colab": {}
      },
      "cell_type": "code",
      "source": [
        "# Downloading the review and labels, if it does not exist\n",
        "import urllib\n",
        "import os\n",
        "if not os.path.isfile('movie_data.csv'):\n",
        "    urllib.request.urlretrieve(\n",
        "    \"https://www.dropbox.com/s/kvwi2nlrtk7axn9/movie_data.csv?dl=1\",\n",
        "    \"movie_data.csv\")"
      ],
      "execution_count": 0,
      "outputs": []
    },
    {
      "metadata": {
        "id": "JTuYfofUOfeB",
        "colab_type": "code",
        "colab": {}
      },
      "cell_type": "code",
      "source": [
        "df = pd.read_csv('movie_data.csv', encoding='utf-8')\n",
        "df[0:5]"
      ],
      "execution_count": 0,
      "outputs": []
    },
    {
      "metadata": {
        "id": "dhE_jotWOfeL",
        "colab_type": "text"
      },
      "cell_type": "markdown",
      "source": [
        "shuffle the data and extract the first 15000 reviews with the sentiments\n"
      ]
    },
    {
      "metadata": {
        "id": "QKY_bQmFOfeN",
        "colab_type": "code",
        "colab": {}
      },
      "cell_type": "code",
      "source": [
        "df=df.sample(frac=1,random_state=22).reset_index(drop=True)\n",
        "X = df.loc[0:14999, 'review'].values\n",
        "y = df.loc[0:14999, 'sentiment'].values"
      ],
      "execution_count": 0,
      "outputs": []
    },
    {
      "metadata": {
        "id": "WKm_KAAzOfeU",
        "colab_type": "text"
      },
      "cell_type": "markdown",
      "source": [
        "look at one review before we apply some text preprocessing"
      ]
    },
    {
      "metadata": {
        "id": "8n2VJcDPOfeV",
        "colab_type": "code",
        "colab": {}
      },
      "cell_type": "code",
      "source": [
        "i=0\n",
        "print(X[i])\n",
        "print(y[i])"
      ],
      "execution_count": 0,
      "outputs": []
    },
    {
      "metadata": {
        "id": "Tnwg7vp6Ofec",
        "colab_type": "text"
      },
      "cell_type": "markdown",
      "source": [
        "Here we do a very simple preprocessing, no stemming no lemmatization no stopwords removed  \n",
        "codecredit: https://stackabuse.com/text-classification-with-python-and-scikit-learn/"
      ]
    },
    {
      "metadata": {
        "id": "GW0zbtIlOfed",
        "colab_type": "code",
        "colab": {}
      },
      "cell_type": "code",
      "source": [
        "documents = []\n",
        "\n",
        "for i in range(0, len(X)):  \n",
        "    # Remove all the special characters\n",
        "    document = re.sub(r'\\W', ' ', str(X[i]))\n",
        "    # remove all single characters\n",
        "    document = re.sub(r'\\s+[a-zA-Z]\\s+', ' ', document)\n",
        "    # Remove single characters from the start\n",
        "    document = re.sub(r'\\^[a-zA-Z]\\s+', ' ', document) \n",
        "    # Substituting multiple spaces with single space\n",
        "    document = re.sub(r'\\s+', ' ', document, flags=re.I)\n",
        "    # Removing prefixed 'b'\n",
        "    document = re.sub(r'^b\\s+', '', document)\n",
        "    # Removing html stuff\n",
        "    document = re.sub(\"br\", '', document)\n",
        "    # Substituting multiple spaces with single space\n",
        "    document = re.sub(r'\\s+', ' ', document, flags=re.I)\n",
        "    # Converting to Lowercase\n",
        "    document = document.lower()\n",
        "    documents.append(document)"
      ],
      "execution_count": 0,
      "outputs": []
    },
    {
      "metadata": {
        "id": "Mw8UKcGTOfeh",
        "colab_type": "text"
      },
      "cell_type": "markdown",
      "source": [
        "look at the review from before after the text preprocessing"
      ]
    },
    {
      "metadata": {
        "id": "4gQyS5HROfej",
        "colab_type": "code",
        "colab": {}
      },
      "cell_type": "code",
      "source": [
        "documents[0]"
      ],
      "execution_count": 0,
      "outputs": []
    },
    {
      "metadata": {
        "id": "CWFpB4WTOfeu",
        "colab_type": "text"
      },
      "cell_type": "markdown",
      "source": [
        "## RF Baseline"
      ]
    },
    {
      "metadata": {
        "id": "YEFN9cp2Ofet",
        "colab_type": "text"
      },
      "cell_type": "markdown",
      "source": [
        "Here we \"vectorize\" the bag of words. We choose to consider only the 6000 most frequent words and take only words that appear in at least 5 diffrent reviews, furthermore we ignore all words that appear in more than 70% of all reviews. "
      ]
    },
    {
      "metadata": {
        "id": "keboNZRTOfev",
        "colab_type": "code",
        "colab": {}
      },
      "cell_type": "code",
      "source": [
        "from sklearn.feature_extraction.text import CountVectorizer  \n",
        "vectorizer = CountVectorizer(max_features=6000, min_df=5, max_df=0.7)\n",
        " \n",
        "X = vectorizer.fit_transform(documents).toarray()  "
      ],
      "execution_count": 0,
      "outputs": []
    },
    {
      "metadata": {
        "id": "5KVtAwNMOfez",
        "colab_type": "code",
        "colab": {}
      },
      "cell_type": "code",
      "source": [
        "print(len(vectorizer.get_feature_names()))#length of all tokens\n",
        "np.array(vectorizer.get_feature_names()[0:200])#the first 200 tokens"
      ],
      "execution_count": 0,
      "outputs": []
    },
    {
      "metadata": {
        "id": "Vv6UVT8FOfe4",
        "colab_type": "text"
      },
      "cell_type": "markdown",
      "source": [
        "spliting the bag of words into a train valid and testset"
      ]
    },
    {
      "metadata": {
        "id": "4VW4EENZOfe5",
        "colab_type": "code",
        "colab": {}
      },
      "cell_type": "code",
      "source": [
        "X_train = X[0:5000]\n",
        "y_train = y[0:5000]\n",
        "X_val = X[5000:10000]\n",
        "y_val = y[5000:10000]\n",
        "X_test = X[10000:15000]\n",
        "y_test = y[10000:15000]"
      ],
      "execution_count": 0,
      "outputs": []
    },
    {
      "metadata": {
        "id": "l8egWs4JOfe-",
        "colab_type": "text"
      },
      "cell_type": "markdown",
      "source": [
        "the data more or less balanced"
      ]
    },
    {
      "metadata": {
        "id": "hkjuPtSGOfe_",
        "colab_type": "code",
        "colab": {}
      },
      "cell_type": "code",
      "source": [
        "print(np.unique(y_train,return_counts=True))\n",
        "print(np.unique(y_val,return_counts=True))\n",
        "print(np.unique(y_test,return_counts=True))\n",
        "print(X_train.shape)\n",
        "print(X_val.shape)\n",
        "print(X_test.shape)"
      ],
      "execution_count": 0,
      "outputs": []
    },
    {
      "metadata": {
        "id": "sLT32ZjeOffF",
        "colab_type": "text"
      },
      "cell_type": "markdown",
      "source": [
        "bag of words for the first five reviews (very sparse representation), 5000 observations, with 6000 features\n"
      ]
    },
    {
      "metadata": {
        "id": "t_nrYqisOffH",
        "colab_type": "code",
        "colab": {}
      },
      "cell_type": "code",
      "source": [
        "print(X_train[0:5])\n",
        "print(X_train.shape)"
      ],
      "execution_count": 0,
      "outputs": []
    },
    {
      "metadata": {
        "id": "OySVMPm_OffM",
        "colab_type": "text"
      },
      "cell_type": "markdown",
      "source": [
        "let's train a radomforest on the bag of words features of the train set"
      ]
    },
    {
      "metadata": {
        "id": "zqBynwKWOffQ",
        "colab_type": "code",
        "colab": {}
      },
      "cell_type": "code",
      "source": [
        "from sklearn.ensemble import RandomForestClassifier\n",
        "classifier = RandomForestClassifier(n_estimators=300, random_state=36)  \n",
        "classifier.fit(X_train, y_train)"
      ],
      "execution_count": 0,
      "outputs": []
    },
    {
      "metadata": {
        "id": "odquYZ9rOffY",
        "colab_type": "text"
      },
      "cell_type": "markdown",
      "source": [
        "prediction on the test set with the accuracy and the confusion matrix"
      ]
    },
    {
      "metadata": {
        "id": "bp5ZBTfpOffZ",
        "colab_type": "code",
        "colab": {}
      },
      "cell_type": "code",
      "source": [
        "y_pred = classifier.predict(X_test)  \n",
        "print(pd.crosstab(y_test, y_pred,rownames=['true'], colnames=['pred']))\n",
        "print(\"Acc = \",np.sum(y_test==y_pred)/len(y_test))"
      ],
      "execution_count": 0,
      "outputs": []
    },
    {
      "metadata": {
        "id": "DSu20wPwOffe",
        "colab_type": "text"
      },
      "cell_type": "markdown",
      "source": [
        "## Neural network with wordembedding"
      ]
    },
    {
      "metadata": {
        "id": "3HMe0a0GOffg",
        "colab_type": "code",
        "colab": {}
      },
      "cell_type": "code",
      "source": [
        "X_train = documents[0:5000]\n",
        "y_train = y[0:5000]\n",
        "X_val = documents[5000:10000]\n",
        "y_val = y[5000:10000]\n",
        "X_test = documents[10000:15000]\n",
        "y_test = y[10000:15000]"
      ],
      "execution_count": 0,
      "outputs": []
    },
    {
      "metadata": {
        "id": "7sEMGLVWOffj",
        "colab_type": "code",
        "colab": {}
      },
      "cell_type": "code",
      "source": [
        "X_train[0]"
      ],
      "execution_count": 0,
      "outputs": []
    },
    {
      "metadata": {
        "id": "dXv7H2cgOffm",
        "colab_type": "text"
      },
      "cell_type": "markdown",
      "source": [
        "In the next cell we tokenize all unique words in the reviews and transform them into a sequence of the corresponding integer number of the token that belongs to the word. For example we cound transform \"the\" into the number 7. Then we take the length of the longest review and we zeropad all other reviews to that length of the longest review, so all reviews have the same length. "
      ]
    },
    {
      "metadata": {
        "id": "G35l_6qjOffo",
        "colab_type": "code",
        "colab": {}
      },
      "cell_type": "code",
      "source": [
        "from keras.preprocessing.text import Tokenizer\n",
        "from keras.preprocessing.sequence import pad_sequences\n",
        "\n",
        "# fit tokenizer on all reviews\n",
        "total_reviews = documents\n",
        "tokenizer = Tokenizer()\n",
        "tokenizer.fit_on_texts(total_reviews) \n",
        "\n",
        "\n",
        "# transform tokens to a sequence of integers\n",
        "X_train_tokens =  tokenizer.texts_to_sequences(X_train)\n",
        "X_val_tokens = tokenizer.texts_to_sequences(X_val)\n",
        "X_test_tokens = tokenizer.texts_to_sequences(X_test)\n",
        "\n",
        "# max length of all reviews\n",
        "max_length = max([len(s.split()) for s in total_reviews])\n",
        "print(\"longest review:\",max_length,\"words\")\n",
        "\n",
        "# define vocabulary size (unique words in all reviews)\n",
        "vocab_size = len(tokenizer.word_index) + 1\n",
        "print(\"number of unique words/tokens:\",vocab_size)\n",
        "\n",
        "\n",
        "# zeropad the sequences to have the \"same\" length \n",
        "X_train_pad = pad_sequences(X_train_tokens, maxlen=max_length, padding='post')\n",
        "X_val_pad = pad_sequences(X_val_tokens, maxlen=max_length, padding='post')\n",
        "X_test_pad = pad_sequences(X_test_tokens, maxlen=max_length, padding='post')"
      ],
      "execution_count": 0,
      "outputs": []
    },
    {
      "metadata": {
        "id": "ib7farhIOffv",
        "colab_type": "text"
      },
      "cell_type": "markdown",
      "source": [
        "this is how our input for the neural network will look like, just a sequence of integer numbers"
      ]
    },
    {
      "metadata": {
        "id": "H9CRiTztOffw",
        "colab_type": "code",
        "colab": {}
      },
      "cell_type": "code",
      "source": [
        "X_train_pad[0]"
      ],
      "execution_count": 0,
      "outputs": []
    },
    {
      "metadata": {
        "id": "qPiIV1SMOff2",
        "colab_type": "text"
      },
      "cell_type": "markdown",
      "source": [
        "all unique tokens with the corresponding number"
      ]
    },
    {
      "metadata": {
        "id": "3fskOK_MOff3",
        "colab_type": "code",
        "colab": {}
      },
      "cell_type": "code",
      "source": [
        "#print(tokenizer.word_index)"
      ],
      "execution_count": 0,
      "outputs": []
    },
    {
      "metadata": {
        "id": "qx-QPpLjOff7",
        "colab_type": "text"
      },
      "cell_type": "markdown",
      "source": [
        "definition of the network with an embedding layer in the input that maps the numbers (words) into vectors of the same size.\n",
        "architecture inspired by: https://www.tensorflow.org/tutorials/keras/basic_text_classification\n"
      ]
    },
    {
      "metadata": {
        "id": "pCNxC8sZOff8",
        "colab_type": "code",
        "colab": {}
      },
      "cell_type": "code",
      "source": [
        "from keras.models import Sequential\n",
        "from keras.layers import Dense, Embedding,GlobalAveragePooling1D,Dropout\n",
        "\n",
        "##################################################\n",
        "###### your code here#############################\n",
        "\n",
        "\n",
        "EMBEDDING_DIM = \n",
        "\n",
        "\n",
        "model.compile(loss='binary_crossentropy', optimizer='adam', metrics=['accuracy'])\n",
        "\n",
        "###### end of your code ##########################\n",
        "##################################################\n",
        "\n",
        "\n",
        "model.summary()"
      ],
      "execution_count": 0,
      "outputs": []
    },
    {
      "metadata": {
        "id": "Z1WITi5IOfgA",
        "colab_type": "code",
        "colab": {}
      },
      "cell_type": "code",
      "source": [
        "history=model.fit(X_train_pad, y_train, batch_size=64, epochs=40, validation_data=(X_val_pad, y_val), verbose=1)"
      ],
      "execution_count": 0,
      "outputs": []
    },
    {
      "metadata": {
        "id": "i9RaUyr5OfgE",
        "colab_type": "code",
        "colab": {}
      },
      "cell_type": "code",
      "source": [
        "# summarize history \n",
        "plt.plot(history.history['acc'])\n",
        "plt.plot(history.history['val_acc'])\n",
        "plt.title('model accuracy')\n",
        "plt.ylabel('accuracy')\n",
        "plt.xlabel('epoch')\n",
        "plt.legend(['train', 'valid'], loc='lower right')\n",
        "plt.show()\n",
        "plt.plot(history.history['loss'])\n",
        "plt.plot(history.history['val_loss'])\n",
        "plt.title('model loss')\n",
        "plt.ylabel('loss')\n",
        "plt.xlabel('epoch')\n",
        "plt.legend(['train', 'valid'], loc='upper right')\n",
        "plt.show()"
      ],
      "execution_count": 0,
      "outputs": []
    },
    {
      "metadata": {
        "id": "QhrS0yPLOfgI",
        "colab_type": "text"
      },
      "cell_type": "markdown",
      "source": [
        "prediction on the test set with the accuracy and the confusion matrix. Are we better than the RF baseline?"
      ]
    },
    {
      "metadata": {
        "id": "ATsMpPPwOfgJ",
        "colab_type": "code",
        "colab": {}
      },
      "cell_type": "code",
      "source": [
        "y_pred = model.predict_classes(X_test_pad)  \n",
        "y_pred=y_pred.reshape(len(y_pred))\n",
        "print(pd.crosstab(y_test, y_pred,rownames=['true'], colnames=['pred']))\n",
        "print(\"Acc = \",np.sum(y_test==y_pred)/len(y_test))"
      ],
      "execution_count": 0,
      "outputs": []
    },
    {
      "metadata": {
        "id": "R_a9qkStOfgN",
        "colab_type": "text"
      },
      "cell_type": "markdown",
      "source": [
        "\n",
        "### We need to go deeper! \n",
        "Write your own review or test the model on some reviews of Inception or some other movie, note that we can use an arbitrary length for the review.  \n",
        "Visit: https://www.imdb.com/title/tt1375666/reviews?ref_=tt_ov_rt  \n",
        "remeber 0 is negative and 1 is postive"
      ]
    },
    {
      "metadata": {
        "id": "BfWmcDquOfgO",
        "colab_type": "code",
        "colab": {}
      },
      "cell_type": "code",
      "source": [
        "#paste new reviews here in the sample list\n",
        "sample=list([\"Inception is truly one of a kind. A concept which has long gestated in Christopher Nolan's mind, his eye for drama mixed with his large scale sensibilities ring true in Blockbuster season making Inception a true original in the sea of reboots, remakes and sequels.To try and explain Inceptions many plot twists and incredibly intelligent arcs, would be a foolish task. As Nolan himself has been reluctant to. The best way to approach the film would be with an open mind, if you are prepared to be taken on a ride of a lifetime, then trust that you 100% will. If Avatar was a seminal film in technology (although coming out as a rather poor film, in my opinion), then Inception is seminal in it's storytelling. With a 148 minute running time, you would expect a lot to take place, but what you wouldn't expect is the pace of it all. I did not think at one time in the film about how long was left. I was simply blown away by the depth in every single part of the film. If my enthusiasm for the storytelling aspect of the film has left you worried about the spectacle, then don't worry. They are, as hinted in the trailer, incredible, looking real and unbelievable simultaneously. The most pleasing thing about the action set pieces, is that they are genuinely used to illustrate the story, rather than to blow stuff up a la Michael Bay. With this complex movie in it's high concept, a stellar cast is needed. And Nolan as always, delivers with just that. This is vintage DiCaprio, perhaps only equalled in The Aviator, which is even more impressive as his role as Cobb in Inception is not a showy one, needing DiCaprio to be the constant at the centre of the film. And he pulls off Cobb's emotional contradictions sublimely. The rest of the cast members all shine in parts of the films, Cillian Murphy shows off his usually non-existent tender side, Gordon-Levitt bottles his usual charm for his confidently reserved turn as the reliable Arthur, Watanabe is devilish as the seemingly ambiguous Saito, Page shows why she's the next big female star and Tom Hardy revels in being the comic relief of the film compared to his recent turns as decidedly psychopathic characters. Overall, Nolan has indeed surpassed himself. He has created a world as expansive as his Gotham, a plot dwarfing the intricacies of Memento and one which blows The Prestige's cinematic reveal out of the water. This is truly unmissable cinema. Revel in it, we've still got to wait a whole two years before Batman 3.\",\n",
        "             \"Based on reviews I was hoping this was a different American film in the sense that it will have substance, subtlety and that it will make me think. It did not, it did not and it did not again. It is your typical Hollywood flick with car chases, shooting galore, explosions, fistfights, pretty boys and girls - the whole nine yards to sell tickets to the ADHD generation of teenagers. I gave it 3 stars - instead of just 2 - because the special effects are absolutely astonishing. This film wishes to be clever but really is not and does not make a lot of sense either. It reminded me of the teachers/professors who were confusing on purpose in order to make us believe they are smarter than we were.\"])\n",
        "sample_tokens=tokenizer.texts_to_sequences(sample)\n",
        "#print(np.array(sample_tokens))\n",
        "print(model.predict(np.array(sample_tokens[0:1])))\n",
        "print(model.predict(np.array(sample_tokens[1:2])))"
      ],
      "execution_count": 0,
      "outputs": []
    },
    {
      "metadata": {
        "id": "phMBGCA0OfgR",
        "colab_type": "text"
      },
      "cell_type": "markdown",
      "source": [
        "### Optional: Neural network with wordembedding (inception like) with Keras functional api  "
      ]
    },
    {
      "metadata": {
        "id": "UxlHDe18OfgS",
        "colab_type": "code",
        "colab": {}
      },
      "cell_type": "code",
      "source": [
        "from keras.models import Model\n",
        "from keras.layers import Input, Dense, Concatenate, Dropout, Embedding, Conv1D,GlobalMaxPooling1D,GlobalAveragePooling1D\n",
        "EMBEDDING_DIM = 30\n",
        "\n",
        "\n",
        "a = Input(shape=(max_length,))\n",
        "x = Embedding(vocab_size, EMBEDDING_DIM)(a)\n",
        "x1 = Conv1D(filters=50,kernel_size=(3),activation=\"relu\",padding=\"same\")(x)\n",
        "x2 = Conv1D(filters=50,kernel_size=(5),activation=\"relu\",padding=\"same\")(x)\n",
        "x3 = Conv1D(filters=50,kernel_size=(7),activation=\"relu\",padding=\"same\")(x)\n",
        "\n",
        "g1 = GlobalAveragePooling1D()(x1)\n",
        "g2 = GlobalAveragePooling1D()(x2)\n",
        "g3 = GlobalAveragePooling1D()(x3)\n",
        "conc= Concatenate()([g1,g2,g3])\n",
        "conc = Dropout(0.3)(conc)\n",
        "conc = Dense(50, activation='relu')(conc)\n",
        "conc = Dropout(0.3)(conc)\n",
        "out= Dense(1, activation='sigmoid')(conc)\n",
        "model = Model(inputs=a, outputs=out)\n",
        "model.compile(loss='binary_crossentropy', optimizer='adam', metrics=['accuracy'])\n",
        "model.summary()"
      ],
      "execution_count": 0,
      "outputs": []
    },
    {
      "metadata": {
        "id": "YaFMf-8EOfgW",
        "colab_type": "code",
        "colab": {}
      },
      "cell_type": "code",
      "source": [
        "history=model.fit(X_train_pad, y_train, batch_size=64, epochs=10, validation_data=(X_val_pad, y_val), verbose=1)"
      ],
      "execution_count": 0,
      "outputs": []
    },
    {
      "metadata": {
        "id": "63SJzB8AOfgZ",
        "colab_type": "code",
        "colab": {}
      },
      "cell_type": "code",
      "source": [
        "# summarize history \n",
        "plt.plot(history.history['acc'])\n",
        "plt.plot(history.history['val_acc'])\n",
        "plt.title('model accuracy')\n",
        "plt.ylabel('accuracy')\n",
        "plt.xlabel('epoch')\n",
        "plt.legend(['train', 'valid'], loc='lower right')\n",
        "plt.show()\n",
        "plt.plot(history.history['loss'])\n",
        "plt.plot(history.history['val_loss'])\n",
        "plt.title('model loss')\n",
        "plt.ylabel('loss')\n",
        "plt.xlabel('epoch')\n",
        "plt.legend(['train', 'valid'], loc='upper right')\n",
        "plt.show()"
      ],
      "execution_count": 0,
      "outputs": []
    },
    {
      "metadata": {
        "id": "batRfbrgOfgc",
        "colab_type": "code",
        "colab": {}
      },
      "cell_type": "code",
      "source": [
        "y_pred = model.predict(X_test_pad)  \n",
        "y_pred=np.reshape(np.round(y_pred,0),(len(y_pred)))\n",
        "print(pd.crosstab(y_test, y_pred,rownames=['true'], colnames=['pred']))\n",
        "print(\"Acc = \",np.sum(y_test==y_pred)/len(y_test))"
      ],
      "execution_count": 0,
      "outputs": []
    }
  ]
}