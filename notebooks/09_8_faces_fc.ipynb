{
 "cells": [
  {
   "cell_type": "markdown",
   "metadata": {},
   "source": [
    "## Classification on 8 celebrities\n",
    "\n",
    "In this notebook we try to classify images of : \"Miranda_Cosgrove\" \"Chris_Martin\" \"Emma_Stone\" \"Jamie_Foxx\" \"Steve_Jobs\" \"Zac_Efron\" \"Sandra_Oh\" \"Taryn_Manning\". There are 350 images of each celebrity, we use 250 for traning and 50 for validation and test."
   ]
  },
  {
   "cell_type": "code",
   "execution_count": 1,
   "metadata": {},
   "outputs": [],
   "source": [
    "#!pip3 install sklearn ##for docker users"
   ]
  },
  {
   "cell_type": "code",
   "execution_count": 2,
   "metadata": {},
   "outputs": [],
   "source": [
    "import gzip\n",
    "import numpy as np\n",
    "import matplotlib.pyplot as plt\n",
    "import matplotlib.image as imgplot\n",
    "import time\n",
    "%matplotlib inline\n",
    "import h5py"
   ]
  },
  {
   "cell_type": "markdown",
   "metadata": {},
   "source": [
    "Reading in the data, it is already prepared in a train, validation and testset. The class labels are form 0 to 7. The pixelsize of every image is 48x48 and we have 3 channels (RGB) per image. All 3 sets are balanced."
   ]
  },
  {
   "cell_type": "code",
   "execution_count": 3,
   "metadata": {},
   "outputs": [],
   "source": [
    "# Downloading the data, if it does not exist, this will take some time... (>120MB)\n",
    "import urllib\n",
    "import os\n",
    "if not os.path.isfile('8_faces_train_and_valid.hdf5'):\n",
    "    urllib.request.urlretrieve(\n",
    "    \"https://www.dropbox.com/s/dx03vk6dmbtoywn/8_faces_train_and_valid.hdf5?dl=1\",\n",
    "    \"8_faces_train_and_valid.hdf5\")"
   ]
  },
  {
   "cell_type": "code",
   "execution_count": 4,
   "metadata": {},
   "outputs": [
    {
     "name": "stdout",
     "output_type": "stream",
     "text": [
      "['X_train_8_faces', 'X_valid_8_faces', 'Y_train_8_faces', 'Y_valid_8_faces']\n",
      "(2000, 48, 48, 3)\n",
      "(2000,)\n",
      "(400, 48, 48, 3)\n",
      "(400,)\n"
     ]
    }
   ],
   "source": [
    "h5f_X = h5py.File('8_faces_train_and_valid.hdf5', 'r')\n",
    "print(list(h5f_X.keys()))\n",
    "X_train = h5f_X['X_train_8_faces']\n",
    "print(X_train.shape)\n",
    "Y_train = h5f_X['Y_train_8_faces']\n",
    "print(Y_train.shape)\n",
    "X_valid = h5f_X['X_valid_8_faces']\n",
    "print(X_valid.shape)\n",
    "Y_valid = h5f_X['Y_valid_8_faces']\n",
    "print(Y_valid.shape)"
   ]
  },
  {
   "cell_type": "code",
   "execution_count": 5,
   "metadata": {},
   "outputs": [
    {
     "data": {
      "text/plain": [
       "(array([250., 250., 250., 250., 250., 250., 250., 250.]),\n",
       " array([0.   , 0.875, 1.75 , 2.625, 3.5  , 4.375, 5.25 , 6.125, 7.   ]),\n",
       " <a list of 8 Patch objects>)"
      ]
     },
     "execution_count": 5,
     "metadata": {},
     "output_type": "execute_result"
    },
    {
     "data": {
      "image/png": "[encoded data removed]",
      "text/plain": [
       "<Figure size 432x288 with 1 Axes>"
      ]
     },
     "metadata": {
      "needs_background": "light"
     },
     "output_type": "display_data"
    }
   ],
   "source": [
    "plt.hist(Y_train,bins=8)"
   ]
  },
  {
   "cell_type": "code",
   "execution_count": 6,
   "metadata": {},
   "outputs": [
    {
     "data": {
      "text/plain": [
       "(array([50., 50., 50., 50., 50., 50., 50., 50.]),\n",
       " array([0.   , 0.875, 1.75 , 2.625, 3.5  , 4.375, 5.25 , 6.125, 7.   ]),\n",
       " <a list of 8 Patch objects>)"
      ]
     },
     "execution_count": 6,
     "metadata": {},
     "output_type": "execute_result"
    },
    {
     "data": {
      "image/png": "[encoded data removed]",
      "text/plain": [
       "<Figure size 432x288 with 1 Axes>"
      ]
     },
     "metadata": {
      "needs_background": "light"
     },
     "output_type": "display_data"
    }
   ],
   "source": [
    "plt.hist(Y_valid,bins=8)"
   ]
  },
  {
   "cell_type": "markdown",
   "metadata": {},
   "source": [
    "How hard is this task? Lets plot some random image of the trainset to get an impression of the images and of  the task. "
   ]
  },
  {
   "cell_type": "code",
   "execution_count": 7,
   "metadata": {},
   "outputs": [
    {
     "name": "stdout",
     "output_type": "stream",
     "text": [
      "5\n"
     ]
    },
    {
     "data": {
      "text/plain": [
       "<matplotlib.image.AxesImage at 0x7fb73e689390>"
      ]
     },
     "execution_count": 7,
     "metadata": {},
     "output_type": "execute_result"
    },
    {
     "data": {
      "image/png": "[encoded data removed]",
      "text/plain": [
       "<Figure size 432x288 with 1 Axes>"
      ]
     },
     "metadata": {
      "needs_background": "light"
     },
     "output_type": "display_data"
    }
   ],
   "source": [
    "rmd=np.random.randint(0,len(X_train))\n",
    "print(Y_train[rmd])\n",
    "plt.imshow(np.asarray(X_train[rmd],dtype=\"uint8\"))"
   ]
  },
  {
   "cell_type": "markdown",
   "metadata": {},
   "source": [
    "#### Normalization of the training and validationset."
   ]
  },
  {
   "cell_type": "code",
   "execution_count": 8,
   "metadata": {},
   "outputs": [],
   "source": [
    "X_mean = np.mean( X_train, axis = 0)\n",
    "X_std = np.std( X_train, axis = 0)\n",
    "\n",
    "X_train = (X_train - X_mean ) / (X_std + 0.0001)\n",
    "X_valid = (X_valid - X_mean ) / (X_std + 0.0001)"
   ]
  },
  {
   "cell_type": "markdown",
   "metadata": {},
   "source": [
    "#### Flattern the images into a vector because we unly use fully connected layers in this model"
   ]
  },
  {
   "cell_type": "code",
   "execution_count": 9,
   "metadata": {},
   "outputs": [
    {
     "name": "stdout",
     "output_type": "stream",
     "text": [
      "(2000, 6912)\n",
      "(400, 6912)\n"
     ]
    }
   ],
   "source": [
    "X_train_flatten=np.zeros([len(X_train),48*48*3])\n",
    "for i in range(0,len(X_train)):\n",
    "    X_train_flatten[i]=np.reshape(X_train[i],newshape=((48*48*3),))\n",
    "    \n",
    "X_valid_flatten=np.zeros([len(X_valid),48*48*3])\n",
    "for i in range(0,len(X_valid)):\n",
    "    X_valid_flatten[i]=np.reshape(X_valid[i],newshape=((48*48*3),))\n",
    "print(X_train_flatten.shape)\n",
    "print(X_valid_flatten.shape)"
   ]
  },
  {
   "cell_type": "markdown",
   "metadata": {},
   "source": [
    "Define the convertToOneHot function and convert the labels into the onehot encoding."
   ]
  },
  {
   "cell_type": "code",
   "execution_count": 10,
   "metadata": {},
   "outputs": [],
   "source": [
    "def convertToOneHot(vector, num_classes=None):\n",
    "    result = np.zeros((len(vector), num_classes), dtype='int32')\n",
    "    result[np.arange(len(vector)), vector] = 1\n",
    "    return result"
   ]
  },
  {
   "cell_type": "code",
   "execution_count": 11,
   "metadata": {},
   "outputs": [],
   "source": [
    "Y_train=convertToOneHot(Y_train,num_classes=8)\n",
    "Y_valid=convertToOneHot(Y_valid,num_classes=8)"
   ]
  },
  {
   "cell_type": "code",
   "execution_count": 12,
   "metadata": {},
   "outputs": [
    {
     "name": "stdout",
     "output_type": "stream",
     "text": [
      "[0 0 0 0 1 0 0 0]\n",
      "[0 1 0 0 0 0 0 0]\n"
     ]
    }
   ],
   "source": [
    "print(Y_train[13])\n",
    "print(Y_valid[13])"
   ]
  },
  {
   "cell_type": "markdown",
   "metadata": {},
   "source": [
    "### Define the network"
   ]
  },
  {
   "cell_type": "code",
   "execution_count": 13,
   "metadata": {},
   "outputs": [
    {
     "name": "stderr",
     "output_type": "stream",
     "text": [
      "Using TensorFlow backend.\n"
     ]
    }
   ],
   "source": [
    "import keras\n",
    "from keras.datasets import mnist\n",
    "from keras.models import Sequential\n",
    "from keras.layers import Dense, Dropout, Activation, Flatten\n",
    "from keras.layers import Convolution2D, MaxPooling2D\n",
    "from keras import backend as K\n",
    "from keras.layers.normalization import BatchNormalization"
   ]
  },
  {
   "cell_type": "code",
   "execution_count": 14,
   "metadata": {},
   "outputs": [],
   "source": [
    "batch_size = 128\n",
    "nb_classes = 8\n",
    "nb_epoch = 50"
   ]
  },
  {
   "cell_type": "code",
   "execution_count": 15,
   "metadata": {},
   "outputs": [
    {
     "name": "stdout",
     "output_type": "stream",
     "text": [
      "WARNING:tensorflow:From /usr/local/lib/python3.5/dist-packages/tensorflow/python/framework/op_def_library.py:263: colocate_with (from tensorflow.python.framework.ops) is deprecated and will be removed in a future version.\n",
      "Instructions for updating:\n",
      "Colocations handled automatically by placer.\n",
      "WARNING:tensorflow:From /usr/local/lib/python3.5/dist-packages/keras/backend/tensorflow_backend.py:3445: calling dropout (from tensorflow.python.ops.nn_ops) with keep_prob is deprecated and will be removed in a future version.\n",
      "Instructions for updating:\n",
      "Please use `rate` instead of `keep_prob`. Rate should be set to `rate = 1 - keep_prob`.\n"
     ]
    }
   ],
   "source": [
    "model = Sequential()\n",
    "name = 'only_fc'\n",
    "\n",
    "model.add(Dense(400,input_dim=(48*48*3)))\n",
    "model.add(BatchNormalization())\n",
    "model.add(Activation('relu'))\n",
    "model.add(Dropout(0.5))\n",
    "\n",
    "model.add(Dense(500))\n",
    "model.add(BatchNormalization())\n",
    "model.add(Activation('relu'))\n",
    "model.add(Dropout(0.5))\n",
    "\n",
    "model.add(Dense(200))\n",
    "model.add(BatchNormalization())\n",
    "model.add(Activation('relu'))\n",
    "model.add(Dropout(0.5))\n",
    "\n",
    "model.add(Dense(nb_classes))\n",
    "model.add(Activation('softmax'))\n",
    "\n",
    "model.compile(loss='categorical_crossentropy',\n",
    "              optimizer='adam',\n",
    "              metrics=['accuracy'])"
   ]
  },
  {
   "cell_type": "code",
   "execution_count": 16,
   "metadata": {},
   "outputs": [
    {
     "name": "stdout",
     "output_type": "stream",
     "text": [
      "_________________________________________________________________\n",
      "Layer (type)                 Output Shape              Param #   \n",
      "=================================================================\n",
      "dense_1 (Dense)              (None, 400)               2765200   \n",
      "_________________________________________________________________\n",
      "batch_normalization_1 (Batch (None, 400)               1600      \n",
      "_________________________________________________________________\n",
      "activation_1 (Activation)    (None, 400)               0         \n",
      "_________________________________________________________________\n",
      "dropout_1 (Dropout)          (None, 400)               0         \n",
      "_________________________________________________________________\n",
      "dense_2 (Dense)              (None, 500)               200500    \n",
      "_________________________________________________________________\n",
      "batch_normalization_2 (Batch (None, 500)               2000      \n",
      "_________________________________________________________________\n",
      "activation_2 (Activation)    (None, 500)               0         \n",
      "_________________________________________________________________\n",
      "dropout_2 (Dropout)          (None, 500)               0         \n",
      "_________________________________________________________________\n",
      "dense_3 (Dense)              (None, 200)               100200    \n",
      "_________________________________________________________________\n",
      "batch_normalization_3 (Batch (None, 200)               800       \n",
      "_________________________________________________________________\n",
      "activation_3 (Activation)    (None, 200)               0         \n",
      "_________________________________________________________________\n",
      "dropout_3 (Dropout)          (None, 200)               0         \n",
      "_________________________________________________________________\n",
      "dense_4 (Dense)              (None, 8)                 1608      \n",
      "_________________________________________________________________\n",
      "activation_4 (Activation)    (None, 8)                 0         \n",
      "=================================================================\n",
      "Total params: 3,071,908\n",
      "Trainable params: 3,069,708\n",
      "Non-trainable params: 2,200\n",
      "_________________________________________________________________\n"
     ]
    }
   ],
   "source": [
    "model.summary()"
   ]
  },
  {
   "cell_type": "markdown",
   "metadata": {},
   "source": [
    "### Running a forward pass of the untrained network"
   ]
  },
  {
   "cell_type": "code",
   "execution_count": 17,
   "metadata": {},
   "outputs": [
    {
     "name": "stdout",
     "output_type": "stream",
     "text": [
      "2000/2000 [==============================] - 1s 366us/step\n"
     ]
    },
    {
     "data": {
      "text/plain": [
       "[2.279938192367554, 0.112]"
      ]
     },
     "execution_count": 17,
     "metadata": {},
     "output_type": "execute_result"
    }
   ],
   "source": [
    "model.evaluate(X_train_flatten,Y_train)"
   ]
  },
  {
   "cell_type": "code",
   "execution_count": 18,
   "metadata": {},
   "outputs": [],
   "source": [
    "tensorboard = keras.callbacks.TensorBoard(\n",
    "        log_dir='tensorboard/8_faces/' + name + '/', \n",
    "        write_graph=True,\n",
    "        histogram_freq=1)"
   ]
  },
  {
   "cell_type": "code",
   "execution_count": 19,
   "metadata": {},
   "outputs": [],
   "source": [
    "#save model after every 10 epochs in \"Checkpoints/8_facesl/model_1_fc/\"-folder\n",
    "os.makedirs(\"Checkpoints/8_faces/model_1_fc/\",exist_ok=True)       \n",
    "checkpointer = keras.callbacks.ModelCheckpoint( \n",
    "        filepath =  \"Checkpoints/8_faces/model_1_fc/fc_model_\"+\"weights_epoch_{epoch:03d}-{val_loss:.2f}.hdf5\",\n",
    "        verbose = 1, \n",
    "        save_best_only = False,\n",
    "        period = 10 )"
   ]
  },
  {
   "cell_type": "markdown",
   "metadata": {},
   "source": [
    "### Training the network"
   ]
  },
  {
   "cell_type": "code",
   "execution_count": 20,
   "metadata": {
    "scrolled": false
   },
   "outputs": [
    {
     "name": "stdout",
     "output_type": "stream",
     "text": [
      "WARNING:tensorflow:From /usr/local/lib/python3.5/dist-packages/tensorflow/python/ops/math_ops.py:3066: to_int32 (from tensorflow.python.ops.math_ops) is deprecated and will be removed in a future version.\n",
      "Instructions for updating:\n",
      "Use tf.cast instead.\n",
      "Train on 2000 samples, validate on 400 samples\n",
      "Epoch 1/50\n",
      "2000/2000 [==============================] - 2s 1ms/step - loss: 2.4301 - acc: 0.1955 - val_loss: 2.0984 - val_acc: 0.2950\n",
      "Epoch 2/50\n",
      "2000/2000 [==============================] - 1s 560us/step - loss: 2.1530 - acc: 0.2600 - val_loss: 1.8373 - val_acc: 0.3650\n",
      "Epoch 3/50\n",
      "2000/2000 [==============================] - 1s 562us/step - loss: 1.9770 - acc: 0.2965 - val_loss: 1.6986 - val_acc: 0.3850\n",
      "Epoch 4/50\n",
      "2000/2000 [==============================] - 1s 608us/step - loss: 1.9102 - acc: 0.3160 - val_loss: 1.6267 - val_acc: 0.4075\n",
      "Epoch 5/50\n",
      "2000/2000 [==============================] - 1s 581us/step - loss: 1.8017 - acc: 0.3520 - val_loss: 1.5456 - val_acc: 0.4375\n",
      "Epoch 6/50\n",
      "2000/2000 [==============================] - 1s 587us/step - loss: 1.7540 - acc: 0.3465 - val_loss: 1.5157 - val_acc: 0.4675\n",
      "Epoch 7/50\n",
      "2000/2000 [==============================] - 1s 598us/step - loss: 1.6850 - acc: 0.3935 - val_loss: 1.4931 - val_acc: 0.4775\n",
      "Epoch 8/50\n",
      "2000/2000 [==============================] - 1s 589us/step - loss: 1.6403 - acc: 0.4095 - val_loss: 1.4473 - val_acc: 0.4850\n",
      "Epoch 9/50\n",
      "2000/2000 [==============================] - 1s 633us/step - loss: 1.5279 - acc: 0.4420 - val_loss: 1.4250 - val_acc: 0.4850\n",
      "Epoch 10/50\n",
      "2000/2000 [==============================] - 1s 616us/step - loss: 1.4763 - acc: 0.4615 - val_loss: 1.4265 - val_acc: 0.5025\n",
      "\n",
      "Epoch 00010: saving model to Checkpoints/8_faces/model_1_fc/fc_model_weights_epoch_010-1.43.hdf5\n",
      "Epoch 11/50\n",
      "2000/2000 [==============================] - 1s 665us/step - loss: 1.4140 - acc: 0.4765 - val_loss: 1.3663 - val_acc: 0.5150\n",
      "Epoch 12/50\n",
      "2000/2000 [==============================] - 1s 623us/step - loss: 1.3509 - acc: 0.4965 - val_loss: 1.3459 - val_acc: 0.5225\n",
      "Epoch 13/50\n",
      "2000/2000 [==============================] - 1s 609us/step - loss: 1.3557 - acc: 0.5105 - val_loss: 1.3436 - val_acc: 0.5125\n",
      "Epoch 14/50\n",
      "2000/2000 [==============================] - 1s 625us/step - loss: 1.2481 - acc: 0.5455 - val_loss: 1.3321 - val_acc: 0.5350\n",
      "Epoch 15/50\n",
      "2000/2000 [==============================] - 1s 598us/step - loss: 1.2387 - acc: 0.5430 - val_loss: 1.3282 - val_acc: 0.5275\n",
      "Epoch 16/50\n",
      "2000/2000 [==============================] - 1s 569us/step - loss: 1.1846 - acc: 0.5795 - val_loss: 1.3137 - val_acc: 0.5250\n",
      "Epoch 17/50\n",
      "2000/2000 [==============================] - 1s 651us/step - loss: 1.1736 - acc: 0.5610 - val_loss: 1.3027 - val_acc: 0.5500\n",
      "Epoch 18/50\n",
      "2000/2000 [==============================] - 1s 592us/step - loss: 1.1222 - acc: 0.5935 - val_loss: 1.3036 - val_acc: 0.5500\n",
      "Epoch 19/50\n",
      "2000/2000 [==============================] - 1s 576us/step - loss: 1.0474 - acc: 0.6380 - val_loss: 1.2601 - val_acc: 0.5725\n",
      "Epoch 20/50\n",
      "2000/2000 [==============================] - 1s 601us/step - loss: 1.0020 - acc: 0.6525 - val_loss: 1.2766 - val_acc: 0.5600\n",
      "\n",
      "Epoch 00020: saving model to Checkpoints/8_faces/model_1_fc/fc_model_weights_epoch_020-1.28.hdf5\n",
      "Epoch 21/50\n",
      "2000/2000 [==============================] - 1s 709us/step - loss: 0.9798 - acc: 0.6425 - val_loss: 1.3212 - val_acc: 0.5500\n",
      "Epoch 22/50\n",
      "2000/2000 [==============================] - 1s 611us/step - loss: 0.9300 - acc: 0.6830 - val_loss: 1.3233 - val_acc: 0.5675\n",
      "Epoch 23/50\n",
      "2000/2000 [==============================] - 1s 593us/step - loss: 0.9073 - acc: 0.6815 - val_loss: 1.3368 - val_acc: 0.5700\n",
      "Epoch 24/50\n",
      "2000/2000 [==============================] - 1s 631us/step - loss: 0.8512 - acc: 0.7050 - val_loss: 1.2996 - val_acc: 0.5925\n",
      "Epoch 25/50\n",
      "2000/2000 [==============================] - 1s 559us/step - loss: 0.8543 - acc: 0.6930 - val_loss: 1.2926 - val_acc: 0.6000\n",
      "Epoch 26/50\n",
      "2000/2000 [==============================] - 1s 559us/step - loss: 0.8111 - acc: 0.7105 - val_loss: 1.3146 - val_acc: 0.5700\n",
      "Epoch 27/50\n",
      "2000/2000 [==============================] - 1s 597us/step - loss: 0.7944 - acc: 0.7245 - val_loss: 1.3352 - val_acc: 0.5625\n",
      "Epoch 28/50\n",
      "2000/2000 [==============================] - 1s 565us/step - loss: 0.7462 - acc: 0.7465 - val_loss: 1.3489 - val_acc: 0.5775\n",
      "Epoch 29/50\n",
      "2000/2000 [==============================] - 1s 558us/step - loss: 0.7321 - acc: 0.7455 - val_loss: 1.3493 - val_acc: 0.5600\n",
      "Epoch 30/50\n",
      "2000/2000 [==============================] - 1s 625us/step - loss: 0.6983 - acc: 0.7530 - val_loss: 1.3675 - val_acc: 0.5600\n",
      "\n",
      "Epoch 00030: saving model to Checkpoints/8_faces/model_1_fc/fc_model_weights_epoch_030-1.37.hdf5\n",
      "Epoch 31/50\n",
      "2000/2000 [==============================] - 1s 611us/step - loss: 0.6661 - acc: 0.7665 - val_loss: 1.3833 - val_acc: 0.5575\n",
      "Epoch 32/50\n",
      "2000/2000 [==============================] - 1s 630us/step - loss: 0.6523 - acc: 0.7695 - val_loss: 1.4003 - val_acc: 0.5750\n",
      "Epoch 33/50\n",
      "2000/2000 [==============================] - 1s 606us/step - loss: 0.6377 - acc: 0.7770 - val_loss: 1.3761 - val_acc: 0.5675\n",
      "Epoch 34/50\n",
      "2000/2000 [==============================] - 1s 619us/step - loss: 0.6074 - acc: 0.7855 - val_loss: 1.4444 - val_acc: 0.5400\n",
      "Epoch 35/50\n",
      "2000/2000 [==============================] - 1s 622us/step - loss: 0.5863 - acc: 0.7955 - val_loss: 1.4399 - val_acc: 0.5300\n",
      "Epoch 36/50\n",
      "2000/2000 [==============================] - 1s 576us/step - loss: 0.5595 - acc: 0.8055 - val_loss: 1.5138 - val_acc: 0.5650\n",
      "Epoch 37/50\n",
      "2000/2000 [==============================] - 1s 624us/step - loss: 0.5886 - acc: 0.8070 - val_loss: 1.4819 - val_acc: 0.5400\n",
      "Epoch 38/50\n",
      "2000/2000 [==============================] - 1s 567us/step - loss: 0.5270 - acc: 0.8195 - val_loss: 1.4702 - val_acc: 0.5550\n",
      "Epoch 39/50\n",
      "2000/2000 [==============================] - 1s 587us/step - loss: 0.5016 - acc: 0.8300 - val_loss: 1.4480 - val_acc: 0.5500\n",
      "Epoch 40/50\n",
      "2000/2000 [==============================] - 1s 594us/step - loss: 0.4766 - acc: 0.8390 - val_loss: 1.5200 - val_acc: 0.5475\n",
      "\n",
      "Epoch 00040: saving model to Checkpoints/8_faces/model_1_fc/fc_model_weights_epoch_040-1.52.hdf5\n",
      "Epoch 41/50\n",
      "2000/2000 [==============================] - 1s 599us/step - loss: 0.4655 - acc: 0.8430 - val_loss: 1.4642 - val_acc: 0.5800\n",
      "Epoch 42/50\n",
      "2000/2000 [==============================] - 1s 653us/step - loss: 0.4570 - acc: 0.8445 - val_loss: 1.5071 - val_acc: 0.5700\n",
      "Epoch 43/50\n",
      "2000/2000 [==============================] - 1s 623us/step - loss: 0.4587 - acc: 0.8455 - val_loss: 1.5666 - val_acc: 0.5650\n",
      "Epoch 44/50\n",
      "2000/2000 [==============================] - 1s 647us/step - loss: 0.4037 - acc: 0.8730 - val_loss: 1.5869 - val_acc: 0.5375\n",
      "Epoch 45/50\n",
      "2000/2000 [==============================] - 1s 580us/step - loss: 0.4151 - acc: 0.8605 - val_loss: 1.5621 - val_acc: 0.5500\n",
      "Epoch 46/50\n",
      "2000/2000 [==============================] - 1s 606us/step - loss: 0.3913 - acc: 0.8680 - val_loss: 1.6213 - val_acc: 0.5625\n",
      "Epoch 47/50\n",
      "2000/2000 [==============================] - 1s 626us/step - loss: 0.3984 - acc: 0.8625 - val_loss: 1.5944 - val_acc: 0.5575\n",
      "Epoch 48/50\n",
      "2000/2000 [==============================] - 1s 640us/step - loss: 0.3664 - acc: 0.8795 - val_loss: 1.6909 - val_acc: 0.5500\n",
      "Epoch 49/50\n",
      "2000/2000 [==============================] - 1s 602us/step - loss: 0.3660 - acc: 0.8795 - val_loss: 1.5731 - val_acc: 0.5600\n",
      "Epoch 50/50\n",
      "2000/2000 [==============================] - 1s 611us/step - loss: 0.3669 - acc: 0.8755 - val_loss: 1.6081 - val_acc: 0.5800\n",
      "\n",
      "Epoch 00050: saving model to Checkpoints/8_faces/model_1_fc/fc_model_weights_epoch_050-1.61.hdf5\n"
     ]
    }
   ],
   "source": [
    "history=model.fit(X_train_flatten, Y_train, \n",
    "                  batch_size=batch_size, \n",
    "                  epochs=nb_epoch,\n",
    "                  verbose=1, \n",
    "                  validation_data=(X_valid_flatten, Y_valid),\n",
    "                  callbacks=[tensorboard,checkpointer],)"
   ]
  },
  {
   "cell_type": "code",
   "execution_count": 21,
   "metadata": {},
   "outputs": [
    {
     "data": {
      "image/png": "[encoded data removed]",
      "text/plain": [
       "<Figure size 432x288 with 1 Axes>"
      ]
     },
     "metadata": {
      "needs_background": "light"
     },
     "output_type": "display_data"
    },
    {
     "data": {
      "image/png": "[encoded data removed]",
      "text/plain": [
       "<Figure size 432x288 with 1 Axes>"
      ]
     },
     "metadata": {
      "needs_background": "light"
     },
     "output_type": "display_data"
    }
   ],
   "source": [
    "# summarize history for accuracy\n",
    "plt.plot(history.history['acc'])\n",
    "plt.plot(history.history['val_acc'])\n",
    "plt.title('model accuracy')\n",
    "plt.ylabel('accuracy')\n",
    "plt.xlabel('epoch')\n",
    "plt.legend(['train', 'valid'], loc='lower right')\n",
    "plt.show()\n",
    "plt.plot(history.history['loss'])\n",
    "plt.plot(history.history['val_loss'])\n",
    "plt.title('model loss')\n",
    "plt.ylabel('loss')\n",
    "plt.xlabel('epoch')\n",
    "plt.legend(['train', 'valid'], loc='upper right')\n",
    "plt.show()"
   ]
  },
  {
   "cell_type": "markdown",
   "metadata": {},
   "source": [
    "### Evaluation of the trained network"
   ]
  },
  {
   "cell_type": "code",
   "execution_count": 22,
   "metadata": {},
   "outputs": [],
   "source": [
    "#load a saved model\n",
    "from keras.models import load_model\n",
    "model = load_model(\"Checkpoints/8_faces/model_1_fc/fc_model_weights_epoch_020-1.28.hdf5\")"
   ]
  },
  {
   "cell_type": "code",
   "execution_count": 23,
   "metadata": {},
   "outputs": [],
   "source": [
    "preds=model.predict(X_valid_flatten)"
   ]
  },
  {
   "cell_type": "code",
   "execution_count": 24,
   "metadata": {},
   "outputs": [
    {
     "name": "stdout",
     "output_type": "stream",
     "text": [
      "[[34  2  3  2  2  1  5  1]\n",
      " [ 2 13  1 10  5 16  0  3]\n",
      " [ 3  1 36  2  0  2  1  5]\n",
      " [ 2  4  2 37  1  2  2  0]\n",
      " [ 0  1  0  3 42  2  1  1]\n",
      " [ 3  4  7  3  3 28  2  0]\n",
      " [11  1  5  5  4  3 18  3]\n",
      " [ 3  5  7  5  5  7  2 16]]\n",
      "Acc =  0.56\n"
     ]
    }
   ],
   "source": [
    "from sklearn.metrics import confusion_matrix\n",
    "print(confusion_matrix(np.argmax(Y_valid,axis=1),np.argmax(preds,axis=1)))\n",
    "print(\"Acc = \" ,np.sum(np.argmax(Y_valid,axis=1)==np.argmax(preds,axis=1))/len(preds))"
   ]
  },
  {
   "cell_type": "markdown",
   "metadata": {
    "collapsed": true
   },
   "source": [
    "### You will get the test set later, optimize your network on the validation set"
   ]
  }
 ],
 "metadata": {
  "kernelspec": {
   "display_name": "Python 3",
   "language": "python",
   "name": "python3"
  },
  "language_info": {
   "codemirror_mode": {
    "name": "ipython",
    "version": 3
   },
   "file_extension": ".py",
   "mimetype": "text/x-python",
   "name": "python",
   "nbconvert_exporter": "python",
   "pygments_lexer": "ipython3",
   "version": "3.5.2"
  }
 },
 "nbformat": 4,
 "nbformat_minor": 1
}
