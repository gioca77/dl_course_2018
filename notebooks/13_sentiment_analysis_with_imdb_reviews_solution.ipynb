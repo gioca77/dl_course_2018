{
  "nbformat": 4,
  "nbformat_minor": 0,
  "metadata": {
    "colab": {
      "name": "13_sentiment_analysis_with_imdb_reviews_solution.ipynb",
      "version": "0.3.2",
      "provenance": []
    },
    "kernelspec": {
      "display_name": "Python 3",
      "language": "python",
      "name": "python3"
    }
  },
  "cells": [
    {
      "metadata": {
        "id": "lj0kayjfOfdv",
        "colab_type": "text"
      },
      "cell_type": "markdown",
      "source": [
        "## Sentiment analysis with imdb reviews\n",
        "\n",
        "In this notebook we work with the IMDb dataset, it is a binary sentiment analysis dataset consisting of 50,000 reviews from the Internet Movie Database (IMDb) labeled as positive (1) or negative (0). The dataset contains an even number of positive and negative reviews. Only highly polarizing reviews are considered. A negative review has a score ≤ 4 out of 10, and a positive review has a score ≥ 7 out of 10. We will apply a very simple preprocessing to the textreviews and then train a baseline randomforest on bag of words features. We will compare the results of the bag of word randomforest with a neural network performace where we learn a  dense word-embedding for each word and then classify it to either positive (1) or negative (0). Finally we will use an inception-like architecture with 1D convolutions and globalpooling and see if we can improve the performace. You can test the trained network on new reviews from the internet or by writting your own review for a movie you like or don't like."
      ]
    },
    {
      "metadata": {
        "id": "T30znDyfOfdz",
        "colab_type": "code",
        "colab": {}
      },
      "cell_type": "code",
      "source": [
        "import numpy as np\n",
        "import pandas as pd\n",
        "import matplotlib.pyplot as plt\n",
        "import re\n",
        "%matplotlib inline"
      ],
      "execution_count": 0,
      "outputs": []
    },
    {
      "metadata": {
        "id": "rwiaITdXOfd7",
        "colab_type": "code",
        "colab": {}
      },
      "cell_type": "code",
      "source": [
        "# Downloading the review and labels, if it does not exist\n",
        "import urllib\n",
        "import os\n",
        "if not os.path.isfile('movie_data.csv'):\n",
        "    urllib.request.urlretrieve(\n",
        "    \"https://www.dropbox.com/s/kvwi2nlrtk7axn9/movie_data.csv?dl=1\",\n",
        "    \"movie_data.csv\")"
      ],
      "execution_count": 0,
      "outputs": []
    },
    {
      "metadata": {
        "id": "JTuYfofUOfeB",
        "colab_type": "code",
        "outputId": "7582e9dc-ab3a-4c88-cbc9-81c4e437fde3",
        "colab": {}
      },
      "cell_type": "code",
      "source": [
        "df = pd.read_csv('movie_data.csv', encoding='utf-8')\n",
        "df[0:5]"
      ],
      "execution_count": 0,
      "outputs": [
        {
          "output_type": "execute_result",
          "data": {
            "text/html": [
              "<div>\n",
              "<style scoped>\n",
              "    .dataframe tbody tr th:only-of-type {\n",
              "        vertical-align: middle;\n",
              "    }\n",
              "\n",
              "    .dataframe tbody tr th {\n",
              "        vertical-align: top;\n",
              "    }\n",
              "\n",
              "    .dataframe thead th {\n",
              "        text-align: right;\n",
              "    }\n",
              "</style>\n",
              "<table border=\"1\" class=\"dataframe\">\n",
              "  <thead>\n",
              "    <tr style=\"text-align: right;\">\n",
              "      <th></th>\n",
              "      <th>review</th>\n",
              "      <th>sentiment</th>\n",
              "    </tr>\n",
              "  </thead>\n",
              "  <tbody>\n",
              "    <tr>\n",
              "      <th>0</th>\n",
              "      <td>I went and saw this movie last night after bei...</td>\n",
              "      <td>1</td>\n",
              "    </tr>\n",
              "    <tr>\n",
              "      <th>1</th>\n",
              "      <td>Actor turned director Bill Paxton follows up h...</td>\n",
              "      <td>1</td>\n",
              "    </tr>\n",
              "    <tr>\n",
              "      <th>2</th>\n",
              "      <td>As a recreational golfer with some knowledge o...</td>\n",
              "      <td>1</td>\n",
              "    </tr>\n",
              "    <tr>\n",
              "      <th>3</th>\n",
              "      <td>I saw this film in a sneak preview, and it is ...</td>\n",
              "      <td>1</td>\n",
              "    </tr>\n",
              "    <tr>\n",
              "      <th>4</th>\n",
              "      <td>Bill Paxton has taken the true story of the 19...</td>\n",
              "      <td>1</td>\n",
              "    </tr>\n",
              "  </tbody>\n",
              "</table>\n",
              "</div>"
            ],
            "text/plain": [
              "                                              review  sentiment\n",
              "0  I went and saw this movie last night after bei...          1\n",
              "1  Actor turned director Bill Paxton follows up h...          1\n",
              "2  As a recreational golfer with some knowledge o...          1\n",
              "3  I saw this film in a sneak preview, and it is ...          1\n",
              "4  Bill Paxton has taken the true story of the 19...          1"
            ]
          },
          "metadata": {
            "tags": []
          },
          "execution_count": 3
        }
      ]
    },
    {
      "metadata": {
        "id": "dhE_jotWOfeL",
        "colab_type": "text"
      },
      "cell_type": "markdown",
      "source": [
        "shuffle the data and extract the first 15000 reviews with the sentiments\n"
      ]
    },
    {
      "metadata": {
        "id": "QKY_bQmFOfeN",
        "colab_type": "code",
        "colab": {}
      },
      "cell_type": "code",
      "source": [
        "df=df.sample(frac=1,random_state=22).reset_index(drop=True)\n",
        "X = df.loc[0:14999, 'review'].values\n",
        "y = df.loc[0:14999, 'sentiment'].values"
      ],
      "execution_count": 0,
      "outputs": []
    },
    {
      "metadata": {
        "id": "WKm_KAAzOfeU",
        "colab_type": "text"
      },
      "cell_type": "markdown",
      "source": [
        "look at one review before we apply some text preprocessing"
      ]
    },
    {
      "metadata": {
        "id": "8n2VJcDPOfeV",
        "colab_type": "code",
        "outputId": "8c3bd993-6bd5-400f-b6b7-73430452af0a",
        "colab": {}
      },
      "cell_type": "code",
      "source": [
        "i=0\n",
        "print(X[i])\n",
        "print(y[i])"
      ],
      "execution_count": 0,
      "outputs": [
        {
          "output_type": "stream",
          "text": [
            "This is not a new film. It is a re-cut of 1994's \"Emmanuelle, Queen of the Galaxy\", and it has been significantly truncated. Warning: Many characters appear in the credits that have been cut from the movie!<br /><br />If you want to see this one in its original form, pick up \"Queen\" - avoid this one at all costs, as the cuts make it even choppier than it was originally.\n",
            "0\n"
          ],
          "name": "stdout"
        }
      ]
    },
    {
      "metadata": {
        "id": "Tnwg7vp6Ofec",
        "colab_type": "text"
      },
      "cell_type": "markdown",
      "source": [
        "Here we do a very simple preprocessing, no stemming no lemmatization no stopwords removed  \n",
        "codecredit: https://stackabuse.com/text-classification-with-python-and-scikit-learn/"
      ]
    },
    {
      "metadata": {
        "id": "GW0zbtIlOfed",
        "colab_type": "code",
        "colab": {}
      },
      "cell_type": "code",
      "source": [
        "documents = []\n",
        "\n",
        "for i in range(0, len(X)):  \n",
        "    # Remove all the special characters\n",
        "    document = re.sub(r'\\W', ' ', str(X[i]))\n",
        "    # remove all single characters\n",
        "    document = re.sub(r'\\s+[a-zA-Z]\\s+', ' ', document)\n",
        "    # Remove single characters from the start\n",
        "    document = re.sub(r'\\^[a-zA-Z]\\s+', ' ', document) \n",
        "    # Substituting multiple spaces with single space\n",
        "    document = re.sub(r'\\s+', ' ', document, flags=re.I)\n",
        "    # Removing prefixed 'b'\n",
        "    document = re.sub(r'^b\\s+', '', document)\n",
        "    # Removing html stuff\n",
        "    document = re.sub(\"br\", '', document)\n",
        "    # Substituting multiple spaces with single space\n",
        "    document = re.sub(r'\\s+', ' ', document, flags=re.I)\n",
        "    # Converting to Lowercase\n",
        "    document = document.lower()\n",
        "    documents.append(document)"
      ],
      "execution_count": 0,
      "outputs": []
    },
    {
      "metadata": {
        "id": "Mw8UKcGTOfeh",
        "colab_type": "text"
      },
      "cell_type": "markdown",
      "source": [
        "look at the review from before after the text preprocessing"
      ]
    },
    {
      "metadata": {
        "id": "4gQyS5HROfej",
        "colab_type": "code",
        "outputId": "35487e0d-0499-4df0-ce85-a51210224736",
        "colab": {}
      },
      "cell_type": "code",
      "source": [
        "documents[0]"
      ],
      "execution_count": 0,
      "outputs": [
        {
          "output_type": "execute_result",
          "data": {
            "text/plain": [
              "'this is not new film it is re cut of 1994 emmanuelle queen of the galaxy and it has been significantly truncated warning many characters appear in the credits that have been cut from the movie if you want to see this one in its original form pick up queen avoid this one at all costs as the cuts make it even choppier than it was originally '"
            ]
          },
          "metadata": {
            "tags": []
          },
          "execution_count": 7
        }
      ]
    },
    {
      "metadata": {
        "id": "CWFpB4WTOfeu",
        "colab_type": "text"
      },
      "cell_type": "markdown",
      "source": [
        "## RF Baseline"
      ]
    },
    {
      "metadata": {
        "id": "YEFN9cp2Ofet",
        "colab_type": "text"
      },
      "cell_type": "markdown",
      "source": [
        "Here we \"vectorize\" the bag of words. We choose to consider only the 6000 most frequent words and take only words that appear in at least 5 diffrent reviews, furthermore we ignore all words that appear in more than 70% of all reviews. "
      ]
    },
    {
      "metadata": {
        "id": "keboNZRTOfev",
        "colab_type": "code",
        "colab": {}
      },
      "cell_type": "code",
      "source": [
        "from sklearn.feature_extraction.text import CountVectorizer  \n",
        "vectorizer = CountVectorizer(max_features=6000, min_df=5, max_df=0.7)\n",
        " \n",
        "X = vectorizer.fit_transform(documents).toarray()  "
      ],
      "execution_count": 0,
      "outputs": []
    },
    {
      "metadata": {
        "id": "5KVtAwNMOfez",
        "colab_type": "code",
        "outputId": "ea5dac71-f8b1-48e9-f4b2-2ff90f389e5c",
        "colab": {}
      },
      "cell_type": "code",
      "source": [
        "print(len(vectorizer.get_feature_names()))#length of all tokens\n",
        "np.array(vectorizer.get_feature_names()[0:200])#the first 200 tokens"
      ],
      "execution_count": 0,
      "outputs": [
        {
          "output_type": "stream",
          "text": [
            "6000\n"
          ],
          "name": "stdout"
        },
        {
          "output_type": "execute_result",
          "data": {
            "text/plain": [
              "array(['00', '000', '10', '100', '101', '11', '12', '13', '13th', '14',\n",
              "       '15', '16', '17', '18', '1930', '1930s', '1933', '1939', '1940',\n",
              "       '1940s', '1945', '1950', '1950s', '1955', '1960', '1960s', '1968',\n",
              "       '1969', '1970', '1970s', '1971', '1972', '1973', '1974', '1977',\n",
              "       '1978', '1979', '1980', '1980s', '1981', '1982', '1983', '1984',\n",
              "       '1986', '1987', '1988', '1990', '1994', '1995', '1996', '1997',\n",
              "       '1998', '1999', '19th', '1st', '20', '2000', '2001', '2002',\n",
              "       '2003', '2004', '2005', '2006', '2007', '2008', '20th', '21st',\n",
              "       '22', '23', '24', '25', '2nd', '30', '300', '3000', '30s', '35',\n",
              "       '3d', '3rd', '40', '40s', '45', '4th', '50', '50s', '60', '60s',\n",
              "       '70', '70s', '75', '80', '80s', '90', '90s', '99', 'aaron',\n",
              "       'abandoned', 'abc', 'abilities', 'ability', 'able', 'about',\n",
              "       'above', 'absence', 'absent', 'absolute', 'absolutely', 'absurd',\n",
              "       'absurdity', 'abuse', 'abused', 'abusive', 'abysmal', 'academy',\n",
              "       'accent', 'accents', 'accept', 'acceptable', 'acceptance',\n",
              "       'accepted', 'access', 'accident', 'accidentally', 'acclaimed',\n",
              "       'accompanied', 'accomplish', 'accomplished', 'according',\n",
              "       'account', 'accounts', 'accuracy', 'accurate', 'accurately',\n",
              "       'accused', 'ace', 'achieve', 'achieved', 'achievement', 'acid',\n",
              "       'across', 'act', 'acted', 'acting', 'action', 'actions', 'active',\n",
              "       'activities', 'activity', 'actor', 'actors', 'actress',\n",
              "       'actresses', 'acts', 'actual', 'actually', 'ad', 'adam', 'adams',\n",
              "       'adaptation', 'adapted', 'add', 'added', 'addict', 'addicted',\n",
              "       'addiction', 'adding', 'addition', 'additional', 'address', 'adds',\n",
              "       'adequate', 'admirable', 'admire', 'admission', 'admit',\n",
              "       'admittedly', 'adolescent', 'adopted', 'adorable', 'adult',\n",
              "       'adults', 'advance', 'advanced', 'advantage', 'adventure',\n",
              "       'adventures', 'advertising', 'advice', 'advise', 'aesthetic',\n",
              "       'affair', 'affairs', 'affect', 'affected', 'affection', 'afford',\n",
              "       'afghanistan', 'aforementioned', 'afraid', 'africa'], dtype='<U14')"
            ]
          },
          "metadata": {
            "tags": []
          },
          "execution_count": 9
        }
      ]
    },
    {
      "metadata": {
        "id": "Vv6UVT8FOfe4",
        "colab_type": "text"
      },
      "cell_type": "markdown",
      "source": [
        "spliting the bag of words into a train valid and testset"
      ]
    },
    {
      "metadata": {
        "id": "4VW4EENZOfe5",
        "colab_type": "code",
        "colab": {}
      },
      "cell_type": "code",
      "source": [
        "X_train = X[0:5000]\n",
        "y_train = y[0:5000]\n",
        "X_val = X[5000:10000]\n",
        "y_val = y[5000:10000]\n",
        "X_test = X[10000:15000]\n",
        "y_test = y[10000:15000]"
      ],
      "execution_count": 0,
      "outputs": []
    },
    {
      "metadata": {
        "id": "l8egWs4JOfe-",
        "colab_type": "text"
      },
      "cell_type": "markdown",
      "source": [
        "the data more or less balanced"
      ]
    },
    {
      "metadata": {
        "id": "hkjuPtSGOfe_",
        "colab_type": "code",
        "outputId": "b134a655-b3d9-4301-d321-bd45514e80a9",
        "colab": {}
      },
      "cell_type": "code",
      "source": [
        "print(np.unique(y_train,return_counts=True))\n",
        "print(np.unique(y_val,return_counts=True))\n",
        "print(np.unique(y_test,return_counts=True))\n",
        "print(X_train.shape)\n",
        "print(X_val.shape)\n",
        "print(X_test.shape)"
      ],
      "execution_count": 0,
      "outputs": [
        {
          "output_type": "stream",
          "text": [
            "(array([0, 1]), array([2527, 2473]))\n",
            "(array([0, 1]), array([2467, 2533]))\n",
            "(array([0, 1]), array([2411, 2589]))\n",
            "(5000, 6000)\n",
            "(5000, 6000)\n",
            "(5000, 6000)\n"
          ],
          "name": "stdout"
        }
      ]
    },
    {
      "metadata": {
        "id": "sLT32ZjeOffF",
        "colab_type": "text"
      },
      "cell_type": "markdown",
      "source": [
        "bag of words for the first five reviews (very sparse representation), 5000 observations, with 6000 features\n"
      ]
    },
    {
      "metadata": {
        "id": "t_nrYqisOffH",
        "colab_type": "code",
        "outputId": "bdc7aa62-939c-486d-9286-e60fe96414c1",
        "colab": {}
      },
      "cell_type": "code",
      "source": [
        "print(X_train[0:5])\n",
        "print(X_train.shape)"
      ],
      "execution_count": 0,
      "outputs": [
        {
          "output_type": "stream",
          "text": [
            "[[0 0 0 ... 0 0 0]\n",
            " [0 0 0 ... 0 0 0]\n",
            " [0 0 0 ... 0 0 0]\n",
            " [0 0 2 ... 0 0 0]\n",
            " [0 0 0 ... 0 0 0]]\n",
            "(5000, 6000)\n"
          ],
          "name": "stdout"
        }
      ]
    },
    {
      "metadata": {
        "id": "OySVMPm_OffM",
        "colab_type": "text"
      },
      "cell_type": "markdown",
      "source": [
        "let's train a radomforest on the bag of words features of the train set"
      ]
    },
    {
      "metadata": {
        "id": "zqBynwKWOffQ",
        "colab_type": "code",
        "outputId": "9a41b46f-bccc-4223-f28d-ead32db5087e",
        "colab": {}
      },
      "cell_type": "code",
      "source": [
        "from sklearn.ensemble import RandomForestClassifier\n",
        "classifier = RandomForestClassifier(n_estimators=300, random_state=36)  \n",
        "classifier.fit(X_train, y_train)"
      ],
      "execution_count": 0,
      "outputs": [
        {
          "output_type": "execute_result",
          "data": {
            "text/plain": [
              "RandomForestClassifier(bootstrap=True, class_weight=None, criterion='gini',\n",
              "            max_depth=None, max_features='auto', max_leaf_nodes=None,\n",
              "            min_impurity_decrease=0.0, min_impurity_split=None,\n",
              "            min_samples_leaf=1, min_samples_split=2,\n",
              "            min_weight_fraction_leaf=0.0, n_estimators=300, n_jobs=1,\n",
              "            oob_score=False, random_state=36, verbose=0, warm_start=False)"
            ]
          },
          "metadata": {
            "tags": []
          },
          "execution_count": 13
        }
      ]
    },
    {
      "metadata": {
        "id": "odquYZ9rOffY",
        "colab_type": "text"
      },
      "cell_type": "markdown",
      "source": [
        "prediction on the test set with the accuracy and the confusion matrix"
      ]
    },
    {
      "metadata": {
        "id": "bp5ZBTfpOffZ",
        "colab_type": "code",
        "outputId": "ad31a333-33a1-45e0-b0a9-8cb4e15a62dc",
        "colab": {}
      },
      "cell_type": "code",
      "source": [
        "y_pred = classifier.predict(X_test)  \n",
        "print(pd.crosstab(y_test, y_pred,rownames=['true'], colnames=['pred']))\n",
        "print(\"Acc = \",np.sum(y_test==y_pred)/len(y_test))"
      ],
      "execution_count": 0,
      "outputs": [
        {
          "output_type": "stream",
          "text": [
            "pred     0     1\n",
            "true            \n",
            "0     2056   355\n",
            "1      454  2135\n",
            "Acc =  0.8382\n"
          ],
          "name": "stdout"
        }
      ]
    },
    {
      "metadata": {
        "id": "DSu20wPwOffe",
        "colab_type": "text"
      },
      "cell_type": "markdown",
      "source": [
        "## Neural network with wordembedding"
      ]
    },
    {
      "metadata": {
        "id": "3HMe0a0GOffg",
        "colab_type": "code",
        "colab": {}
      },
      "cell_type": "code",
      "source": [
        "X_train = documents[0:5000]\n",
        "y_train = y[0:5000]\n",
        "X_val = documents[5000:10000]\n",
        "y_val = y[5000:10000]\n",
        "X_test = documents[10000:15000]\n",
        "y_test = y[10000:15000]"
      ],
      "execution_count": 0,
      "outputs": []
    },
    {
      "metadata": {
        "id": "7sEMGLVWOffj",
        "colab_type": "code",
        "outputId": "8fb2a111-0f6e-4440-dc6b-fe4ef1597164",
        "colab": {}
      },
      "cell_type": "code",
      "source": [
        "X_train[0]"
      ],
      "execution_count": 0,
      "outputs": [
        {
          "output_type": "execute_result",
          "data": {
            "text/plain": [
              "'this is not new film it is re cut of 1994 emmanuelle queen of the galaxy and it has been significantly truncated warning many characters appear in the credits that have been cut from the movie if you want to see this one in its original form pick up queen avoid this one at all costs as the cuts make it even choppier than it was originally '"
            ]
          },
          "metadata": {
            "tags": []
          },
          "execution_count": 16
        }
      ]
    },
    {
      "metadata": {
        "id": "dXv7H2cgOffm",
        "colab_type": "text"
      },
      "cell_type": "markdown",
      "source": [
        "In the next cell we tokenize all unique words in the reviews and transform them into a sequence of the corresponding integer number of the token that belongs to the word. For example we cound transform \"the\" into the number 7. Then we take the length of the longest review and we zeropad all other reviews to that length of the longest review, so all reviews have the same length. "
      ]
    },
    {
      "metadata": {
        "id": "G35l_6qjOffo",
        "colab_type": "code",
        "outputId": "6898f854-ba9a-48fc-8b6a-e577152f7652",
        "colab": {}
      },
      "cell_type": "code",
      "source": [
        "from keras.preprocessing.text import Tokenizer\n",
        "from keras.preprocessing.sequence import pad_sequences\n",
        "\n",
        "# fit tokenizer on all reviews\n",
        "total_reviews = documents\n",
        "tokenizer = Tokenizer()\n",
        "tokenizer.fit_on_texts(total_reviews) \n",
        "\n",
        "\n",
        "# transform tokens to a sequence of integers\n",
        "X_train_tokens =  tokenizer.texts_to_sequences(X_train)\n",
        "X_val_tokens = tokenizer.texts_to_sequences(X_val)\n",
        "X_test_tokens = tokenizer.texts_to_sequences(X_test)\n",
        "\n",
        "# max length of all reviews\n",
        "max_length = max([len(s.split()) for s in total_reviews])\n",
        "print(\"longest review:\",max_length,\"words\")\n",
        "\n",
        "# define vocabulary size (unique words in all reviews)\n",
        "vocab_size = len(tokenizer.word_index) + 1\n",
        "print(\"number of unique words/tokens:\",vocab_size)\n",
        "\n",
        "\n",
        "# zeropad the sequences to have the \"same\" length \n",
        "X_train_pad = pad_sequences(X_train_tokens, maxlen=max_length, padding='post')\n",
        "X_val_pad = pad_sequences(X_val_tokens, maxlen=max_length, padding='post')\n",
        "X_test_pad = pad_sequences(X_test_tokens, maxlen=max_length, padding='post')"
      ],
      "execution_count": 0,
      "outputs": [
        {
          "output_type": "stream",
          "text": [
            "/usr/local/lib/python3.5/dist-packages/h5py/__init__.py:36: FutureWarning: Conversion of the second argument of issubdtype from `float` to `np.floating` is deprecated. In future, it will be treated as `np.float64 == np.dtype(float).type`.\n",
            "  from ._conv import register_converters as _register_converters\n",
            "Using TensorFlow backend.\n"
          ],
          "name": "stderr"
        },
        {
          "output_type": "stream",
          "text": [
            "longest review: 2381 words\n",
            "number of unique words/tokens: 62297\n"
          ],
          "name": "stdout"
        }
      ]
    },
    {
      "metadata": {
        "id": "ib7farhIOffv",
        "colab_type": "text"
      },
      "cell_type": "markdown",
      "source": [
        "this is how our input for the neural network will look like, just a sequence of integer numbers"
      ]
    },
    {
      "metadata": {
        "id": "H9CRiTztOffw",
        "colab_type": "code",
        "outputId": "0a4d84cd-2008-4e2c-ea3a-341a2083e5ca",
        "colab": {}
      },
      "cell_type": "code",
      "source": [
        "X_train_pad[0]"
      ],
      "execution_count": 0,
      "outputs": [
        {
          "output_type": "execute_result",
          "data": {
            "text/plain": [
              "array([ 8,  5, 19, ...,  0,  0,  0], dtype=int32)"
            ]
          },
          "metadata": {
            "tags": []
          },
          "execution_count": 18
        }
      ]
    },
    {
      "metadata": {
        "id": "qPiIV1SMOff2",
        "colab_type": "text"
      },
      "cell_type": "markdown",
      "source": [
        "all unique tokens with the corresponding number"
      ]
    },
    {
      "metadata": {
        "id": "3fskOK_MOff3",
        "colab_type": "code",
        "colab": {}
      },
      "cell_type": "code",
      "source": [
        "#print(tokenizer.word_index)"
      ],
      "execution_count": 0,
      "outputs": []
    },
    {
      "metadata": {
        "id": "qx-QPpLjOff7",
        "colab_type": "text"
      },
      "cell_type": "markdown",
      "source": [
        "definition of the network with an embedding layer in the input that maps the numbers (words) into vectors of the same size.\n",
        "architecture inspired by: https://www.tensorflow.org/tutorials/keras/basic_text_classification\n"
      ]
    },
    {
      "metadata": {
        "id": "pCNxC8sZOff8",
        "colab_type": "code",
        "outputId": "a0cb4689-cefd-48d5-fd11-c6756d76516e",
        "colab": {}
      },
      "cell_type": "code",
      "source": [
        "from keras.models import Sequential\n",
        "from keras.layers import Dense, Embedding,GlobalAveragePooling1D,Dropout\n",
        "\n",
        "EMBEDDING_DIM = 30\n",
        "\n",
        "model = Sequential()\n",
        "model.add(Embedding(vocab_size, EMBEDDING_DIM, input_length=(None)))\n",
        "model.add(GlobalAveragePooling1D())\n",
        "model.add(Dropout(0.5))\n",
        "model.add(Dense(20, activation='relu'))\n",
        "model.add(Dropout(0.5))\n",
        "model.add(Dense(1, activation='sigmoid'))\n",
        "model.compile(loss='binary_crossentropy', optimizer='adam', metrics=['accuracy'])\n",
        "\n",
        "model.summary()"
      ],
      "execution_count": 0,
      "outputs": [
        {
          "output_type": "stream",
          "text": [
            "_________________________________________________________________\n",
            "Layer (type)                 Output Shape              Param #   \n",
            "=================================================================\n",
            "embedding_1 (Embedding)      (None, None, 30)          1868910   \n",
            "_________________________________________________________________\n",
            "global_average_pooling1d_1 ( (None, 30)                0         \n",
            "_________________________________________________________________\n",
            "dropout_1 (Dropout)          (None, 30)                0         \n",
            "_________________________________________________________________\n",
            "dense_1 (Dense)              (None, 20)                620       \n",
            "_________________________________________________________________\n",
            "dropout_2 (Dropout)          (None, 20)                0         \n",
            "_________________________________________________________________\n",
            "dense_2 (Dense)              (None, 1)                 21        \n",
            "=================================================================\n",
            "Total params: 1,869,551\n",
            "Trainable params: 1,869,551\n",
            "Non-trainable params: 0\n",
            "_________________________________________________________________\n"
          ],
          "name": "stdout"
        }
      ]
    },
    {
      "metadata": {
        "id": "Z1WITi5IOfgA",
        "colab_type": "code",
        "outputId": "fb49413f-83c0-46f6-e821-00656e8729ff",
        "colab": {}
      },
      "cell_type": "code",
      "source": [
        "history=model.fit(X_train_pad, y_train, batch_size=64, epochs=40, validation_data=(X_val_pad, y_val), verbose=1)"
      ],
      "execution_count": 0,
      "outputs": [
        {
          "output_type": "stream",
          "text": [
            "Train on 5000 samples, validate on 5000 samples\n",
            "Epoch 1/40\n",
            "5000/5000 [==============================] - 11s 2ms/step - loss: 0.6938 - acc: 0.4950 - val_loss: 0.6932 - val_acc: 0.4934\n",
            "Epoch 2/40\n",
            "5000/5000 [==============================] - 10s 2ms/step - loss: 0.6927 - acc: 0.5190 - val_loss: 0.6931 - val_acc: 0.4934\n",
            "Epoch 3/40\n",
            "5000/5000 [==============================] - 10s 2ms/step - loss: 0.6928 - acc: 0.5118 - val_loss: 0.6928 - val_acc: 0.4934\n",
            "Epoch 4/40\n",
            "5000/5000 [==============================] - 10s 2ms/step - loss: 0.6927 - acc: 0.5110 - val_loss: 0.6925 - val_acc: 0.4942\n",
            "Epoch 5/40\n",
            "5000/5000 [==============================] - 10s 2ms/step - loss: 0.6912 - acc: 0.5396 - val_loss: 0.6914 - val_acc: 0.5440\n",
            "Epoch 6/40\n",
            "5000/5000 [==============================] - 9s 2ms/step - loss: 0.6903 - acc: 0.5310 - val_loss: 0.6905 - val_acc: 0.5002\n",
            "Epoch 7/40\n",
            "5000/5000 [==============================] - 9s 2ms/step - loss: 0.6884 - acc: 0.5522 - val_loss: 0.6884 - val_acc: 0.5060\n",
            "Epoch 8/40\n",
            "5000/5000 [==============================] - 9s 2ms/step - loss: 0.6841 - acc: 0.5760 - val_loss: 0.6817 - val_acc: 0.5826\n",
            "Epoch 9/40\n",
            "5000/5000 [==============================] - 10s 2ms/step - loss: 0.6752 - acc: 0.6200 - val_loss: 0.6705 - val_acc: 0.6886\n",
            "Epoch 10/40\n",
            "5000/5000 [==============================] - 9s 2ms/step - loss: 0.6584 - acc: 0.6636 - val_loss: 0.6482 - val_acc: 0.7778\n",
            "Epoch 11/40\n",
            "5000/5000 [==============================] - 9s 2ms/step - loss: 0.6273 - acc: 0.7158 - val_loss: 0.6168 - val_acc: 0.7370\n",
            "Epoch 12/40\n",
            "5000/5000 [==============================] - 9s 2ms/step - loss: 0.5840 - acc: 0.7456 - val_loss: 0.5734 - val_acc: 0.8002\n",
            "Epoch 13/40\n",
            "5000/5000 [==============================] - 9s 2ms/step - loss: 0.5350 - acc: 0.7748 - val_loss: 0.5303 - val_acc: 0.8128\n",
            "Epoch 14/40\n",
            "5000/5000 [==============================] - 9s 2ms/step - loss: 0.4881 - acc: 0.8022 - val_loss: 0.4907 - val_acc: 0.8178\n",
            "Epoch 15/40\n",
            "5000/5000 [==============================] - 9s 2ms/step - loss: 0.4429 - acc: 0.8332 - val_loss: 0.4770 - val_acc: 0.7906\n",
            "Epoch 16/40\n",
            "5000/5000 [==============================] - 12s 2ms/step - loss: 0.4097 - acc: 0.8414 - val_loss: 0.4289 - val_acc: 0.8410\n",
            "Epoch 17/40\n",
            "5000/5000 [==============================] - 10s 2ms/step - loss: 0.3663 - acc: 0.8636 - val_loss: 0.4049 - val_acc: 0.8434\n",
            "Epoch 18/40\n",
            "5000/5000 [==============================] - 10s 2ms/step - loss: 0.3399 - acc: 0.8802 - val_loss: 0.3845 - val_acc: 0.8546\n",
            "Epoch 19/40\n",
            "5000/5000 [==============================] - 10s 2ms/step - loss: 0.3116 - acc: 0.8916 - val_loss: 0.3692 - val_acc: 0.8574\n",
            "Epoch 20/40\n",
            "5000/5000 [==============================] - 10s 2ms/step - loss: 0.2813 - acc: 0.9066 - val_loss: 0.3556 - val_acc: 0.8604\n",
            "Epoch 21/40\n",
            "5000/5000 [==============================] - 10s 2ms/step - loss: 0.2564 - acc: 0.9148 - val_loss: 0.3451 - val_acc: 0.8612\n",
            "Epoch 22/40\n",
            "5000/5000 [==============================] - 11s 2ms/step - loss: 0.2441 - acc: 0.9166 - val_loss: 0.3419 - val_acc: 0.8616\n",
            "Epoch 23/40\n",
            "5000/5000 [==============================] - 10s 2ms/step - loss: 0.2270 - acc: 0.9258 - val_loss: 0.3580 - val_acc: 0.8482\n",
            "Epoch 24/40\n",
            "5000/5000 [==============================] - 10s 2ms/step - loss: 0.2054 - acc: 0.9344 - val_loss: 0.3290 - val_acc: 0.8678\n",
            "Epoch 25/40\n",
            "5000/5000 [==============================] - 10s 2ms/step - loss: 0.1950 - acc: 0.9412 - val_loss: 0.3508 - val_acc: 0.8522\n",
            "Epoch 26/40\n",
            "5000/5000 [==============================] - 10s 2ms/step - loss: 0.1782 - acc: 0.9438 - val_loss: 0.3221 - val_acc: 0.8682\n",
            "Epoch 27/40\n",
            "5000/5000 [==============================] - 10s 2ms/step - loss: 0.1679 - acc: 0.9470 - val_loss: 0.3211 - val_acc: 0.8668\n",
            "Epoch 28/40\n",
            "5000/5000 [==============================] - 10s 2ms/step - loss: 0.1513 - acc: 0.9576 - val_loss: 0.3214 - val_acc: 0.8694\n",
            "Epoch 29/40\n",
            "5000/5000 [==============================] - 10s 2ms/step - loss: 0.1454 - acc: 0.9560 - val_loss: 0.3290 - val_acc: 0.8666\n",
            "Epoch 30/40\n",
            "5000/5000 [==============================] - 11s 2ms/step - loss: 0.1359 - acc: 0.9594 - val_loss: 0.3259 - val_acc: 0.8692\n",
            "Epoch 31/40\n",
            "5000/5000 [==============================] - 10s 2ms/step - loss: 0.1267 - acc: 0.9640 - val_loss: 0.3238 - val_acc: 0.8682\n",
            "Epoch 32/40\n",
            "5000/5000 [==============================] - 10s 2ms/step - loss: 0.1184 - acc: 0.9668 - val_loss: 0.3829 - val_acc: 0.8424\n",
            "Epoch 33/40\n",
            "5000/5000 [==============================] - 10s 2ms/step - loss: 0.1124 - acc: 0.9682 - val_loss: 0.3575 - val_acc: 0.8578\n",
            "Epoch 34/40\n",
            "5000/5000 [==============================] - 10s 2ms/step - loss: 0.1095 - acc: 0.9676 - val_loss: 0.3300 - val_acc: 0.8698\n",
            "Epoch 35/40\n",
            "5000/5000 [==============================] - 10s 2ms/step - loss: 0.0980 - acc: 0.9738 - val_loss: 0.3318 - val_acc: 0.8702\n",
            "Epoch 36/40\n",
            "5000/5000 [==============================] - 10s 2ms/step - loss: 0.0897 - acc: 0.9778 - val_loss: 0.3391 - val_acc: 0.8680\n",
            "Epoch 37/40\n",
            "5000/5000 [==============================] - 10s 2ms/step - loss: 0.0867 - acc: 0.9768 - val_loss: 0.3497 - val_acc: 0.8676\n",
            "Epoch 38/40\n",
            "5000/5000 [==============================] - 10s 2ms/step - loss: 0.0811 - acc: 0.9800 - val_loss: 0.3465 - val_acc: 0.8672\n",
            "Epoch 39/40\n",
            "5000/5000 [==============================] - 10s 2ms/step - loss: 0.0736 - acc: 0.9838 - val_loss: 0.3489 - val_acc: 0.8688\n",
            "Epoch 40/40\n",
            "5000/5000 [==============================] - 11s 2ms/step - loss: 0.0736 - acc: 0.9804 - val_loss: 0.3634 - val_acc: 0.8684\n"
          ],
          "name": "stdout"
        }
      ]
    },
    {
      "metadata": {
        "id": "i9RaUyr5OfgE",
        "colab_type": "code",
        "outputId": "fa312782-ab88-4a04-cad4-2e05509ff935",
        "colab": {}
      },
      "cell_type": "code",
      "source": [
        "# summarize history \n",
        "plt.plot(history.history['acc'])\n",
        "plt.plot(history.history['val_acc'])\n",
        "plt.title('model accuracy')\n",
        "plt.ylabel('accuracy')\n",
        "plt.xlabel('epoch')\n",
        "plt.legend(['train', 'valid'], loc='lower right')\n",
        "plt.show()\n",
        "plt.plot(history.history['loss'])\n",
        "plt.plot(history.history['val_loss'])\n",
        "plt.title('model loss')\n",
        "plt.ylabel('loss')\n",
        "plt.xlabel('epoch')\n",
        "plt.legend(['train', 'valid'], loc='upper right')\n",
        "plt.show()"
      ],
      "execution_count": 0,
      "outputs": [
        {
          "output_type": "display_data",
          "data": {
            "image/png": "[encoded data removed]",
            "text/plain": [
              "<matplotlib.figure.Figure at 0x7f236fa7e7f0>"
            ]
          },
          "metadata": {
            "tags": []
          }
        },
        {
          "output_type": "display_data",
          "data": {
            "image/png": "[encoded data removed]",
            "text/plain": [
              "<matplotlib.figure.Figure at 0x7f236fb65fd0>"
            ]
          },
          "metadata": {
            "tags": []
          }
        }
      ]
    },
    {
      "metadata": {
        "id": "QhrS0yPLOfgI",
        "colab_type": "text"
      },
      "cell_type": "markdown",
      "source": [
        "prediction on the test set with the accuracy and the confusion matrix. Are we better than the RF baseline?"
      ]
    },
    {
      "metadata": {
        "id": "ATsMpPPwOfgJ",
        "colab_type": "code",
        "outputId": "47209f39-a5bd-40f8-8e83-fb5f3c54d823",
        "colab": {}
      },
      "cell_type": "code",
      "source": [
        "y_pred = model.predict_classes(X_test_pad)  \n",
        "y_pred=y_pred.reshape(len(y_pred))\n",
        "print(pd.crosstab(y_test, y_pred,rownames=['true'], colnames=['pred']))\n",
        "print(\"Acc = \",np.sum(y_test==y_pred)/len(y_test))"
      ],
      "execution_count": 0,
      "outputs": [
        {
          "output_type": "stream",
          "text": [
            "pred     0     1\n",
            "true            \n",
            "0     2177   234\n",
            "1      391  2198\n",
            "Acc =  0.875\n"
          ],
          "name": "stdout"
        }
      ]
    },
    {
      "metadata": {
        "id": "R_a9qkStOfgN",
        "colab_type": "text"
      },
      "cell_type": "markdown",
      "source": [
        "\n",
        "### We need to go deeper! \n",
        "Write your own review or test the model on some reviews of Inception or some other movie, note that we can use an arbitrary length for the review.  \n",
        "Visit: https://www.imdb.com/title/tt1375666/reviews?ref_=tt_ov_rt  \n",
        "remeber 0 is negative and 1 is postive"
      ]
    },
    {
      "metadata": {
        "id": "BfWmcDquOfgO",
        "colab_type": "code",
        "outputId": "fbc4e79e-c7d0-4925-90b7-046a18b1edaf",
        "colab": {}
      },
      "cell_type": "code",
      "source": [
        "#paste new reviews here in the sample list\n",
        "sample=list([\"Inception is truly one of a kind. A concept which has long gestated in Christopher Nolan's mind, his eye for drama mixed with his large scale sensibilities ring true in Blockbuster season making Inception a true original in the sea of reboots, remakes and sequels.To try and explain Inceptions many plot twists and incredibly intelligent arcs, would be a foolish task. As Nolan himself has been reluctant to. The best way to approach the film would be with an open mind, if you are prepared to be taken on a ride of a lifetime, then trust that you 100% will. If Avatar was a seminal film in technology (although coming out as a rather poor film, in my opinion), then Inception is seminal in it's storytelling. With a 148 minute running time, you would expect a lot to take place, but what you wouldn't expect is the pace of it all. I did not think at one time in the film about how long was left. I was simply blown away by the depth in every single part of the film. If my enthusiasm for the storytelling aspect of the film has left you worried about the spectacle, then don't worry. They are, as hinted in the trailer, incredible, looking real and unbelievable simultaneously. The most pleasing thing about the action set pieces, is that they are genuinely used to illustrate the story, rather than to blow stuff up a la Michael Bay. With this complex movie in it's high concept, a stellar cast is needed. And Nolan as always, delivers with just that. This is vintage DiCaprio, perhaps only equalled in The Aviator, which is even more impressive as his role as Cobb in Inception is not a showy one, needing DiCaprio to be the constant at the centre of the film. And he pulls off Cobb's emotional contradictions sublimely. The rest of the cast members all shine in parts of the films, Cillian Murphy shows off his usually non-existent tender side, Gordon-Levitt bottles his usual charm for his confidently reserved turn as the reliable Arthur, Watanabe is devilish as the seemingly ambiguous Saito, Page shows why she's the next big female star and Tom Hardy revels in being the comic relief of the film compared to his recent turns as decidedly psychopathic characters. Overall, Nolan has indeed surpassed himself. He has created a world as expansive as his Gotham, a plot dwarfing the intricacies of Memento and one which blows The Prestige's cinematic reveal out of the water. This is truly unmissable cinema. Revel in it, we've still got to wait a whole two years before Batman 3.\",\n",
        "             \"Based on reviews I was hoping this was a different American film in the sense that it will have substance, subtlety and that it will make me think. It did not, it did not and it did not again. It is your typical Hollywood flick with car chases, shooting galore, explosions, fistfights, pretty boys and girls - the whole nine yards to sell tickets to the ADHD generation of teenagers. I gave it 3 stars - instead of just 2 - because the special effects are absolutely astonishing. This film wishes to be clever but really is not and does not make a lot of sense either. It reminded me of the teachers/professors who were confusing on purpose in order to make us believe they are smarter than we were.\"])\n",
        "sample_tokens=tokenizer.texts_to_sequences(sample)\n",
        "#print(np.array(sample_tokens))\n",
        "print(model.predict(np.array(sample_tokens[0:1])))\n",
        "print(model.predict(np.array(sample_tokens[1:2])))"
      ],
      "execution_count": 0,
      "outputs": [
        {
          "output_type": "stream",
          "text": [
            "[[1.]]\n",
            "[[4.6894124e-11]]\n"
          ],
          "name": "stdout"
        }
      ]
    },
    {
      "metadata": {
        "id": "phMBGCA0OfgR",
        "colab_type": "text"
      },
      "cell_type": "markdown",
      "source": [
        "### Optional: Neural network with wordembedding (inception like) with Keras functional api  "
      ]
    },
    {
      "metadata": {
        "id": "UxlHDe18OfgS",
        "colab_type": "code",
        "outputId": "2d32fe00-9856-415b-efac-67f2d3811343",
        "colab": {}
      },
      "cell_type": "code",
      "source": [
        "from keras.models import Model\n",
        "from keras.layers import Input, Dense, Concatenate, Dropout, Embedding, Conv1D,GlobalMaxPooling1D,GlobalAveragePooling1D\n",
        "EMBEDDING_DIM = 30\n",
        "\n",
        "\n",
        "a = Input(shape=(max_length,))\n",
        "x = Embedding(vocab_size, EMBEDDING_DIM)(a)\n",
        "x1 = Conv1D(filters=50,kernel_size=(3),activation=\"relu\",padding=\"same\")(x)\n",
        "x2 = Conv1D(filters=50,kernel_size=(5),activation=\"relu\",padding=\"same\")(x)\n",
        "x3 = Conv1D(filters=50,kernel_size=(7),activation=\"relu\",padding=\"same\")(x)\n",
        "\n",
        "g1 = GlobalAveragePooling1D()(x1)\n",
        "g2 = GlobalAveragePooling1D()(x2)\n",
        "g3 = GlobalAveragePooling1D()(x3)\n",
        "conc= Concatenate()([g1,g2,g3])\n",
        "conc = Dropout(0.3)(conc)\n",
        "conc = Dense(50, activation='relu')(conc)\n",
        "conc = Dropout(0.3)(conc)\n",
        "out= Dense(1, activation='sigmoid')(conc)\n",
        "model = Model(inputs=a, outputs=out)\n",
        "model.compile(loss='binary_crossentropy', optimizer='adam', metrics=['accuracy'])\n",
        "model.summary()"
      ],
      "execution_count": 0,
      "outputs": [
        {
          "output_type": "stream",
          "text": [
            "WARNING:tensorflow:From /usr/local/lib/python3.5/dist-packages/tensorflow/python/util/deprecation.py:497: calling conv1d (from tensorflow.python.ops.nn_ops) with data_format=NHWC is deprecated and will be removed in a future version.\n",
            "Instructions for updating:\n",
            "`NHWC` for data_format is deprecated, use `NWC` instead\n",
            "__________________________________________________________________________________________________\n",
            "Layer (type)                    Output Shape         Param #     Connected to                     \n",
            "==================================================================================================\n",
            "input_1 (InputLayer)            (None, 2381)         0                                            \n",
            "__________________________________________________________________________________________________\n",
            "embedding_2 (Embedding)         (None, 2381, 30)     1868910     input_1[0][0]                    \n",
            "__________________________________________________________________________________________________\n",
            "conv1d_1 (Conv1D)               (None, 2381, 50)     4550        embedding_2[0][0]                \n",
            "__________________________________________________________________________________________________\n",
            "conv1d_2 (Conv1D)               (None, 2381, 50)     7550        embedding_2[0][0]                \n",
            "__________________________________________________________________________________________________\n",
            "conv1d_3 (Conv1D)               (None, 2381, 50)     10550       embedding_2[0][0]                \n",
            "__________________________________________________________________________________________________\n",
            "global_average_pooling1d_2 (Glo (None, 50)           0           conv1d_1[0][0]                   \n",
            "__________________________________________________________________________________________________\n",
            "global_average_pooling1d_3 (Glo (None, 50)           0           conv1d_2[0][0]                   \n",
            "__________________________________________________________________________________________________\n",
            "global_average_pooling1d_4 (Glo (None, 50)           0           conv1d_3[0][0]                   \n",
            "__________________________________________________________________________________________________\n",
            "concatenate_1 (Concatenate)     (None, 150)          0           global_average_pooling1d_2[0][0] \n",
            "                                                                 global_average_pooling1d_3[0][0] \n",
            "                                                                 global_average_pooling1d_4[0][0] \n",
            "__________________________________________________________________________________________________\n",
            "dropout_3 (Dropout)             (None, 150)          0           concatenate_1[0][0]              \n",
            "__________________________________________________________________________________________________\n",
            "dense_3 (Dense)                 (None, 50)           7550        dropout_3[0][0]                  \n",
            "__________________________________________________________________________________________________\n",
            "dropout_4 (Dropout)             (None, 50)           0           dense_3[0][0]                    \n",
            "__________________________________________________________________________________________________\n",
            "dense_4 (Dense)                 (None, 1)            51          dropout_4[0][0]                  \n",
            "==================================================================================================\n",
            "Total params: 1,899,161\n",
            "Trainable params: 1,899,161\n",
            "Non-trainable params: 0\n",
            "__________________________________________________________________________________________________\n"
          ],
          "name": "stdout"
        }
      ]
    },
    {
      "metadata": {
        "id": "YaFMf-8EOfgW",
        "colab_type": "code",
        "outputId": "457e1edb-6ed7-4f50-947d-3eccc1b48782",
        "colab": {}
      },
      "cell_type": "code",
      "source": [
        "history=model.fit(X_train_pad, y_train, batch_size=64, epochs=10, validation_data=(X_val_pad, y_val), verbose=1)"
      ],
      "execution_count": 0,
      "outputs": [
        {
          "output_type": "stream",
          "text": [
            "Train on 5000 samples, validate on 5000 samples\n",
            "Epoch 1/10\n",
            "5000/5000 [==============================] - 134s 27ms/step - loss: 0.6932 - acc: 0.5112 - val_loss: 0.6917 - val_acc: 0.5066\n",
            "Epoch 2/10\n",
            "5000/5000 [==============================] - 134s 27ms/step - loss: 0.6681 - acc: 0.6152 - val_loss: 0.6030 - val_acc: 0.7400\n",
            "Epoch 3/10\n",
            "5000/5000 [==============================] - 136s 27ms/step - loss: 0.4087 - acc: 0.8516 - val_loss: 0.3498 - val_acc: 0.8606\n",
            "Epoch 4/10\n",
            "5000/5000 [==============================] - 131s 26ms/step - loss: 0.1911 - acc: 0.9340 - val_loss: 0.3343 - val_acc: 0.8676\n",
            "Epoch 5/10\n",
            "5000/5000 [==============================] - 137s 27ms/step - loss: 0.1122 - acc: 0.9638 - val_loss: 0.3568 - val_acc: 0.8668\n",
            "Epoch 6/10\n",
            "5000/5000 [==============================] - 135s 27ms/step - loss: 0.0660 - acc: 0.9808 - val_loss: 0.3933 - val_acc: 0.8650\n",
            "Epoch 7/10\n",
            "5000/5000 [==============================] - 134s 27ms/step - loss: 0.0432 - acc: 0.9896 - val_loss: 0.4086 - val_acc: 0.8654\n",
            "Epoch 8/10\n",
            "5000/5000 [==============================] - 133s 27ms/step - loss: 0.0259 - acc: 0.9962 - val_loss: 0.4439 - val_acc: 0.8652\n",
            "Epoch 9/10\n",
            "5000/5000 [==============================] - 133s 27ms/step - loss: 0.0177 - acc: 0.9966 - val_loss: 0.4750 - val_acc: 0.8652\n",
            "Epoch 10/10\n",
            "5000/5000 [==============================] - 132s 26ms/step - loss: 0.0137 - acc: 0.9976 - val_loss: 0.5142 - val_acc: 0.8660\n"
          ],
          "name": "stdout"
        }
      ]
    },
    {
      "metadata": {
        "id": "63SJzB8AOfgZ",
        "colab_type": "code",
        "outputId": "6e2e949a-d881-4981-b58a-7c32a4812c8e",
        "colab": {}
      },
      "cell_type": "code",
      "source": [
        "# summarize history \n",
        "plt.plot(history.history['acc'])\n",
        "plt.plot(history.history['val_acc'])\n",
        "plt.title('model accuracy')\n",
        "plt.ylabel('accuracy')\n",
        "plt.xlabel('epoch')\n",
        "plt.legend(['train', 'valid'], loc='lower right')\n",
        "plt.show()\n",
        "plt.plot(history.history['loss'])\n",
        "plt.plot(history.history['val_loss'])\n",
        "plt.title('model loss')\n",
        "plt.ylabel('loss')\n",
        "plt.xlabel('epoch')\n",
        "plt.legend(['train', 'valid'], loc='upper right')\n",
        "plt.show()"
      ],
      "execution_count": 0,
      "outputs": [
        {
          "output_type": "display_data",
          "data": {
            "image/png": "[encoded data removed]",
            "text/plain": [
              "<matplotlib.figure.Figure at 0x7f236015f4a8>"
            ]
          },
          "metadata": {
            "tags": []
          }
        },
        {
          "output_type": "display_data",
          "data": {
            "image/png": "[encoded data removed]",
            "text/plain": [
              "<matplotlib.figure.Figure at 0x7f236fb19160>"
            ]
          },
          "metadata": {
            "tags": []
          }
        }
      ]
    },
    {
      "metadata": {
        "id": "batRfbrgOfgc",
        "colab_type": "code",
        "outputId": "aff4d3b3-bcda-4cbe-fa8f-2f3aa7285649",
        "colab": {}
      },
      "cell_type": "code",
      "source": [
        "y_pred = model.predict(X_test_pad)  \n",
        "y_pred=np.reshape(np.round(y_pred,0),(len(y_pred)))\n",
        "print(pd.crosstab(y_test, y_pred,rownames=['true'], colnames=['pred']))\n",
        "print(\"Acc = \",np.sum(y_test==y_pred)/len(y_test))"
      ],
      "execution_count": 0,
      "outputs": [
        {
          "output_type": "stream",
          "text": [
            "pred   0.0   1.0\n",
            "true            \n",
            "0     2178   233\n",
            "1      371  2218\n",
            "Acc =  0.8792\n"
          ],
          "name": "stdout"
        }
      ]
    }
  ]
}