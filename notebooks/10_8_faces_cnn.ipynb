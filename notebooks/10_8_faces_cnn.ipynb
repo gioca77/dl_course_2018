{
 "cells": [
  {
   "cell_type": "markdown",
   "metadata": {},
   "source": [
    "## Classification on 8 celebrities\n",
    "\n",
    "In this notebook we try to classify images of : \"Miranda_Cosgrove\" \"Chris_Martin\" \"Emma_Stone\" \"Jamie_Foxx\" \"Steve_Jobs\" \"Zac_Efron\" \"Sandra_Oh\" \"Taryn_Manning\". There are 350 images of each celebrity, we use 250 for traning and 50 for validation and test."
   ]
  },
  {
   "cell_type": "code",
   "execution_count": 1,
   "metadata": {},
   "outputs": [],
   "source": [
    "#!pip3 install sklearn ##for docker users"
   ]
  },
  {
   "cell_type": "code",
   "execution_count": 2,
   "metadata": {},
   "outputs": [],
   "source": [
    "import gzip\n",
    "import numpy as np\n",
    "import matplotlib.pyplot as plt\n",
    "import matplotlib.image as imgplot\n",
    "import time\n",
    "%matplotlib inline\n",
    "import h5py"
   ]
  },
  {
   "cell_type": "markdown",
   "metadata": {},
   "source": [
    "Reading in the data, it is already prepared in a train, validation and testset. The class labels are form 0 to 7. The pixelsize of every image is 48x48 and we have 3 channels (RGB) per image. All 3 sets are balanced."
   ]
  },
  {
   "cell_type": "code",
   "execution_count": 3,
   "metadata": {},
   "outputs": [],
   "source": [
    "# Downloading the data, if it does not exist, this will take some time... (>120MB)\n",
    "import urllib\n",
    "import os\n",
    "if not os.path.isfile('8_faces_train_and_valid.hdf5'):\n",
    "    urllib.request.urlretrieve(\n",
    "    \"https://www.dropbox.com/s/dx03vk6dmbtoywn/8_faces_train_and_valid.hdf5?dl=1\",\n",
    "    \"8_faces_train_and_valid.hdf5\")"
   ]
  },
  {
   "cell_type": "code",
   "execution_count": 4,
   "metadata": {},
   "outputs": [
    {
     "name": "stdout",
     "output_type": "stream",
     "text": [
      "['X_train_8_faces', 'X_valid_8_faces', 'Y_train_8_faces', 'Y_valid_8_faces']\n",
      "(2000, 48, 48, 3)\n",
      "(2000,)\n",
      "(400, 48, 48, 3)\n",
      "(400,)\n"
     ]
    }
   ],
   "source": [
    "h5f_X = h5py.File('8_faces_train_and_valid.hdf5', 'r')\n",
    "print(list(h5f_X.keys()))\n",
    "X_train = h5f_X['X_train_8_faces']\n",
    "print(X_train.shape)\n",
    "Y_train = h5f_X['Y_train_8_faces']\n",
    "print(Y_train.shape)\n",
    "X_valid = h5f_X['X_valid_8_faces']\n",
    "print(X_valid.shape)\n",
    "Y_valid = h5f_X['Y_valid_8_faces']\n",
    "print(Y_valid.shape)"
   ]
  },
  {
   "cell_type": "code",
   "execution_count": 5,
   "metadata": {},
   "outputs": [
    {
     "data": {
      "text/plain": [
       "(array([250., 250., 250., 250., 250., 250., 250., 250.]),\n",
       " array([0.   , 0.875, 1.75 , 2.625, 3.5  , 4.375, 5.25 , 6.125, 7.   ]),\n",
       " <a list of 8 Patch objects>)"
      ]
     },
     "execution_count": 5,
     "metadata": {},
     "output_type": "execute_result"
    },
    {
     "data": {
      "image/png": "[encoded data removed]",
      "text/plain": [
       "<Figure size 432x288 with 1 Axes>"
      ]
     },
     "metadata": {
      "needs_background": "light"
     },
     "output_type": "display_data"
    }
   ],
   "source": [
    "plt.hist(Y_train,bins=8)"
   ]
  },
  {
   "cell_type": "code",
   "execution_count": 6,
   "metadata": {},
   "outputs": [
    {
     "data": {
      "text/plain": [
       "(array([50., 50., 50., 50., 50., 50., 50., 50.]),\n",
       " array([0.   , 0.875, 1.75 , 2.625, 3.5  , 4.375, 5.25 , 6.125, 7.   ]),\n",
       " <a list of 8 Patch objects>)"
      ]
     },
     "execution_count": 6,
     "metadata": {},
     "output_type": "execute_result"
    },
    {
     "data": {
      "image/png": "[encoded data removed]",
      "text/plain": [
       "<Figure size 432x288 with 1 Axes>"
      ]
     },
     "metadata": {
      "needs_background": "light"
     },
     "output_type": "display_data"
    }
   ],
   "source": [
    "plt.hist(Y_valid,bins=8)"
   ]
  },
  {
   "cell_type": "markdown",
   "metadata": {},
   "source": [
    "How hard is this task? Lets plot some random image of the trainset to get an impression of the images and of  the task. "
   ]
  },
  {
   "cell_type": "code",
   "execution_count": 7,
   "metadata": {},
   "outputs": [
    {
     "name": "stdout",
     "output_type": "stream",
     "text": [
      "6\n"
     ]
    },
    {
     "data": {
      "text/plain": [
       "<matplotlib.image.AxesImage at 0x7f98e72a3d30>"
      ]
     },
     "execution_count": 7,
     "metadata": {},
     "output_type": "execute_result"
    },
    {
     "data": {
      "image/png": "[encoded data removed]",
      "text/plain": [
       "<Figure size 432x288 with 1 Axes>"
      ]
     },
     "metadata": {
      "needs_background": "light"
     },
     "output_type": "display_data"
    }
   ],
   "source": [
    "rmd=np.random.randint(0,len(X_train))\n",
    "print(Y_train[rmd])\n",
    "plt.imshow(np.asarray(X_train[rmd],dtype=\"uint8\"))"
   ]
  },
  {
   "cell_type": "markdown",
   "metadata": {},
   "source": [
    "#### Normalization of the training and validationset."
   ]
  },
  {
   "cell_type": "code",
   "execution_count": 8,
   "metadata": {},
   "outputs": [],
   "source": [
    "X_mean = np.mean( X_train, axis = 0)\n",
    "X_std = np.std( X_train, axis = 0)\n",
    "\n",
    "X_train = (X_train - X_mean ) / (X_std + 0.0001)\n",
    "X_valid = (X_valid - X_mean ) / (X_std + 0.0001)"
   ]
  },
  {
   "cell_type": "markdown",
   "metadata": {},
   "source": [
    "Define the convertToOneHot function and convert the labels into the onehot encoding."
   ]
  },
  {
   "cell_type": "code",
   "execution_count": 9,
   "metadata": {},
   "outputs": [],
   "source": [
    "def convertToOneHot(vector, num_classes=None):\n",
    "    result = np.zeros((len(vector), num_classes), dtype='int32')\n",
    "    result[np.arange(len(vector)), vector] = 1\n",
    "    return result"
   ]
  },
  {
   "cell_type": "code",
   "execution_count": 10,
   "metadata": {},
   "outputs": [],
   "source": [
    "Y_train=convertToOneHot(Y_train,num_classes=8)\n",
    "Y_valid=convertToOneHot(Y_valid,num_classes=8)"
   ]
  },
  {
   "cell_type": "code",
   "execution_count": 11,
   "metadata": {},
   "outputs": [
    {
     "name": "stdout",
     "output_type": "stream",
     "text": [
      "[0 0 0 0 1 0 0 0]\n",
      "[0 1 0 0 0 0 0 0]\n"
     ]
    }
   ],
   "source": [
    "print(Y_train[13])\n",
    "print(Y_valid[13])"
   ]
  },
  {
   "cell_type": "markdown",
   "metadata": {},
   "source": [
    "### Define the network"
   ]
  },
  {
   "cell_type": "code",
   "execution_count": 12,
   "metadata": {},
   "outputs": [
    {
     "name": "stderr",
     "output_type": "stream",
     "text": [
      "Using TensorFlow backend.\n"
     ]
    }
   ],
   "source": [
    "import keras\n",
    "from keras.datasets import mnist\n",
    "from keras.models import Sequential\n",
    "from keras.layers import Dense, Dropout, Activation, Flatten\n",
    "from keras.layers import Convolution2D, MaxPooling2D\n",
    "from keras import backend as K\n",
    "from keras.layers.normalization import BatchNormalization"
   ]
  },
  {
   "cell_type": "code",
   "execution_count": 13,
   "metadata": {},
   "outputs": [
    {
     "name": "stdout",
     "output_type": "stream",
     "text": [
      "WARNING:tensorflow:From /usr/local/lib/python3.5/dist-packages/tensorflow/python/framework/op_def_library.py:263: colocate_with (from tensorflow.python.framework.ops) is deprecated and will be removed in a future version.\n",
      "Instructions for updating:\n",
      "Colocations handled automatically by placer.\n",
      "WARNING:tensorflow:From /usr/local/lib/python3.5/dist-packages/keras/backend/tensorflow_backend.py:3445: calling dropout (from tensorflow.python.ops.nn_ops) with keep_prob is deprecated and will be removed in a future version.\n",
      "Instructions for updating:\n",
      "Please use `rate` instead of `keep_prob`. Rate should be set to `rate = 1 - keep_prob`.\n"
     ]
    }
   ],
   "source": [
    "model = Sequential()\n",
    "name = 'cnn_8_faces'\n",
    "\n",
    "model.add(Convolution2D(15, (3, 3),padding='same',input_shape=(48,48,3)))\n",
    "#model.add(BatchNormalization())\n",
    "model.add(Activation('relu'))\n",
    "model.add(Convolution2D(15, (3,3),padding='same'))\n",
    "#model.add(BatchNormalization())\n",
    "model.add(Activation('relu'))\n",
    "model.add(MaxPooling2D(pool_size=(2,2)))\n",
    "\n",
    "model.add(Convolution2D(30, (3,3),padding='same'))\n",
    "#model.add(BatchNormalization())\n",
    "model.add(Activation('relu'))\n",
    "model.add(Convolution2D(30, (3,3),padding='same'))\n",
    "#model.add(BatchNormalization())\n",
    "model.add(Activation('relu'))\n",
    "model.add(MaxPooling2D(pool_size=(4,4)))\n",
    "\n",
    "model.add(Flatten())\n",
    "model.add(Dense(300))\n",
    "model.add(BatchNormalization())\n",
    "model.add(Activation('relu'))\n",
    "model.add(Dropout(0.5))\n",
    "\n",
    "model.add(Dense(8))\n",
    "model.add(Activation('softmax'))\n",
    "\n",
    "model.compile(loss='categorical_crossentropy',\n",
    "              optimizer='sgd',\n",
    "              metrics=['accuracy'])"
   ]
  },
  {
   "cell_type": "code",
   "execution_count": 14,
   "metadata": {},
   "outputs": [
    {
     "name": "stdout",
     "output_type": "stream",
     "text": [
      "_________________________________________________________________\n",
      "Layer (type)                 Output Shape              Param #   \n",
      "=================================================================\n",
      "conv2d_1 (Conv2D)            (None, 48, 48, 15)        420       \n",
      "_________________________________________________________________\n",
      "activation_1 (Activation)    (None, 48, 48, 15)        0         \n",
      "_________________________________________________________________\n",
      "conv2d_2 (Conv2D)            (None, 48, 48, 15)        2040      \n",
      "_________________________________________________________________\n",
      "activation_2 (Activation)    (None, 48, 48, 15)        0         \n",
      "_________________________________________________________________\n",
      "max_pooling2d_1 (MaxPooling2 (None, 24, 24, 15)        0         \n",
      "_________________________________________________________________\n",
      "conv2d_3 (Conv2D)            (None, 24, 24, 30)        4080      \n",
      "_________________________________________________________________\n",
      "activation_3 (Activation)    (None, 24, 24, 30)        0         \n",
      "_________________________________________________________________\n",
      "conv2d_4 (Conv2D)            (None, 24, 24, 30)        8130      \n",
      "_________________________________________________________________\n",
      "activation_4 (Activation)    (None, 24, 24, 30)        0         \n",
      "_________________________________________________________________\n",
      "max_pooling2d_2 (MaxPooling2 (None, 6, 6, 30)          0         \n",
      "_________________________________________________________________\n",
      "flatten_1 (Flatten)          (None, 1080)              0         \n",
      "_________________________________________________________________\n",
      "dense_1 (Dense)              (None, 300)               324300    \n",
      "_________________________________________________________________\n",
      "batch_normalization_1 (Batch (None, 300)               1200      \n",
      "_________________________________________________________________\n",
      "activation_5 (Activation)    (None, 300)               0         \n",
      "_________________________________________________________________\n",
      "dropout_1 (Dropout)          (None, 300)               0         \n",
      "_________________________________________________________________\n",
      "dense_2 (Dense)              (None, 8)                 2408      \n",
      "_________________________________________________________________\n",
      "activation_6 (Activation)    (None, 8)                 0         \n",
      "=================================================================\n",
      "Total params: 342,578\n",
      "Trainable params: 341,978\n",
      "Non-trainable params: 600\n",
      "_________________________________________________________________\n"
     ]
    }
   ],
   "source": [
    "model.summary()"
   ]
  },
  {
   "cell_type": "markdown",
   "metadata": {},
   "source": [
    "### Running a forward pass of the untrained network"
   ]
  },
  {
   "cell_type": "code",
   "execution_count": 15,
   "metadata": {},
   "outputs": [
    {
     "name": "stdout",
     "output_type": "stream",
     "text": [
      "2000/2000 [==============================] - 6s 3ms/step\n"
     ]
    },
    {
     "data": {
      "text/plain": [
       "[2.1023138103485106, 0.128]"
      ]
     },
     "execution_count": 15,
     "metadata": {},
     "output_type": "execute_result"
    }
   ],
   "source": [
    "model.evaluate(X_train,Y_train)"
   ]
  },
  {
   "cell_type": "code",
   "execution_count": 16,
   "metadata": {},
   "outputs": [],
   "source": [
    "tensorboard = keras.callbacks.TensorBoard(\n",
    "        log_dir='tensorboard/8_faces/' + name + '/', \n",
    "        write_graph=True,\n",
    "        histogram_freq=1)"
   ]
  },
  {
   "cell_type": "code",
   "execution_count": 17,
   "metadata": {},
   "outputs": [],
   "source": [
    "os.makedirs(\"Checkpoints/8_faces/model_1_cnn/\",exist_ok=True)       \n",
    "checkpointer = keras.callbacks.ModelCheckpoint( \n",
    "        filepath =  \"Checkpoints/8_faces/model_1_cnn/8_faces_cnn_\"+\"weights_epoch_{epoch:03d}-{val_loss:.2f}.hdf5\",\n",
    "        verbose = 1, \n",
    "        save_best_only = False,\n",
    "        period = 5 )"
   ]
  },
  {
   "cell_type": "markdown",
   "metadata": {},
   "source": [
    "### Training the network"
   ]
  },
  {
   "cell_type": "code",
   "execution_count": 18,
   "metadata": {
    "scrolled": false
   },
   "outputs": [
    {
     "name": "stdout",
     "output_type": "stream",
     "text": [
      "WARNING:tensorflow:From /usr/local/lib/python3.5/dist-packages/tensorflow/python/ops/math_ops.py:3066: to_int32 (from tensorflow.python.ops.math_ops) is deprecated and will be removed in a future version.\n",
      "Instructions for updating:\n",
      "Use tf.cast instead.\n",
      "Train on 2000 samples, validate on 400 samples\n",
      "Epoch 1/80\n",
      "2000/2000 [==============================] - 12s 6ms/step - loss: 2.2916 - acc: 0.1990 - val_loss: 1.9029 - val_acc: 0.3100\n",
      "Epoch 2/80\n",
      "2000/2000 [==============================] - 11s 6ms/step - loss: 1.9778 - acc: 0.3120 - val_loss: 1.7971 - val_acc: 0.3925\n",
      "Epoch 3/80\n",
      "2000/2000 [==============================] - 11s 6ms/step - loss: 1.7827 - acc: 0.3590 - val_loss: 1.9101 - val_acc: 0.3400\n",
      "Epoch 4/80\n",
      "2000/2000 [==============================] - 15s 8ms/step - loss: 1.6517 - acc: 0.4135 - val_loss: 1.5944 - val_acc: 0.4150\n",
      "Epoch 5/80\n",
      "2000/2000 [==============================] - 12s 6ms/step - loss: 1.5243 - acc: 0.4635 - val_loss: 1.6407 - val_acc: 0.4500\n",
      "\n",
      "Epoch 00005: saving model to Checkpoints/8_faces/model_1_cnn/8_faces_cnn_weights_epoch_005-1.64.hdf5\n",
      "Epoch 6/80\n",
      "2000/2000 [==============================] - 11s 6ms/step - loss: 1.4645 - acc: 0.4740 - val_loss: 1.5091 - val_acc: 0.4775\n",
      "Epoch 7/80\n",
      "2000/2000 [==============================] - 12s 6ms/step - loss: 1.4025 - acc: 0.5070 - val_loss: 1.4830 - val_acc: 0.4925\n",
      "Epoch 8/80\n",
      "2000/2000 [==============================] - 13s 6ms/step - loss: 1.3180 - acc: 0.5205 - val_loss: 1.4731 - val_acc: 0.4750\n",
      "Epoch 9/80\n",
      "2000/2000 [==============================] - 12s 6ms/step - loss: 1.2526 - acc: 0.5620 - val_loss: 1.7515 - val_acc: 0.4425\n",
      "Epoch 10/80\n",
      "2000/2000 [==============================] - 13s 6ms/step - loss: 1.2122 - acc: 0.5615 - val_loss: 1.3314 - val_acc: 0.5650\n",
      "\n",
      "Epoch 00010: saving model to Checkpoints/8_faces/model_1_cnn/8_faces_cnn_weights_epoch_010-1.33.hdf5\n",
      "Epoch 11/80\n",
      "2000/2000 [==============================] - 14s 7ms/step - loss: 1.1763 - acc: 0.5765 - val_loss: 1.6660 - val_acc: 0.4150\n",
      "Epoch 12/80\n",
      "2000/2000 [==============================] - 13s 6ms/step - loss: 1.1621 - acc: 0.5820 - val_loss: 1.2743 - val_acc: 0.5700\n",
      "Epoch 13/80\n",
      "2000/2000 [==============================] - 12s 6ms/step - loss: 1.0654 - acc: 0.6105 - val_loss: 1.3434 - val_acc: 0.5325\n",
      "Epoch 14/80\n",
      "2000/2000 [==============================] - 13s 7ms/step - loss: 1.0639 - acc: 0.6230 - val_loss: 1.2586 - val_acc: 0.5875\n",
      "Epoch 15/80\n",
      "2000/2000 [==============================] - 13s 6ms/step - loss: 0.9989 - acc: 0.6470 - val_loss: 1.3119 - val_acc: 0.5625\n",
      "\n",
      "Epoch 00015: saving model to Checkpoints/8_faces/model_1_cnn/8_faces_cnn_weights_epoch_015-1.31.hdf5\n",
      "Epoch 16/80\n",
      "2000/2000 [==============================] - 12s 6ms/step - loss: 0.9967 - acc: 0.6430 - val_loss: 1.2729 - val_acc: 0.5575\n",
      "Epoch 17/80\n",
      "2000/2000 [==============================] - 15s 7ms/step - loss: 0.9597 - acc: 0.6680 - val_loss: 1.4144 - val_acc: 0.5475\n",
      "Epoch 18/80\n",
      "2000/2000 [==============================] - 14s 7ms/step - loss: 0.9214 - acc: 0.6855 - val_loss: 1.1861 - val_acc: 0.6175\n",
      "Epoch 19/80\n",
      "2000/2000 [==============================] - 13s 7ms/step - loss: 0.9073 - acc: 0.6920 - val_loss: 1.1824 - val_acc: 0.6125\n",
      "Epoch 20/80\n",
      "2000/2000 [==============================] - 12s 6ms/step - loss: 0.8588 - acc: 0.7110 - val_loss: 1.2019 - val_acc: 0.6050\n",
      "\n",
      "Epoch 00020: saving model to Checkpoints/8_faces/model_1_cnn/8_faces_cnn_weights_epoch_020-1.20.hdf5\n",
      "Epoch 21/80\n",
      "2000/2000 [==============================] - 15s 7ms/step - loss: 0.8362 - acc: 0.7170 - val_loss: 1.4023 - val_acc: 0.5300\n",
      "Epoch 22/80\n",
      "2000/2000 [==============================] - 13s 7ms/step - loss: 0.8121 - acc: 0.7290 - val_loss: 1.3398 - val_acc: 0.5125\n",
      "Epoch 23/80\n",
      "2000/2000 [==============================] - 13s 6ms/step - loss: 0.7725 - acc: 0.7500 - val_loss: 1.3673 - val_acc: 0.5250\n",
      "Epoch 24/80\n",
      "2000/2000 [==============================] - 14s 7ms/step - loss: 0.7687 - acc: 0.7410 - val_loss: 1.1105 - val_acc: 0.6300\n",
      "Epoch 25/80\n",
      "2000/2000 [==============================] - 14s 7ms/step - loss: 0.7484 - acc: 0.7450 - val_loss: 1.1452 - val_acc: 0.6075\n",
      "\n",
      "Epoch 00025: saving model to Checkpoints/8_faces/model_1_cnn/8_faces_cnn_weights_epoch_025-1.15.hdf5\n",
      "Epoch 26/80\n",
      "2000/2000 [==============================] - 13s 7ms/step - loss: 0.7085 - acc: 0.7585 - val_loss: 1.1271 - val_acc: 0.6175\n",
      "Epoch 27/80\n",
      "2000/2000 [==============================] - 17s 8ms/step - loss: 0.6917 - acc: 0.7735 - val_loss: 1.1912 - val_acc: 0.5925\n",
      "Epoch 28/80\n",
      "2000/2000 [==============================] - 14s 7ms/step - loss: 0.6814 - acc: 0.7650 - val_loss: 1.1637 - val_acc: 0.5975\n",
      "Epoch 29/80\n",
      "2000/2000 [==============================] - 13s 6ms/step - loss: 0.6298 - acc: 0.8015 - val_loss: 1.1356 - val_acc: 0.6025\n",
      "Epoch 30/80\n",
      "2000/2000 [==============================] - 13s 7ms/step - loss: 0.6595 - acc: 0.7855 - val_loss: 1.2627 - val_acc: 0.5725\n",
      "\n",
      "Epoch 00030: saving model to Checkpoints/8_faces/model_1_cnn/8_faces_cnn_weights_epoch_030-1.26.hdf5\n",
      "Epoch 31/80\n",
      "2000/2000 [==============================] - 13s 7ms/step - loss: 0.6059 - acc: 0.8055 - val_loss: 1.2491 - val_acc: 0.5850\n",
      "Epoch 32/80\n",
      "2000/2000 [==============================] - 14s 7ms/step - loss: 0.6287 - acc: 0.7920 - val_loss: 1.1875 - val_acc: 0.5800\n",
      "Epoch 33/80\n",
      "2000/2000 [==============================] - 14s 7ms/step - loss: 0.5551 - acc: 0.8320 - val_loss: 1.3307 - val_acc: 0.5275\n",
      "Epoch 34/80\n",
      "2000/2000 [==============================] - 13s 6ms/step - loss: 0.5628 - acc: 0.8220 - val_loss: 1.0938 - val_acc: 0.6275\n",
      "Epoch 35/80\n",
      "2000/2000 [==============================] - 13s 7ms/step - loss: 0.5663 - acc: 0.8100 - val_loss: 1.1404 - val_acc: 0.6050\n",
      "\n",
      "Epoch 00035: saving model to Checkpoints/8_faces/model_1_cnn/8_faces_cnn_weights_epoch_035-1.14.hdf5\n",
      "Epoch 36/80\n",
      "2000/2000 [==============================] - 14s 7ms/step - loss: 0.5472 - acc: 0.8200 - val_loss: 1.2205 - val_acc: 0.6050\n",
      "Epoch 37/80\n",
      "2000/2000 [==============================] - 13s 6ms/step - loss: 0.5318 - acc: 0.8305 - val_loss: 1.1403 - val_acc: 0.6175\n",
      "Epoch 38/80\n",
      "2000/2000 [==============================] - 13s 6ms/step - loss: 0.4956 - acc: 0.8505 - val_loss: 1.2324 - val_acc: 0.5825\n",
      "Epoch 39/80\n",
      "2000/2000 [==============================] - 13s 6ms/step - loss: 0.4969 - acc: 0.8485 - val_loss: 1.0713 - val_acc: 0.6450\n",
      "Epoch 40/80\n",
      "2000/2000 [==============================] - 14s 7ms/step - loss: 0.4661 - acc: 0.8575 - val_loss: 1.1020 - val_acc: 0.6175\n",
      "\n",
      "Epoch 00040: saving model to Checkpoints/8_faces/model_1_cnn/8_faces_cnn_weights_epoch_040-1.10.hdf5\n",
      "Epoch 41/80\n",
      "2000/2000 [==============================] - 14s 7ms/step - loss: 0.4860 - acc: 0.8505 - val_loss: 1.1460 - val_acc: 0.6325\n",
      "Epoch 42/80\n",
      "2000/2000 [==============================] - 13s 7ms/step - loss: 0.4380 - acc: 0.8755 - val_loss: 1.2421 - val_acc: 0.5875\n",
      "Epoch 43/80\n",
      "2000/2000 [==============================] - 14s 7ms/step - loss: 0.4245 - acc: 0.8700 - val_loss: 1.2716 - val_acc: 0.5875\n",
      "Epoch 44/80\n",
      "2000/2000 [==============================] - 14s 7ms/step - loss: 0.4155 - acc: 0.8750 - val_loss: 1.0811 - val_acc: 0.6525\n",
      "Epoch 45/80\n",
      "2000/2000 [==============================] - 14s 7ms/step - loss: 0.3788 - acc: 0.8910 - val_loss: 1.2229 - val_acc: 0.5850\n",
      "\n",
      "Epoch 00045: saving model to Checkpoints/8_faces/model_1_cnn/8_faces_cnn_weights_epoch_045-1.22.hdf5\n",
      "Epoch 46/80\n",
      "2000/2000 [==============================] - 13s 7ms/step - loss: 0.4045 - acc: 0.8765 - val_loss: 1.1710 - val_acc: 0.6200\n",
      "Epoch 47/80\n",
      "2000/2000 [==============================] - 13s 6ms/step - loss: 0.3922 - acc: 0.8850 - val_loss: 1.0365 - val_acc: 0.6550\n",
      "Epoch 48/80\n",
      "2000/2000 [==============================] - 13s 7ms/step - loss: 0.3745 - acc: 0.8970 - val_loss: 1.0920 - val_acc: 0.6425\n",
      "Epoch 49/80\n",
      "2000/2000 [==============================] - 13s 7ms/step - loss: 0.3570 - acc: 0.8965 - val_loss: 1.0445 - val_acc: 0.6525\n",
      "Epoch 50/80\n",
      "2000/2000 [==============================] - 14s 7ms/step - loss: 0.3561 - acc: 0.8965 - val_loss: 1.0417 - val_acc: 0.6600\n",
      "\n",
      "Epoch 00050: saving model to Checkpoints/8_faces/model_1_cnn/8_faces_cnn_weights_epoch_050-1.04.hdf5\n",
      "Epoch 51/80\n",
      "2000/2000 [==============================] - 15s 7ms/step - loss: 0.3447 - acc: 0.8970 - val_loss: 1.0740 - val_acc: 0.6400\n",
      "Epoch 52/80\n",
      "2000/2000 [==============================] - 14s 7ms/step - loss: 0.3334 - acc: 0.9020 - val_loss: 1.0818 - val_acc: 0.6450\n",
      "Epoch 53/80\n",
      "2000/2000 [==============================] - 14s 7ms/step - loss: 0.3379 - acc: 0.9065 - val_loss: 1.2694 - val_acc: 0.5625\n",
      "Epoch 54/80\n",
      "2000/2000 [==============================] - 13s 7ms/step - loss: 0.3252 - acc: 0.9135 - val_loss: 1.1640 - val_acc: 0.6400\n",
      "Epoch 55/80\n",
      "2000/2000 [==============================] - 13s 6ms/step - loss: 0.3159 - acc: 0.9190 - val_loss: 1.1730 - val_acc: 0.6125\n",
      "\n",
      "Epoch 00055: saving model to Checkpoints/8_faces/model_1_cnn/8_faces_cnn_weights_epoch_055-1.17.hdf5\n",
      "Epoch 56/80\n",
      "2000/2000 [==============================] - 17s 9ms/step - loss: 0.3058 - acc: 0.9200 - val_loss: 1.1708 - val_acc: 0.6500\n",
      "Epoch 57/80\n",
      "2000/2000 [==============================] - 13s 7ms/step - loss: 0.3050 - acc: 0.9140 - val_loss: 1.0334 - val_acc: 0.6525\n",
      "Epoch 58/80\n",
      "2000/2000 [==============================] - 13s 7ms/step - loss: 0.2838 - acc: 0.9310 - val_loss: 1.0902 - val_acc: 0.6500\n",
      "Epoch 59/80\n",
      "2000/2000 [==============================] - 23s 12ms/step - loss: 0.2771 - acc: 0.9270 - val_loss: 1.0424 - val_acc: 0.6625\n",
      "Epoch 60/80\n",
      "2000/2000 [==============================] - 16s 8ms/step - loss: 0.2699 - acc: 0.9355 - val_loss: 1.1902 - val_acc: 0.6450\n",
      "\n",
      "Epoch 00060: saving model to Checkpoints/8_faces/model_1_cnn/8_faces_cnn_weights_epoch_060-1.19.hdf5\n",
      "Epoch 61/80\n",
      "2000/2000 [==============================] - 19s 10ms/step - loss: 0.2861 - acc: 0.9230 - val_loss: 1.2724 - val_acc: 0.6000\n",
      "Epoch 62/80\n",
      "2000/2000 [==============================] - 19s 9ms/step - loss: 0.2839 - acc: 0.9175 - val_loss: 1.1036 - val_acc: 0.6400\n",
      "Epoch 63/80\n",
      "2000/2000 [==============================] - 13s 7ms/step - loss: 0.2496 - acc: 0.9395 - val_loss: 1.1209 - val_acc: 0.6175\n",
      "Epoch 64/80\n",
      "2000/2000 [==============================] - 14s 7ms/step - loss: 0.2536 - acc: 0.9380 - val_loss: 1.0944 - val_acc: 0.6600\n",
      "Epoch 65/80\n",
      "2000/2000 [==============================] - 14s 7ms/step - loss: 0.2283 - acc: 0.9430 - val_loss: 1.2675 - val_acc: 0.6100\n",
      "\n",
      "Epoch 00065: saving model to Checkpoints/8_faces/model_1_cnn/8_faces_cnn_weights_epoch_065-1.27.hdf5\n",
      "Epoch 66/80\n",
      "2000/2000 [==============================] - 14s 7ms/step - loss: 0.2319 - acc: 0.9400 - val_loss: 1.0754 - val_acc: 0.6600\n",
      "Epoch 67/80\n",
      "2000/2000 [==============================] - 14s 7ms/step - loss: 0.2297 - acc: 0.9455 - val_loss: 1.0612 - val_acc: 0.6575\n",
      "Epoch 68/80\n",
      "2000/2000 [==============================] - 13s 7ms/step - loss: 0.2162 - acc: 0.9540 - val_loss: 1.1117 - val_acc: 0.6500\n",
      "Epoch 69/80\n",
      "2000/2000 [==============================] - 13s 7ms/step - loss: 0.2330 - acc: 0.9440 - val_loss: 2.0221 - val_acc: 0.5050\n",
      "Epoch 70/80\n",
      "2000/2000 [==============================] - 13s 7ms/step - loss: 0.2403 - acc: 0.9405 - val_loss: 1.1070 - val_acc: 0.6475\n",
      "\n",
      "Epoch 00070: saving model to Checkpoints/8_faces/model_1_cnn/8_faces_cnn_weights_epoch_070-1.11.hdf5\n",
      "Epoch 71/80\n",
      "2000/2000 [==============================] - 14s 7ms/step - loss: 0.2025 - acc: 0.9505 - val_loss: 1.1897 - val_acc: 0.6175\n",
      "Epoch 72/80\n",
      "2000/2000 [==============================] - 15s 7ms/step - loss: 0.1905 - acc: 0.9540 - val_loss: 1.1836 - val_acc: 0.6450\n",
      "Epoch 73/80\n",
      "2000/2000 [==============================] - 13s 6ms/step - loss: 0.1966 - acc: 0.9520 - val_loss: 1.1575 - val_acc: 0.6350\n",
      "Epoch 74/80\n",
      "2000/2000 [==============================] - 13s 7ms/step - loss: 0.1862 - acc: 0.9650 - val_loss: 1.1850 - val_acc: 0.6400\n",
      "Epoch 75/80\n",
      "2000/2000 [==============================] - 13s 6ms/step - loss: 0.1926 - acc: 0.9620 - val_loss: 1.1615 - val_acc: 0.6400\n",
      "\n",
      "Epoch 00075: saving model to Checkpoints/8_faces/model_1_cnn/8_faces_cnn_weights_epoch_075-1.16.hdf5\n",
      "Epoch 76/80\n",
      "2000/2000 [==============================] - 13s 6ms/step - loss: 0.1957 - acc: 0.9530 - val_loss: 1.1747 - val_acc: 0.6250\n",
      "Epoch 77/80\n",
      "2000/2000 [==============================] - 12s 6ms/step - loss: 0.1738 - acc: 0.9625 - val_loss: 1.0543 - val_acc: 0.6650\n",
      "Epoch 78/80\n",
      "2000/2000 [==============================] - 12s 6ms/step - loss: 0.1631 - acc: 0.9690 - val_loss: 1.1220 - val_acc: 0.6600\n",
      "Epoch 79/80\n",
      "2000/2000 [==============================] - 13s 6ms/step - loss: 0.1791 - acc: 0.9630 - val_loss: 1.0771 - val_acc: 0.6675\n",
      "Epoch 80/80\n",
      "2000/2000 [==============================] - 13s 7ms/step - loss: 0.1731 - acc: 0.9585 - val_loss: 1.2026 - val_acc: 0.6350\n",
      "\n",
      "Epoch 00080: saving model to Checkpoints/8_faces/model_1_cnn/8_faces_cnn_weights_epoch_080-1.20.hdf5\n"
     ]
    }
   ],
   "source": [
    "history=model.fit(X_train, Y_train, \n",
    "                  batch_size=64, \n",
    "                  epochs=80,\n",
    "                  verbose=1,\n",
    "                  shuffle=True,\n",
    "                  validation_data=(X_valid, Y_valid),\n",
    "                  callbacks=[tensorboard,checkpointer])"
   ]
  },
  {
   "cell_type": "code",
   "execution_count": 19,
   "metadata": {},
   "outputs": [
    {
     "data": {
      "image/png": "[encoded data removed]",
      "text/plain": [
       "<Figure size 432x288 with 1 Axes>"
      ]
     },
     "metadata": {
      "needs_background": "light"
     },
     "output_type": "display_data"
    },
    {
     "data": {
      "image/png": "[encoded data removed]",
      "text/plain": [
       "<Figure size 432x288 with 1 Axes>"
      ]
     },
     "metadata": {
      "needs_background": "light"
     },
     "output_type": "display_data"
    }
   ],
   "source": [
    "# summarize history for accuracy\n",
    "plt.plot(history.history['acc'])\n",
    "plt.plot(history.history['val_acc'])\n",
    "plt.title('model accuracy')\n",
    "plt.ylabel('accuracy')\n",
    "plt.xlabel('epoch')\n",
    "plt.legend(['train', 'valid'], loc='lower right')\n",
    "plt.show()\n",
    "plt.plot(history.history['loss'])\n",
    "plt.plot(history.history['val_loss'])\n",
    "plt.title('model loss')\n",
    "plt.ylabel('loss')\n",
    "plt.xlabel('epoch')\n",
    "plt.legend(['train', 'valid'], loc='upper right')\n",
    "plt.show()"
   ]
  },
  {
   "cell_type": "markdown",
   "metadata": {},
   "source": [
    "### Evaluation of the trained network"
   ]
  },
  {
   "cell_type": "code",
   "execution_count": 20,
   "metadata": {},
   "outputs": [],
   "source": [
    "#load a saved model\n",
    "from keras.models import load_model\n",
    "model = load_model(\"Checkpoints/8_faces/model_1_cnn/8_faces_cnn_weights_epoch_050-1.04.hdf5\")"
   ]
  },
  {
   "cell_type": "code",
   "execution_count": 21,
   "metadata": {},
   "outputs": [],
   "source": [
    "preds=model.predict(X_valid)"
   ]
  },
  {
   "cell_type": "code",
   "execution_count": 22,
   "metadata": {},
   "outputs": [
    {
     "name": "stdout",
     "output_type": "stream",
     "text": [
      "[[39  1  1  3  2  0  3  1]\n",
      " [ 2 28  0  9  1  7  1  2]\n",
      " [ 3  4 31  3  0  2  0  7]\n",
      " [ 0  7  1 38  1  1  1  1]\n",
      " [ 0  8  0  0 40  0  0  2]\n",
      " [ 0  9  0  4  0 33  2  2]\n",
      " [11  3  0  3  4  2 25  2]\n",
      " [ 2  6  3  4  3  2  0 30]]\n",
      "Acc =  0.66\n"
     ]
    }
   ],
   "source": [
    "from sklearn.metrics import confusion_matrix\n",
    "print(confusion_matrix(np.argmax(Y_valid,axis=1),np.argmax(preds,axis=1)))\n",
    "print(\"Acc = \" ,np.sum(np.argmax(Y_valid,axis=1)==np.argmax(preds,axis=1))/len(preds))"
   ]
  },
  {
   "cell_type": "markdown",
   "metadata": {},
   "source": [
    "### Evaluation on the test set"
   ]
  },
  {
   "cell_type": "code",
   "execution_count": 23,
   "metadata": {},
   "outputs": [],
   "source": [
    "# Downloading the data, if it does not exist\n",
    "if not os.path.isfile('8_faces_test.hdf5'):\n",
    "    urllib.request.urlretrieve(\n",
    "    \"https://www.dropbox.com/s/ugxrdo0lpc2ixvr/8_faces_test.hdf5?dl=1\",\n",
    "    \"8_faces_test.hdf5\")"
   ]
  },
  {
   "cell_type": "code",
   "execution_count": 24,
   "metadata": {},
   "outputs": [
    {
     "name": "stdout",
     "output_type": "stream",
     "text": [
      "['X_test_8_faces', 'Y_test_8_faces']\n",
      "(400, 48, 48, 3)\n",
      "(400,)\n"
     ]
    }
   ],
   "source": [
    "h5f_X = h5py.File('8_faces_test.hdf5', 'r')\n",
    "print(list(h5f_X.keys()))\n",
    "X_test = h5f_X['X_test_8_faces']\n",
    "print(X_test.shape)\n",
    "Y_test = h5f_X['Y_test_8_faces']\n",
    "print(Y_test.shape)"
   ]
  },
  {
   "cell_type": "code",
   "execution_count": 25,
   "metadata": {},
   "outputs": [],
   "source": [
    "X_test = (X_test - X_mean ) / (X_std + 0.0001)"
   ]
  },
  {
   "cell_type": "code",
   "execution_count": 26,
   "metadata": {},
   "outputs": [],
   "source": [
    "preds_test=model.predict(X_test)"
   ]
  },
  {
   "cell_type": "code",
   "execution_count": 27,
   "metadata": {},
   "outputs": [
    {
     "name": "stdout",
     "output_type": "stream",
     "text": [
      "[[39  2  1  2  0  1  4  1]\n",
      " [ 0 26  3  4  6  5  4  2]\n",
      " [ 2  2 34  2  1  2  1  6]\n",
      " [ 2  5  1 35  0  4  1  2]\n",
      " [ 0  3  0  2 43  1  0  1]\n",
      " [ 0  8  1  2  0 31  4  4]\n",
      " [ 6  3  1  2  1  1 33  3]\n",
      " [ 2  7  6  1  2  4  2 26]]\n",
      "Acc =  0.6675\n"
     ]
    }
   ],
   "source": [
    "print(confusion_matrix(Y_test[:],np.argmax(preds_test,axis=1)))\n",
    "print(\"Acc = \" ,np.sum(Y_test[:]==np.argmax(preds_test,axis=1))/len(preds_test))"
   ]
  },
  {
   "cell_type": "code",
   "execution_count": null,
   "metadata": {},
   "outputs": [],
   "source": []
  }
 ],
 "metadata": {
  "kernelspec": {
   "display_name": "Python 3",
   "language": "python",
   "name": "python3"
  },
  "language_info": {
   "codemirror_mode": {
    "name": "ipython",
    "version": 3
   },
   "file_extension": ".py",
   "mimetype": "text/x-python",
   "name": "python",
   "nbconvert_exporter": "python",
   "pygments_lexer": "ipython3",
   "version": "3.5.2"
  }
 },
 "nbformat": 4,
 "nbformat_minor": 1
}
