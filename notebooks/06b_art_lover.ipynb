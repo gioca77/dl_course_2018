{
  "nbformat": 4,
  "nbformat_minor": 0,
  "metadata": {
    "colab": {
      "name": "Copy of nb_ch02_03.ipynb",
      "version": "0.3.2",
      "provenance": [],
      "collapsed_sections": []
    },
    "kernelspec": {
      "name": "python3",
      "display_name": "Python 3"
    },
    "accelerator": "GPU"
  },
  "cells": [
    {
      "metadata": {
        "id": "4K8Ug6ICkRtQ",
        "colab_type": "text"
      },
      "cell_type": "markdown",
      "source": [
        "# A simple CNN for the edge lover task\n",
        "\n",
        "**Goal:** In this notebook you train a very simple CNN with only 1 kernel to discriminate images containing vertical from those containing horizontal stripes. To check what pattern is recognized by the learned kernel you will visualize the weights of the kernel as an image. You will see that the CNN leans a useful kernel (either a vertical or horiziontal bar).You can experiment with the code to check the influence of the kernel size, the activation function and the pooling method on the result.  \n",
        "\n",
        "**Usage:** The idea of the notebook is that you try to understand the provided code by running it, checking the output and playing with it by slightly changing the code and rerunning it.  \n",
        "\n",
        "**Dataset:** You work with an artficially generatet dataset of greyscale images (50x50 pixel) with 10 vertical or horizontal bars. We want to classify them into whether or not an art lover will like them(0 or 1).  \n",
        "\n",
        "**Content:**\n",
        "* definig and generating the dataset X_train and X_val\n",
        "* visualize samples of the generated images\n",
        "* use keras to train a CNN with only one kernel (5x5 pixel)\n",
        "* visualize the weights of the leaned kernel and interpret if it is useful\n",
        "* repeat the last two steps to check if the learned kernel is always the same\n",
        "\n",
        "\n",
        "| [open in colab](https://colab.research.google.com/github/tensorchiefs/dl_book/blob/master/chapter_02/nb_ch02_03.ipynb)\n"
      ]
    },
    {
      "metadata": {
        "id": "eiB8bJNYn8oP",
        "colab_type": "text"
      },
      "cell_type": "markdown",
      "source": [
        "#### Imports and image generator functions\n",
        "\n",
        "In the next two cells, we load all the required libraries and functions. We define two functions to generate images with vertical and horizontal images. "
      ]
    },
    {
      "metadata": {
        "id": "2PDLAWRQ7iUB",
        "colab_type": "code",
        "colab": {
          "base_uri": "https://localhost:8080/",
          "height": 35
        },
        "outputId": "c279a2da-5329-4f4b-f7a6-8c0cca52ab28"
      },
      "cell_type": "code",
      "source": [
        "# load required libraries:\n",
        "import numpy as np\n",
        "import matplotlib.pyplot as plt\n",
        "%matplotlib inline\n",
        "plt.style.use('default')\n",
        "\n",
        "import keras \n",
        "from keras.models import Sequential\n",
        "from keras.layers import Dense, Convolution2D, MaxPooling2D, Flatten , Activation\n",
        "from keras.utils import to_categorical "
      ],
      "execution_count": 1,
      "outputs": [
        {
          "output_type": "stream",
          "text": [
            "Using TensorFlow backend.\n"
          ],
          "name": "stderr"
        }
      ]
    },
    {
      "metadata": {
        "id": "Oq0FNqcBpj23",
        "colab_type": "text"
      },
      "cell_type": "markdown",
      "source": [
        "### Defining functions to generate images \n",
        "\n",
        "Here we define the function to genere images with vertical and horizontal bars, the arguments of the functions are the size of the image and the nr of bars you want to have. The bars are at random positions in the image with a random length. The image is black and white, meaning we have only two values for the pixels, 0 for black and 255 for white."
      ]
    },
    {
      "metadata": {
        "id": "nqVBlR8yAO9c",
        "colab_type": "code",
        "colab": {}
      },
      "cell_type": "code",
      "source": [
        "#define function to generate image with shape (size, size, 1) with stripes\n",
        "def generate_image_with_bars(size, bar_nr, vertical = True):\n",
        "  img=np.zeros((size,size,1),dtype=\"uint8\")\n",
        "  for i in range(0,bar_nr):\n",
        "    x,y = np.random.randint(0,size,2)\n",
        "    l  = np.int(np.random.randint(y,size,1))\n",
        "    if (vertical):\n",
        "      img[y:l,x,0]=255\n",
        "    else:\n",
        "      img[x,y:l,0]=255\n",
        "  return img  "
      ],
      "execution_count": 0,
      "outputs": []
    },
    {
      "metadata": {
        "id": "bUmdGzQLdqzB",
        "colab_type": "text"
      },
      "cell_type": "markdown",
      "source": [
        "Lets have a look how the generated images. We choose a size of 50x50 pixels and set the nr of bars in the image to 10. "
      ]
    },
    {
      "metadata": {
        "id": "EccLz0FlXGuU",
        "colab_type": "code",
        "outputId": "afebe4de-c0ae-444b-cdc9-31364d656b9d",
        "colab": {
          "base_uri": "https://localhost:8080/",
          "height": 364
        }
      },
      "cell_type": "code",
      "source": [
        "# have a look on two generated images\n",
        "plt.figure(figsize=(8,8))\n",
        "plt.subplot(1,2,1)\n",
        "img=generate_image_with_bars(50,10, vertical=True)\n",
        "plt.imshow(img[:,:,0],cmap='gray')\n",
        "plt.subplot(1,2,2)\n",
        "img=generate_image_with_bars(50,10, vertical=False)\n",
        "plt.imshow(img[:,:,0],cmap='gray')"
      ],
      "execution_count": 3,
      "outputs": [
        {
          "output_type": "execute_result",
          "data": {
            "text/plain": [
              "<matplotlib.image.AxesImage at 0x7f8ebd6cf198>"
            ]
          },
          "metadata": {
            "tags": []
          },
          "execution_count": 3
        },
        {
          "output_type": "display_data",
          "data": {
            "image/png": "[encoded data removed]",
            "text/plain": [
              "<Figure size 800x800 with 2 Axes>"
            ]
          },
          "metadata": {
            "tags": []
          }
        }
      ]
    },
    {
      "metadata": {
        "id": "Y8gSwmyaevTk",
        "colab_type": "text"
      },
      "cell_type": "markdown",
      "source": [
        "### Make a train and validation dataset of images with vertical and horizontal images\n",
        "Now lets make a train dataset *X_train* with 2000 images (1000 images with vertical and 1000 images with horizontal bars). We normalize the images values to be between 0 and 1 by dividing all values with 255. We create a secont dataste *X_val* with exactly the same properties to validate the training of the CNN."
      ]
    },
    {
      "metadata": {
        "id": "63omuptEILKu",
        "colab_type": "code",
        "outputId": "0033ea72-d4f1-468b-8bac-d6eabc4bd633",
        "colab": {
          "base_uri": "https://localhost:8080/",
          "height": 52
        }
      },
      "cell_type": "code",
      "source": [
        "pixel=50  # define height and width of images\n",
        "num_images_train = 1000 #Number of training examples (diviable by 2) \n",
        "num_images_val = 1000 #Number of training examples (diviable by 2) \n",
        "\n",
        "# generate training data with vertical edges\n",
        "X_train =np.zeros((num_images_train,pixel,pixel,1))\n",
        "for i in range(0, num_images_train//2): #// python 3 sucks!\n",
        "   X_train[i]=generate_image_with_bars(pixel,10)\n",
        "# ... with horizontal\n",
        "for i in range(num_images_train//2, num_images_train):\n",
        "   X_train[i]=generate_image_with_bars(pixel,10, vertical=False)\n",
        "\n",
        "# generate validation data \n",
        "X_val =np.zeros((num_images_train,pixel,pixel,1))\n",
        "for i in range(0, num_images_train//2): \n",
        "   X_val[i]=generate_image_with_bars(pixel,10)\n",
        "# ... with horizontal\n",
        "for i in range(num_images_train//2, num_images_train):\n",
        "   X_val[i]=generate_image_with_bars(pixel,10, vertical=False)\n",
        "\n",
        "\n",
        "# normalize the data to be between 0 and 1\n",
        "X_train=X_train/255\n",
        "X_val=X_val/255\n",
        "\n",
        "print(X_train.shape)\n",
        "print(X_val.shape)"
      ],
      "execution_count": 4,
      "outputs": [
        {
          "output_type": "stream",
          "text": [
            "(1000, 50, 50, 1)\n",
            "(1000, 50, 50, 1)\n"
          ],
          "name": "stdout"
        }
      ]
    },
    {
      "metadata": {
        "id": "ajNnUoYyi7IQ",
        "colab_type": "text"
      },
      "cell_type": "markdown",
      "source": [
        "Here we make the labels for the art lover, 0 means he likes the image and 1 means that he doesn't like it. We convert the labels into the one hot encoding becuase we want to use two outputs in our network."
      ]
    },
    {
      "metadata": {
        "id": "41-L5hM8S_ZP",
        "colab_type": "code",
        "colab": {}
      },
      "cell_type": "code",
      "source": [
        "# create class labels\n",
        "y = np.array([[0],[1]])\n",
        "Y_train = np.repeat(y, num_images_train //2)\n",
        "Y_val = np.repeat(y, num_images_train //2)\n",
        "\n",
        "# one-hot-encoding\n",
        "Y_train=to_categorical(Y_train,2)\n",
        "Y_val=to_categorical(Y_val,2)"
      ],
      "execution_count": 0,
      "outputs": []
    },
    {
      "metadata": {
        "id": "uZpr0h-VvatF",
        "colab_type": "text"
      },
      "cell_type": "markdown",
      "source": [
        "## Defining the CNN to predict which images the art lover likes\n",
        "\n",
        "Here we define the kind of special architecture of the CNN: \n",
        "\n",
        ">we use only one kernel with a size of 5x5 pixels  \n",
        ">then we apply a linar activation function\n",
        ">the maxpooling layer takes the maximum of the whole activation map to predict the probability (output layer with softmax) if the art lover will like the image\n",
        "\n",
        "as loss we use the categorical_crossentropy and we train for 20 epochs with a batchsize of 64 images per update.\n"
      ]
    },
    {
      "metadata": {
        "id": "1Dfg1h2rUifd",
        "colab_type": "code",
        "colab": {}
      },
      "cell_type": "code",
      "source": [
        "model = Sequential()\n",
        "\n",
        "model.add(Convolution2D(1,(5,5),padding='same',input_shape=(pixel,pixel,1)))\n",
        "model.add(Activation('linear'))\n",
        "\n",
        "# take the max over all values in the activation map\n",
        "model.add(MaxPooling2D(pool_size=(pixel,pixel)))\n",
        "model.add(Flatten()) \n",
        "model.add(Dense(2))\n",
        "model.add(Activation('softmax'))\n",
        "\n",
        "# compile model and initialize weights\n",
        "model.compile(loss='categorical_crossentropy',\n",
        "              optimizer='adam',\n",
        "              metrics=['accuracy'])\n"
      ],
      "execution_count": 0,
      "outputs": []
    },
    {
      "metadata": {
        "id": "r6eqV0TRU0_n",
        "colab_type": "code",
        "outputId": "e0559dc9-ae2c-4cb7-b88c-fc69c0d769dc",
        "colab": {
          "base_uri": "https://localhost:8080/",
          "height": 345
        }
      },
      "cell_type": "code",
      "source": [
        "# let's summarize the CNN architectures along with the number of model weights\n",
        "model.summary()\n"
      ],
      "execution_count": 7,
      "outputs": [
        {
          "output_type": "stream",
          "text": [
            "_________________________________________________________________\n",
            "Layer (type)                 Output Shape              Param #   \n",
            "=================================================================\n",
            "conv2d_1 (Conv2D)            (None, 50, 50, 1)         26        \n",
            "_________________________________________________________________\n",
            "activation_1 (Activation)    (None, 50, 50, 1)         0         \n",
            "_________________________________________________________________\n",
            "max_pooling2d_1 (MaxPooling2 (None, 1, 1, 1)           0         \n",
            "_________________________________________________________________\n",
            "flatten_1 (Flatten)          (None, 1)                 0         \n",
            "_________________________________________________________________\n",
            "dense_1 (Dense)              (None, 2)                 4         \n",
            "_________________________________________________________________\n",
            "activation_2 (Activation)    (None, 2)                 0         \n",
            "=================================================================\n",
            "Total params: 30\n",
            "Trainable params: 30\n",
            "Non-trainable params: 0\n",
            "_________________________________________________________________\n"
          ],
          "name": "stdout"
        }
      ]
    },
    {
      "metadata": {
        "id": "Sc-BYd8kVCx0",
        "colab_type": "code",
        "outputId": "32e8f6cd-59cd-448a-da15-9dc549f836aa",
        "colab": {
          "base_uri": "https://localhost:8080/",
          "height": 1762
        }
      },
      "cell_type": "code",
      "source": [
        "# train the model\n",
        "history=model.fit(X_train, Y_train,\n",
        "                  validation_data=(X_val,Y_val),\n",
        "                  batch_size=64, \n",
        "                  epochs=50,\n",
        "                  verbose=1,\n",
        "                  shuffle=True) "
      ],
      "execution_count": 8,
      "outputs": [
        {
          "output_type": "stream",
          "text": [
            "Train on 1000 samples, validate on 1000 samples\n",
            "Epoch 1/50\n",
            "1000/1000 [==============================] - 1s 1ms/step - loss: 0.8085 - acc: 0.5000 - val_loss: 0.7817 - val_acc: 0.5000\n",
            "Epoch 2/50\n",
            "1000/1000 [==============================] - 0s 150us/step - loss: 0.7677 - acc: 0.5000 - val_loss: 0.7452 - val_acc: 0.5000\n",
            "Epoch 3/50\n",
            "1000/1000 [==============================] - 0s 149us/step - loss: 0.7327 - acc: 0.5000 - val_loss: 0.7134 - val_acc: 0.5000\n",
            "Epoch 4/50\n",
            "1000/1000 [==============================] - 0s 150us/step - loss: 0.7035 - acc: 0.5000 - val_loss: 0.6865 - val_acc: 0.5000\n",
            "Epoch 5/50\n",
            "1000/1000 [==============================] - 0s 170us/step - loss: 0.6782 - acc: 0.5000 - val_loss: 0.6631 - val_acc: 0.5000\n",
            "Epoch 6/50\n",
            "1000/1000 [==============================] - 0s 154us/step - loss: 0.6555 - acc: 0.5000 - val_loss: 0.6420 - val_acc: 0.5000\n",
            "Epoch 7/50\n",
            "1000/1000 [==============================] - 0s 156us/step - loss: 0.6344 - acc: 0.5320 - val_loss: 0.6219 - val_acc: 0.5760\n",
            "Epoch 8/50\n",
            "1000/1000 [==============================] - 0s 149us/step - loss: 0.6142 - acc: 0.5660 - val_loss: 0.6027 - val_acc: 0.6140\n",
            "Epoch 9/50\n",
            "1000/1000 [==============================] - 0s 152us/step - loss: 0.5953 - acc: 0.6580 - val_loss: 0.5847 - val_acc: 0.7260\n",
            "Epoch 10/50\n",
            "1000/1000 [==============================] - 0s 150us/step - loss: 0.5772 - acc: 0.8320 - val_loss: 0.5675 - val_acc: 0.9160\n",
            "Epoch 11/50\n",
            "1000/1000 [==============================] - 0s 164us/step - loss: 0.5596 - acc: 0.9190 - val_loss: 0.5506 - val_acc: 0.9530\n",
            "Epoch 12/50\n",
            "1000/1000 [==============================] - 0s 152us/step - loss: 0.5423 - acc: 0.9720 - val_loss: 0.5342 - val_acc: 0.9690\n",
            "Epoch 13/50\n",
            "1000/1000 [==============================] - 0s 153us/step - loss: 0.5254 - acc: 0.9760 - val_loss: 0.5178 - val_acc: 0.9710\n",
            "Epoch 14/50\n",
            "1000/1000 [==============================] - 0s 150us/step - loss: 0.5085 - acc: 0.9810 - val_loss: 0.5012 - val_acc: 0.9790\n",
            "Epoch 15/50\n",
            "1000/1000 [==============================] - 0s 149us/step - loss: 0.4914 - acc: 0.9890 - val_loss: 0.4844 - val_acc: 0.9860\n",
            "Epoch 16/50\n",
            "1000/1000 [==============================] - 0s 152us/step - loss: 0.4743 - acc: 0.9950 - val_loss: 0.4675 - val_acc: 0.9950\n",
            "Epoch 17/50\n",
            "1000/1000 [==============================] - 0s 152us/step - loss: 0.4572 - acc: 1.0000 - val_loss: 0.4508 - val_acc: 0.9960\n",
            "Epoch 18/50\n",
            "1000/1000 [==============================] - 0s 166us/step - loss: 0.4402 - acc: 1.0000 - val_loss: 0.4341 - val_acc: 0.9970\n",
            "Epoch 19/50\n",
            "1000/1000 [==============================] - 0s 153us/step - loss: 0.4231 - acc: 1.0000 - val_loss: 0.4175 - val_acc: 0.9970\n",
            "Epoch 20/50\n",
            "1000/1000 [==============================] - 0s 151us/step - loss: 0.4062 - acc: 1.0000 - val_loss: 0.4013 - val_acc: 0.9970\n",
            "Epoch 21/50\n",
            "1000/1000 [==============================] - 0s 154us/step - loss: 0.3898 - acc: 1.0000 - val_loss: 0.3854 - val_acc: 0.9990\n",
            "Epoch 22/50\n",
            "1000/1000 [==============================] - 0s 149us/step - loss: 0.3738 - acc: 1.0000 - val_loss: 0.3699 - val_acc: 0.9990\n",
            "Epoch 23/50\n",
            "1000/1000 [==============================] - 0s 155us/step - loss: 0.3580 - acc: 1.0000 - val_loss: 0.3549 - val_acc: 1.0000\n",
            "Epoch 24/50\n",
            "1000/1000 [==============================] - 0s 149us/step - loss: 0.3427 - acc: 1.0000 - val_loss: 0.3403 - val_acc: 1.0000\n",
            "Epoch 25/50\n",
            "1000/1000 [==============================] - 0s 168us/step - loss: 0.3279 - acc: 1.0000 - val_loss: 0.3260 - val_acc: 1.0000\n",
            "Epoch 26/50\n",
            "1000/1000 [==============================] - 0s 151us/step - loss: 0.3133 - acc: 1.0000 - val_loss: 0.3101 - val_acc: 1.0000\n",
            "Epoch 27/50\n",
            "1000/1000 [==============================] - 0s 150us/step - loss: 0.2938 - acc: 1.0000 - val_loss: 0.2888 - val_acc: 1.0000\n",
            "Epoch 28/50\n",
            "1000/1000 [==============================] - 0s 151us/step - loss: 0.2732 - acc: 1.0000 - val_loss: 0.2699 - val_acc: 1.0000\n",
            "Epoch 29/50\n",
            "1000/1000 [==============================] - 0s 151us/step - loss: 0.2552 - acc: 1.0000 - val_loss: 0.2533 - val_acc: 1.0000\n",
            "Epoch 30/50\n",
            "1000/1000 [==============================] - 0s 151us/step - loss: 0.2393 - acc: 1.0000 - val_loss: 0.2382 - val_acc: 1.0000\n",
            "Epoch 31/50\n",
            "1000/1000 [==============================] - 0s 160us/step - loss: 0.2247 - acc: 1.0000 - val_loss: 0.2246 - val_acc: 1.0000\n",
            "Epoch 32/50\n",
            "1000/1000 [==============================] - 0s 169us/step - loss: 0.2114 - acc: 1.0000 - val_loss: 0.2120 - val_acc: 1.0000\n",
            "Epoch 33/50\n",
            "1000/1000 [==============================] - 0s 151us/step - loss: 0.1993 - acc: 1.0000 - val_loss: 0.2004 - val_acc: 1.0000\n",
            "Epoch 34/50\n",
            "1000/1000 [==============================] - 0s 157us/step - loss: 0.1881 - acc: 1.0000 - val_loss: 0.1897 - val_acc: 1.0000\n",
            "Epoch 35/50\n",
            "1000/1000 [==============================] - 0s 152us/step - loss: 0.1778 - acc: 1.0000 - val_loss: 0.1797 - val_acc: 1.0000\n",
            "Epoch 36/50\n",
            "1000/1000 [==============================] - 0s 156us/step - loss: 0.1683 - acc: 1.0000 - val_loss: 0.1704 - val_acc: 1.0000\n",
            "Epoch 37/50\n",
            "1000/1000 [==============================] - 0s 152us/step - loss: 0.1594 - acc: 1.0000 - val_loss: 0.1617 - val_acc: 1.0000\n",
            "Epoch 38/50\n",
            "1000/1000 [==============================] - 0s 171us/step - loss: 0.1511 - acc: 1.0000 - val_loss: 0.1536 - val_acc: 1.0000\n",
            "Epoch 39/50\n",
            "1000/1000 [==============================] - 0s 151us/step - loss: 0.1433 - acc: 1.0000 - val_loss: 0.1461 - val_acc: 1.0000\n",
            "Epoch 40/50\n",
            "1000/1000 [==============================] - 0s 155us/step - loss: 0.1361 - acc: 1.0000 - val_loss: 0.1390 - val_acc: 1.0000\n",
            "Epoch 41/50\n",
            "1000/1000 [==============================] - 0s 151us/step - loss: 0.1294 - acc: 1.0000 - val_loss: 0.1324 - val_acc: 1.0000\n",
            "Epoch 42/50\n",
            "1000/1000 [==============================] - 0s 151us/step - loss: 0.1231 - acc: 1.0000 - val_loss: 0.1262 - val_acc: 1.0000\n",
            "Epoch 43/50\n",
            "1000/1000 [==============================] - 0s 151us/step - loss: 0.1172 - acc: 1.0000 - val_loss: 0.1204 - val_acc: 1.0000\n",
            "Epoch 44/50\n",
            "1000/1000 [==============================] - 0s 161us/step - loss: 0.1117 - acc: 1.0000 - val_loss: 0.1149 - val_acc: 1.0000\n",
            "Epoch 45/50\n",
            "1000/1000 [==============================] - 0s 152us/step - loss: 0.1065 - acc: 1.0000 - val_loss: 0.1098 - val_acc: 1.0000\n",
            "Epoch 46/50\n",
            "1000/1000 [==============================] - 0s 153us/step - loss: 0.1017 - acc: 1.0000 - val_loss: 0.1050 - val_acc: 1.0000\n",
            "Epoch 47/50\n",
            "1000/1000 [==============================] - 0s 152us/step - loss: 0.0972 - acc: 1.0000 - val_loss: 0.1008 - val_acc: 1.0000\n",
            "Epoch 48/50\n",
            "1000/1000 [==============================] - 0s 151us/step - loss: 0.0932 - acc: 1.0000 - val_loss: 0.0967 - val_acc: 1.0000\n",
            "Epoch 49/50\n",
            "1000/1000 [==============================] - 0s 155us/step - loss: 0.0894 - acc: 1.0000 - val_loss: 0.0930 - val_acc: 1.0000\n",
            "Epoch 50/50\n",
            "1000/1000 [==============================] - 0s 152us/step - loss: 0.0858 - acc: 1.0000 - val_loss: 0.0894 - val_acc: 1.0000\n"
          ],
          "name": "stdout"
        }
      ]
    },
    {
      "metadata": {
        "id": "fK_AAAoiQtlc",
        "colab_type": "code",
        "outputId": "15200b71-9b91-483a-efb8-0c29a2126dcd",
        "colab": {
          "base_uri": "https://localhost:8080/",
          "height": 427
        }
      },
      "cell_type": "code",
      "source": [
        "# plot the development of the accuracy and loss during training\n",
        "plt.figure(figsize=(12,4))\n",
        "plt.subplot(1,2,(1))\n",
        "plt.plot(history.history['acc'],linestyle='-.')\n",
        "plt.plot(history.history['val_acc'])\n",
        "plt.title('model accuracy')\n",
        "plt.ylabel('accuracy')\n",
        "plt.xlabel('epoch')\n",
        "plt.legend(['train', 'valid'], loc='lower right')\n",
        "plt.subplot(1,2,(2))\n",
        "plt.plot(history.history['loss'],linestyle='-.')\n",
        "plt.plot(history.history['val_loss'])\n",
        "plt.title('model loss')\n",
        "plt.ylabel('loss')\n",
        "plt.xlabel('epoch')\n",
        "plt.legend(['train', 'valid'], loc='upper right')"
      ],
      "execution_count": 9,
      "outputs": [
        {
          "output_type": "execute_result",
          "data": {
            "text/plain": [
              "<matplotlib.legend.Legend at 0x7f8eb49f8978>"
            ]
          },
          "metadata": {
            "tags": []
          },
          "execution_count": 9
        },
        {
          "output_type": "display_data",
          "data": {
            "image/png": "[encoded data removed]",
            "text/plain": [
              "<Figure size 1200x400 with 2 Axes>"
            ]
          },
          "metadata": {
            "tags": []
          }
        }
      ]
    },
    {
      "metadata": {
        "id": "uOwR3Esbw8eN",
        "colab_type": "text"
      },
      "cell_type": "markdown",
      "source": [
        "### Visualize the learned kernel and experiment with the code\n",
        "\n",
        "You see that the CNN performs very good at this task (100% accuracy). We can check which pattern is recognized by the learned kernel and see if you think that this is helpful to distinguish between images with horizontal and vertical edges. \n"
      ]
    },
    {
      "metadata": {
        "id": "pl1yuAddVRnE",
        "colab_type": "code",
        "outputId": "cf7c49e6-0881-4480-f037-c8f79dfe10f9",
        "colab": {
          "base_uri": "https://localhost:8080/",
          "height": 451
        }
      },
      "cell_type": "code",
      "source": [
        "# get the leared weights and display them as image\n",
        "conv_filter=model.get_weights()[0]\n",
        "conv_filter.shape\n",
        "conv_filter=np.squeeze(conv_filter, axis=2)\n",
        "plt.imshow(conv_filter[:,:,0],\"gray\")"
      ],
      "execution_count": 10,
      "outputs": [
        {
          "output_type": "execute_result",
          "data": {
            "text/plain": [
              "<matplotlib.image.AxesImage at 0x7f8eb4937160>"
            ]
          },
          "metadata": {
            "tags": []
          },
          "execution_count": 10
        },
        {
          "output_type": "display_data",
          "data": {
            "image/png": "[encoded data removed]",
            "text/plain": [
              "<Figure size 640x480 with 1 Axes>"
            ]
          },
          "metadata": {
            "tags": []
          }
        }
      ]
    },
    {
      "metadata": {
        "id": "U4gnnlAPp_Q2",
        "colab_type": "text"
      },
      "cell_type": "markdown",
      "source": [
        "####Repeat the training and exerpiment with the kernelsite and activation function.<img src=\"https://raw.githubusercontent.com/tensorchiefs/dl_book/master/imgs/paper-pen.png\" width=\"60\" align=\"left\" />\n",
        "*Exercise: Repeat the compiling and training for several times and check if the CNN always learns the same kernel. \n",
        "You can experiment with the code and check what happens if you use another kernel size, activation function (relu instead of linear ) or pooling method AveragePooling instead of MaxPooling.  \n",
        "Try to make a prediction before doing the experiment.*\n",
        "\n",
        "\n"
      ]
    }
  ]
}