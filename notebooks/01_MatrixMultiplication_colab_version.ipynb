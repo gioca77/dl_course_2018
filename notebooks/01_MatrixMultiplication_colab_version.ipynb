{
  "nbformat": 4,
  "nbformat_minor": 0,
  "metadata": {
    "colab": {
      "name": "01_MatrixMultiplication_solution.ipynb",
      "version": "0.3.2",
      "provenance": []
    },
    "kernelspec": {
      "display_name": "Python 3",
      "language": "python",
      "name": "python3"
    }
  },
  "cells": [
    {
      "metadata": {
        "id": "86obAcecTFrF",
        "colab_type": "text"
      },
      "cell_type": "markdown",
      "source": [
        "#### Matrix Multiplication (numpy)\n"
      ]
    },
    {
      "metadata": {
        "id": "7ludm3ZhTFrI",
        "colab_type": "code",
        "colab": {}
      },
      "cell_type": "code",
      "source": [
        "import numpy as np\n",
        "m1 = np.array([[3, 3]])\n",
        "m2 = np.array([[2],[2]])\n",
        "10 * np.matmul(m1,m2)"
      ],
      "execution_count": 0,
      "outputs": []
    },
    {
      "metadata": {
        "id": "zzL9IwIfTFrX",
        "colab_type": "text"
      },
      "cell_type": "markdown",
      "source": [
        "#### Matrix Multiplication (tensorflow)\n",
        "\n",
        "#### Construction of the graph\n",
        "\n",
        "As a first step, we construct a graph with just decribes the computations on a \"symbolic level\". A graph usually does not contain any values. Here we added values a constant to graphs. Usually you would not define any values as constants but feed them into the graph, see later."
      ]
    },
    {
      "metadata": {
        "id": "9o8CL_HlTFrZ",
        "colab_type": "code",
        "colab": {}
      },
      "cell_type": "code",
      "source": [
        "import tensorflow as tf\n",
        "# We construct a graph (we write to the default graph)\n",
        "# make first sure the default graph is empty\n",
        "tf.reset_default_graph()\n",
        "m1 = tf.constant([[3, 3]], name='M1')\n",
        "m2 = tf.constant([[2],[2]], name='M2')\n",
        "product = 10 * tf.matmul(m1,m2)"
      ],
      "execution_count": 0,
      "outputs": []
    },
    {
      "metadata": {
        "id": "yXSFV3IHTFrh",
        "colab_type": "text"
      },
      "cell_type": "markdown",
      "source": [
        "Now we start a session. A session allows to execute the graph (or part of it). In a session the memory are alloced on possibily different devices (such as cpu1, cpu2 or cpu1). The session hold the values and intermediate results."
      ]
    },
    {
      "metadata": {
        "id": "2MG1fH2vTFrj",
        "colab_type": "code",
        "colab": {}
      },
      "cell_type": "code",
      "source": [
        "sess = tf.Session()\n",
        "res = sess.run(product)\n",
        "print(res)\n",
        "# We store the graph to inspect it in tensorboard later\n",
        "writer = tf.summary.FileWriter(\"/tmp/matrixmultiplication\", sess.graph) \n",
        "writer.close()\n",
        "sess.close()"
      ],
      "execution_count": 0,
      "outputs": []
    },
    {
      "metadata": {
        "id": "ACSp82t6QilK",
        "colab_type": "code",
        "colab": {}
      },
      "cell_type": "code",
      "source": [
        "!ls /tmp/matrixmultiplication"
      ],
      "execution_count": 0,
      "outputs": []
    },
    {
      "metadata": {
        "colab_type": "text",
        "id": "uilwX07SqYdZ"
      },
      "cell_type": "markdown",
      "source": [
        "#### Displaying the computational graph in TensorBord with colab\n",
        "\n",
        "If you are using colab, it's currently (november 2018), there is no straight forward way to show the graph in TensorBoard. However, there is the possibility to tunnel from colab to your local machine. See  https://www.dlology.com/blog/quick-guide-to-run-tensorboard-in-google-colab/ or https://stackoverflow.com/questions/47818822/can-i-use-tensorboard-with-google-colab. We will need to install some things, just run the next 3 cells."
      ]
    },
    {
      "metadata": {
        "colab_type": "code",
        "id": "B2xS6LEKtOsJ",
        "colab": {}
      },
      "cell_type": "code",
      "source": [
        "! wget https://bin.equinox.io/c/4VmDzA7iaHb/ngrok-stable-linux-amd64.zip\n",
        "! unzip ngrok-stable-linux-amd64.zip"
      ],
      "execution_count": 0,
      "outputs": []
    },
    {
      "metadata": {
        "colab_type": "code",
        "id": "HN3DkrjIqNO7",
        "colab": {}
      },
      "cell_type": "code",
      "source": [
        "# Start Tensor Board\n",
        "LOG_DIR = '/tmp/matrixmultiplication'\n",
        "get_ipython().system_raw(\n",
        "    'tensorboard --logdir {} --host 0.0.0.0 --port 6006 &'\n",
        "    .format(LOG_DIR)\n",
        ")"
      ],
      "execution_count": 0,
      "outputs": []
    },
    {
      "metadata": {
        "id": "qe9dgqR2Tng8",
        "colab_type": "text"
      },
      "cell_type": "markdown",
      "source": [
        "Now you can click on the link below and a new window will open where you can see the computational graph in Tensorboard\n",
        "\n"
      ]
    },
    {
      "metadata": {
        "colab_type": "code",
        "id": "FhTdQQr2tL6W",
        "colab": {}
      },
      "cell_type": "code",
      "source": [
        "# Start the tunnel\n",
        "get_ipython().system_raw('./ngrok http 6006 &')\n",
        "\n",
        "# Tell the ip so that one can click on it\n",
        "! curl -s http://localhost:4040/api/tunnels | python3 -c \\\n",
        "    \"import sys, json; print(json.load(sys.stdin)['tunnels'][0]['public_url'])\""
      ],
      "execution_count": 0,
      "outputs": []
    },
    {
      "metadata": {
        "collapsed": true,
        "id": "zlyDPGnYTFr1",
        "colab_type": "text"
      },
      "cell_type": "markdown",
      "source": [
        "#### Matrix Multiplication Feeding\n",
        "\n",
        "Instead of the matrix m2 use a placefolder to feed-in values. You must specify the shape of the m2 matrix (rows, columns). "
      ]
    },
    {
      "metadata": {
        "id": "mUhxZyPITFr3",
        "colab_type": "code",
        "colab": {}
      },
      "cell_type": "code",
      "source": [
        "tf.reset_default_graph()\n",
        "m1 = tf.constant([[3., 3.]], name='M1')\n",
        "m2 = tf.placeholder('float32', shape=...) #Provide the correct dimensions\n",
        "product = 10*tf.matmul(m1,m2)"
      ],
      "execution_count": 0,
      "outputs": []
    },
    {
      "metadata": {
        "id": "4biEz20pTFr8",
        "colab_type": "code",
        "colab": {}
      },
      "cell_type": "code",
      "source": [
        "sess = tf.Session()\n",
        "val_m2 = np.array([[2.],[3.]])\n",
        "res = sess.run(fetches=..., feed_dict=...) #Provide the correct feed-dictionary\n",
        "print(res)\n",
        "sess.close()"
      ],
      "execution_count": 0,
      "outputs": []
    }
  ]
}